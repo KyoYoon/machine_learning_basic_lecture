{
  "nbformat": 4,
  "nbformat_minor": 0,
  "metadata": {
    "kernelspec": {
      "display_name": "Python 3",
      "language": "python",
      "name": "python3"
    },
    "language_info": {
      "codemirror_mode": {
        "name": "ipython",
        "version": 3
      },
      "file_extension": ".py",
      "mimetype": "text/x-python",
      "name": "python",
      "nbconvert_exporter": "python",
      "pygments_lexer": "ipython3",
      "version": "3.5.2"
    },
    "colab": {
      "name": "EndtoEnd code for Predictive model.ipynb",
      "provenance": [],
      "collapsed_sections": [
        "SwOTMb9O-dHi",
        "Cp4R6qk--dH3",
        "L8zVgLPA-dIO",
        "eZt6fJE0-dIZ",
        "H_K1nHxP-dIl",
        "B4uwD20X-dI0",
        "pdq2IwBK-dJO",
        "sxVah_IO-dJa",
        "xW5mh2la-dJk",
        "5RLYpfWu-dJ2",
        "NFn1569Y-dKP",
        "ZE5DKnEe-dKo",
        "ODIWbrIy-dK7",
        "3VRGMyCB-dLI",
        "QVI-1YCt-dLq",
        "py2gzRpb-dL2",
        "_2FVBGMj-dMJ",
        "BmcTCYyS-dMn",
        "e3q2q7ak-dNE"
      ]
    }
  },
  "cells": [
    {
      "cell_type": "code",
      "metadata": {
        "id": "BJiSJ1OkKcmH",
        "colab_type": "code",
        "colab": {}
      },
      "source": [
        "# Reference: https://github.com/Sundar0989/EndtoEnd---Predictive-modeling-using-Python/blob/master/EndtoEnd%20code%20for%20Predictive%20model.ipynb "
      ],
      "execution_count": 0,
      "outputs": []
    },
    {
      "cell_type": "markdown",
      "metadata": {
        "id": "t-MYnR4t-dFV",
        "colab_type": "text"
      },
      "source": [
        "# 1. Load Dataset"
      ]
    },
    {
      "cell_type": "code",
      "metadata": {
        "id": "8JHFor31-jWg",
        "colab_type": "code",
        "colab": {
          "base_uri": "https://localhost:8080/",
          "height": 122
        },
        "outputId": "afaf52ee-92e8-49e4-9de6-e405876e6970"
      },
      "source": [
        "from google.colab import drive \n",
        "drive.mount('/content/gdrive/')\n",
        "\n",
        "# /content/gdrive/My Drive/AI/dataset/bank_data/bank.xlsx"
      ],
      "execution_count": 1,
      "outputs": [
        {
          "output_type": "stream",
          "text": [
            "Go to this URL in a browser: https://accounts.google.com/o/oauth2/auth?client_id=947318989803-6bn6qk8qdgf4n4g3pfee6491hc0brc4i.apps.googleusercontent.com&redirect_uri=urn%3aietf%3awg%3aoauth%3a2.0%3aoob&response_type=code&scope=email%20https%3a%2f%2fwww.googleapis.com%2fauth%2fdocs.test%20https%3a%2f%2fwww.googleapis.com%2fauth%2fdrive%20https%3a%2f%2fwww.googleapis.com%2fauth%2fdrive.photos.readonly%20https%3a%2f%2fwww.googleapis.com%2fauth%2fpeopleapi.readonly\n",
            "\n",
            "Enter your authorization code:\n",
            "··········\n",
            "Mounted at /content/gdrive/\n"
          ],
          "name": "stdout"
        }
      ]
    },
    {
      "cell_type": "code",
      "metadata": {
        "id": "Rq10R837-dFb",
        "colab_type": "code",
        "colab": {}
      },
      "source": [
        "import pandas as pd\n",
        "import numpy as np\n",
        "\n",
        "df = pd.read_excel(\"/content/gdrive/My Drive/AI/dataset/bank_data/bank.xlsx\")"
      ],
      "execution_count": 0,
      "outputs": []
    },
    {
      "cell_type": "code",
      "metadata": {
        "id": "pqZRT6ZN-dFr",
        "colab_type": "code",
        "colab": {
          "base_uri": "https://localhost:8080/",
          "height": 204
        },
        "outputId": "02a01890-48e6-4a8e-8608-180e771d529f"
      },
      "source": [
        "df.head()"
      ],
      "execution_count": 3,
      "outputs": [
        {
          "output_type": "execute_result",
          "data": {
            "text/html": [
              "<div>\n",
              "<style scoped>\n",
              "    .dataframe tbody tr th:only-of-type {\n",
              "        vertical-align: middle;\n",
              "    }\n",
              "\n",
              "    .dataframe tbody tr th {\n",
              "        vertical-align: top;\n",
              "    }\n",
              "\n",
              "    .dataframe thead th {\n",
              "        text-align: right;\n",
              "    }\n",
              "</style>\n",
              "<table border=\"1\" class=\"dataframe\">\n",
              "  <thead>\n",
              "    <tr style=\"text-align: right;\">\n",
              "      <th></th>\n",
              "      <th>age</th>\n",
              "      <th>job</th>\n",
              "      <th>marital</th>\n",
              "      <th>education</th>\n",
              "      <th>default</th>\n",
              "      <th>balance</th>\n",
              "      <th>housing</th>\n",
              "      <th>loan</th>\n",
              "      <th>contact</th>\n",
              "      <th>day</th>\n",
              "      <th>month</th>\n",
              "      <th>duration</th>\n",
              "      <th>campaign</th>\n",
              "      <th>pdays</th>\n",
              "      <th>previous</th>\n",
              "      <th>poutcome</th>\n",
              "      <th>y</th>\n",
              "    </tr>\n",
              "  </thead>\n",
              "  <tbody>\n",
              "    <tr>\n",
              "      <th>0</th>\n",
              "      <td>30</td>\n",
              "      <td>unemployed</td>\n",
              "      <td>married</td>\n",
              "      <td>primary</td>\n",
              "      <td>no</td>\n",
              "      <td>1787</td>\n",
              "      <td>no</td>\n",
              "      <td>no</td>\n",
              "      <td>cellular</td>\n",
              "      <td>19</td>\n",
              "      <td>oct</td>\n",
              "      <td>79</td>\n",
              "      <td>1</td>\n",
              "      <td>-1</td>\n",
              "      <td>0</td>\n",
              "      <td>unknown</td>\n",
              "      <td>no</td>\n",
              "    </tr>\n",
              "    <tr>\n",
              "      <th>1</th>\n",
              "      <td>33</td>\n",
              "      <td>services</td>\n",
              "      <td>married</td>\n",
              "      <td>secondary</td>\n",
              "      <td>no</td>\n",
              "      <td>4789</td>\n",
              "      <td>yes</td>\n",
              "      <td>yes</td>\n",
              "      <td>cellular</td>\n",
              "      <td>11</td>\n",
              "      <td>may</td>\n",
              "      <td>220</td>\n",
              "      <td>1</td>\n",
              "      <td>339</td>\n",
              "      <td>4</td>\n",
              "      <td>failure</td>\n",
              "      <td>no</td>\n",
              "    </tr>\n",
              "    <tr>\n",
              "      <th>2</th>\n",
              "      <td>35</td>\n",
              "      <td>management</td>\n",
              "      <td>single</td>\n",
              "      <td>tertiary</td>\n",
              "      <td>no</td>\n",
              "      <td>1350</td>\n",
              "      <td>yes</td>\n",
              "      <td>no</td>\n",
              "      <td>cellular</td>\n",
              "      <td>16</td>\n",
              "      <td>apr</td>\n",
              "      <td>185</td>\n",
              "      <td>1</td>\n",
              "      <td>330</td>\n",
              "      <td>1</td>\n",
              "      <td>failure</td>\n",
              "      <td>no</td>\n",
              "    </tr>\n",
              "    <tr>\n",
              "      <th>3</th>\n",
              "      <td>30</td>\n",
              "      <td>management</td>\n",
              "      <td>married</td>\n",
              "      <td>tertiary</td>\n",
              "      <td>no</td>\n",
              "      <td>1476</td>\n",
              "      <td>yes</td>\n",
              "      <td>yes</td>\n",
              "      <td>unknown</td>\n",
              "      <td>3</td>\n",
              "      <td>jun</td>\n",
              "      <td>199</td>\n",
              "      <td>4</td>\n",
              "      <td>-1</td>\n",
              "      <td>0</td>\n",
              "      <td>unknown</td>\n",
              "      <td>no</td>\n",
              "    </tr>\n",
              "    <tr>\n",
              "      <th>4</th>\n",
              "      <td>59</td>\n",
              "      <td>blue-collar</td>\n",
              "      <td>married</td>\n",
              "      <td>secondary</td>\n",
              "      <td>no</td>\n",
              "      <td>0</td>\n",
              "      <td>yes</td>\n",
              "      <td>no</td>\n",
              "      <td>unknown</td>\n",
              "      <td>5</td>\n",
              "      <td>may</td>\n",
              "      <td>226</td>\n",
              "      <td>1</td>\n",
              "      <td>-1</td>\n",
              "      <td>0</td>\n",
              "      <td>unknown</td>\n",
              "      <td>no</td>\n",
              "    </tr>\n",
              "  </tbody>\n",
              "</table>\n",
              "</div>"
            ],
            "text/plain": [
              "   age          job  marital  education  ... pdays  previous poutcome   y\n",
              "0   30   unemployed  married    primary  ...    -1         0  unknown  no\n",
              "1   33     services  married  secondary  ...   339         4  failure  no\n",
              "2   35   management   single   tertiary  ...   330         1  failure  no\n",
              "3   30   management  married   tertiary  ...    -1         0  unknown  no\n",
              "4   59  blue-collar  married  secondary  ...    -1         0  unknown  no\n",
              "\n",
              "[5 rows x 17 columns]"
            ]
          },
          "metadata": {
            "tags": []
          },
          "execution_count": 3
        }
      ]
    },
    {
      "cell_type": "code",
      "metadata": {
        "scrolled": true,
        "id": "7bGoLWvQ-dF8",
        "colab_type": "code",
        "colab": {
          "base_uri": "https://localhost:8080/",
          "height": 391
        },
        "outputId": "1027bfdd-48b7-4826-9991-c91178e90ec3"
      },
      "source": [
        "df.info()"
      ],
      "execution_count": 4,
      "outputs": [
        {
          "output_type": "stream",
          "text": [
            "<class 'pandas.core.frame.DataFrame'>\n",
            "RangeIndex: 4521 entries, 0 to 4520\n",
            "Data columns (total 17 columns):\n",
            "age          4521 non-null int64\n",
            "job          4521 non-null object\n",
            "marital      4521 non-null object\n",
            "education    4521 non-null object\n",
            "default      4521 non-null object\n",
            "balance      4521 non-null int64\n",
            "housing      4521 non-null object\n",
            "loan         4521 non-null object\n",
            "contact      4521 non-null object\n",
            "day          4521 non-null int64\n",
            "month        4521 non-null object\n",
            "duration     4521 non-null int64\n",
            "campaign     4521 non-null int64\n",
            "pdays        4521 non-null int64\n",
            "previous     4521 non-null int64\n",
            "poutcome     4521 non-null object\n",
            "y            4521 non-null object\n",
            "dtypes: int64(7), object(10)\n",
            "memory usage: 600.6+ KB\n"
          ],
          "name": "stdout"
        }
      ]
    },
    {
      "cell_type": "markdown",
      "metadata": {
        "id": "OL-GfRaz-dGL",
        "colab_type": "text"
      },
      "source": [
        "# 2. Convert Target to 1/0"
      ]
    },
    {
      "cell_type": "code",
      "metadata": {
        "id": "AnXbBs8g-dGP",
        "colab_type": "code",
        "colab": {}
      },
      "source": [
        "df['target'] = df['y'].apply(lambda x: 1 if x == 'yes' else 0)"
      ],
      "execution_count": 0,
      "outputs": []
    },
    {
      "cell_type": "code",
      "metadata": {
        "id": "7ntqLt3V-dGg",
        "colab_type": "code",
        "colab": {
          "base_uri": "https://localhost:8080/",
          "height": 68
        },
        "outputId": "5942117d-7b3d-42d9-d897-157c00e19f7e"
      },
      "source": [
        "df.target.value_counts()"
      ],
      "execution_count": 6,
      "outputs": [
        {
          "output_type": "execute_result",
          "data": {
            "text/plain": [
              "0    4000\n",
              "1     521\n",
              "Name: target, dtype: int64"
            ]
          },
          "metadata": {
            "tags": []
          },
          "execution_count": 6
        }
      ]
    },
    {
      "cell_type": "code",
      "metadata": {
        "id": "LF8j99lX-dGt",
        "colab_type": "code",
        "colab": {}
      },
      "source": [
        "df.drop('y',axis=1,inplace=True)"
      ],
      "execution_count": 0,
      "outputs": []
    },
    {
      "cell_type": "markdown",
      "metadata": {
        "id": "hTXgCFbM-dG6",
        "colab_type": "text"
      },
      "source": [
        "# 3. Descriptive Stats"
      ]
    },
    {
      "cell_type": "code",
      "metadata": {
        "id": "AATr0AcN-dG-",
        "colab_type": "code",
        "colab": {
          "base_uri": "https://localhost:8080/",
          "height": 68
        },
        "outputId": "c935ff72-90fc-4c6f-b999-305aead692dc"
      },
      "source": [
        "df.target.value_counts()/len(df)"
      ],
      "execution_count": 8,
      "outputs": [
        {
          "output_type": "execute_result",
          "data": {
            "text/plain": [
              "0    0.88476\n",
              "1    0.11524\n",
              "Name: target, dtype: float64"
            ]
          },
          "metadata": {
            "tags": []
          },
          "execution_count": 8
        }
      ]
    },
    {
      "cell_type": "code",
      "metadata": {
        "id": "MQloJBxE-dHI",
        "colab_type": "code",
        "colab": {
          "base_uri": "https://localhost:8080/",
          "height": 297
        },
        "outputId": "266f4aa9-f732-4cd9-c252-61c3f19ef4af"
      },
      "source": [
        "df.describe()"
      ],
      "execution_count": 9,
      "outputs": [
        {
          "output_type": "execute_result",
          "data": {
            "text/html": [
              "<div>\n",
              "<style scoped>\n",
              "    .dataframe tbody tr th:only-of-type {\n",
              "        vertical-align: middle;\n",
              "    }\n",
              "\n",
              "    .dataframe tbody tr th {\n",
              "        vertical-align: top;\n",
              "    }\n",
              "\n",
              "    .dataframe thead th {\n",
              "        text-align: right;\n",
              "    }\n",
              "</style>\n",
              "<table border=\"1\" class=\"dataframe\">\n",
              "  <thead>\n",
              "    <tr style=\"text-align: right;\">\n",
              "      <th></th>\n",
              "      <th>age</th>\n",
              "      <th>balance</th>\n",
              "      <th>day</th>\n",
              "      <th>duration</th>\n",
              "      <th>campaign</th>\n",
              "      <th>pdays</th>\n",
              "      <th>previous</th>\n",
              "      <th>target</th>\n",
              "    </tr>\n",
              "  </thead>\n",
              "  <tbody>\n",
              "    <tr>\n",
              "      <th>count</th>\n",
              "      <td>4521.000000</td>\n",
              "      <td>4521.000000</td>\n",
              "      <td>4521.000000</td>\n",
              "      <td>4521.000000</td>\n",
              "      <td>4521.000000</td>\n",
              "      <td>4521.000000</td>\n",
              "      <td>4521.000000</td>\n",
              "      <td>4521.000000</td>\n",
              "    </tr>\n",
              "    <tr>\n",
              "      <th>mean</th>\n",
              "      <td>41.170095</td>\n",
              "      <td>1422.657819</td>\n",
              "      <td>15.915284</td>\n",
              "      <td>263.961292</td>\n",
              "      <td>2.793630</td>\n",
              "      <td>39.766645</td>\n",
              "      <td>0.542579</td>\n",
              "      <td>0.115240</td>\n",
              "    </tr>\n",
              "    <tr>\n",
              "      <th>std</th>\n",
              "      <td>10.576211</td>\n",
              "      <td>3009.638142</td>\n",
              "      <td>8.247667</td>\n",
              "      <td>259.856633</td>\n",
              "      <td>3.109807</td>\n",
              "      <td>100.121124</td>\n",
              "      <td>1.693562</td>\n",
              "      <td>0.319347</td>\n",
              "    </tr>\n",
              "    <tr>\n",
              "      <th>min</th>\n",
              "      <td>19.000000</td>\n",
              "      <td>-3313.000000</td>\n",
              "      <td>1.000000</td>\n",
              "      <td>4.000000</td>\n",
              "      <td>1.000000</td>\n",
              "      <td>-1.000000</td>\n",
              "      <td>0.000000</td>\n",
              "      <td>0.000000</td>\n",
              "    </tr>\n",
              "    <tr>\n",
              "      <th>25%</th>\n",
              "      <td>33.000000</td>\n",
              "      <td>69.000000</td>\n",
              "      <td>9.000000</td>\n",
              "      <td>104.000000</td>\n",
              "      <td>1.000000</td>\n",
              "      <td>-1.000000</td>\n",
              "      <td>0.000000</td>\n",
              "      <td>0.000000</td>\n",
              "    </tr>\n",
              "    <tr>\n",
              "      <th>50%</th>\n",
              "      <td>39.000000</td>\n",
              "      <td>444.000000</td>\n",
              "      <td>16.000000</td>\n",
              "      <td>185.000000</td>\n",
              "      <td>2.000000</td>\n",
              "      <td>-1.000000</td>\n",
              "      <td>0.000000</td>\n",
              "      <td>0.000000</td>\n",
              "    </tr>\n",
              "    <tr>\n",
              "      <th>75%</th>\n",
              "      <td>49.000000</td>\n",
              "      <td>1480.000000</td>\n",
              "      <td>21.000000</td>\n",
              "      <td>329.000000</td>\n",
              "      <td>3.000000</td>\n",
              "      <td>-1.000000</td>\n",
              "      <td>0.000000</td>\n",
              "      <td>0.000000</td>\n",
              "    </tr>\n",
              "    <tr>\n",
              "      <th>max</th>\n",
              "      <td>87.000000</td>\n",
              "      <td>71188.000000</td>\n",
              "      <td>31.000000</td>\n",
              "      <td>3025.000000</td>\n",
              "      <td>50.000000</td>\n",
              "      <td>871.000000</td>\n",
              "      <td>25.000000</td>\n",
              "      <td>1.000000</td>\n",
              "    </tr>\n",
              "  </tbody>\n",
              "</table>\n",
              "</div>"
            ],
            "text/plain": [
              "               age       balance  ...     previous       target\n",
              "count  4521.000000   4521.000000  ...  4521.000000  4521.000000\n",
              "mean     41.170095   1422.657819  ...     0.542579     0.115240\n",
              "std      10.576211   3009.638142  ...     1.693562     0.319347\n",
              "min      19.000000  -3313.000000  ...     0.000000     0.000000\n",
              "25%      33.000000     69.000000  ...     0.000000     0.000000\n",
              "50%      39.000000    444.000000  ...     0.000000     0.000000\n",
              "75%      49.000000   1480.000000  ...     0.000000     0.000000\n",
              "max      87.000000  71188.000000  ...    25.000000     1.000000\n",
              "\n",
              "[8 rows x 8 columns]"
            ]
          },
          "metadata": {
            "tags": []
          },
          "execution_count": 9
        }
      ]
    },
    {
      "cell_type": "code",
      "metadata": {
        "scrolled": true,
        "id": "871UJr-w-dHM",
        "colab_type": "code",
        "colab": {
          "base_uri": "https://localhost:8080/",
          "height": 323
        },
        "outputId": "99e50ff9-a29f-4395-be4d-bdc895d15b57"
      },
      "source": [
        "df.dtypes"
      ],
      "execution_count": 10,
      "outputs": [
        {
          "output_type": "execute_result",
          "data": {
            "text/plain": [
              "age           int64\n",
              "job          object\n",
              "marital      object\n",
              "education    object\n",
              "default      object\n",
              "balance       int64\n",
              "housing      object\n",
              "loan         object\n",
              "contact      object\n",
              "day           int64\n",
              "month        object\n",
              "duration      int64\n",
              "campaign      int64\n",
              "pdays         int64\n",
              "previous      int64\n",
              "poutcome     object\n",
              "target        int64\n",
              "dtype: object"
            ]
          },
          "metadata": {
            "tags": []
          },
          "execution_count": 10
        }
      ]
    },
    {
      "cell_type": "code",
      "metadata": {
        "id": "h0ZulK_T-dHQ",
        "colab_type": "code",
        "colab": {
          "base_uri": "https://localhost:8080/",
          "height": 326
        },
        "outputId": "fb997d79-fe95-4230-ae36-d89b971aa454"
      },
      "source": [
        "import seaborn as sns\n",
        "import matplotlib.pyplot as plt\n",
        "%matplotlib inline\n",
        "corr = df.corr()\n",
        "sns.heatmap(corr, \n",
        "        xticklabels=corr.columns,\n",
        "        yticklabels=corr.columns)"
      ],
      "execution_count": 11,
      "outputs": [
        {
          "output_type": "execute_result",
          "data": {
            "text/plain": [
              "<matplotlib.axes._subplots.AxesSubplot at 0x7f4e6a57c588>"
            ]
          },
          "metadata": {
            "tags": []
          },
          "execution_count": 11
        },
        {
          "output_type": "display_data",
          "data": {
            "image/png": "[encoded data removed]",
            "text/plain": [
              "<Figure size 432x288 with 2 Axes>"
            ]
          },
          "metadata": {
            "tags": []
          }
        }
      ]
    },
    {
      "cell_type": "markdown",
      "metadata": {
        "id": "5OHDVHK5-dHT",
        "colab_type": "text"
      },
      "source": [
        "# 4. Variable Selection using Python - Vote based approach"
      ]
    },
    {
      "cell_type": "code",
      "metadata": {
        "id": "_scJ21sV-dHU",
        "colab_type": "code",
        "colab": {}
      },
      "source": [
        "# Data transformation\n",
        "# Convert categorical values to numeric using label encoder\n",
        "from sklearn import preprocessing\n",
        "from collections import defaultdict\n",
        "d = defaultdict(preprocessing.LabelEncoder)\n",
        "\n",
        "# Encoding the categorical variable\n",
        "fit = df.select_dtypes(include=['object']).fillna('NA').apply(lambda x: d[x.name].fit_transform(x))\n",
        "\n",
        "#Convert the categorical columns based on encoding\n",
        "for i in list(d.keys()):\n",
        "    df[i] = d[i].transform(df[i].fillna('NA'))"
      ],
      "execution_count": 0,
      "outputs": []
    },
    {
      "cell_type": "code",
      "metadata": {
        "id": "DVP5ofwB-dHa",
        "colab_type": "code",
        "colab": {}
      },
      "source": [
        "features = df[df.columns.difference(['target'])]\n",
        "labels = df['target']"
      ],
      "execution_count": 0,
      "outputs": []
    },
    {
      "cell_type": "code",
      "metadata": {
        "id": "KWoXdVS3-dHe",
        "colab_type": "code",
        "colab": {}
      },
      "source": [
        "features = features.fillna(0)"
      ],
      "execution_count": 0,
      "outputs": []
    },
    {
      "cell_type": "markdown",
      "metadata": {
        "id": "SwOTMb9O-dHi",
        "colab_type": "text"
      },
      "source": [
        "## 4.1 WOE and IV"
      ]
    },
    {
      "cell_type": "code",
      "metadata": {
        "id": "cbx1y4Ro-dHj",
        "colab_type": "code",
        "colab": {}
      },
      "source": [
        "# import packages\n",
        "import pandas as pd\n",
        "import numpy as np\n",
        "import pandas.core.algorithms as algos\n",
        "from pandas import Series\n",
        "import scipy.stats.stats as stats\n",
        "import re\n",
        "import traceback\n",
        "import string\n",
        "\n",
        "max_bin = 20\n",
        "force_bin = 3\n",
        "\n",
        "# define a binning function\n",
        "def mono_bin(Y, X, n = max_bin):\n",
        "    \n",
        "    df1 = pd.DataFrame({\"X\": X, \"Y\": Y})\n",
        "    justmiss = df1[['X','Y']][df1.X.isnull()]\n",
        "    notmiss = df1[['X','Y']][df1.X.notnull()]\n",
        "    r = 0\n",
        "    while np.abs(r) < 1:\n",
        "        try:\n",
        "            d1 = pd.DataFrame({\"X\": notmiss.X, \"Y\": notmiss.Y, \"Bucket\": pd.qcut(notmiss.X, n)})\n",
        "            d2 = d1.groupby('Bucket', as_index=True)\n",
        "            r, p = stats.spearmanr(d2.mean().X, d2.mean().Y)\n",
        "            n = n - 1 \n",
        "        except Exception as e:\n",
        "            n = n - 1\n",
        "\n",
        "    if len(d2) == 1:\n",
        "        n = force_bin         \n",
        "        bins = algos.quantile(notmiss.X, np.linspace(0, 1, n))\n",
        "        if len(np.unique(bins)) == 2:\n",
        "            bins = np.insert(bins, 0, 1)\n",
        "            bins[1] = bins[1]-(bins[1]/2)\n",
        "        d1 = pd.DataFrame({\"X\": notmiss.X, \"Y\": notmiss.Y, \"Bucket\": pd.cut(notmiss.X, np.unique(bins),include_lowest=True)}) \n",
        "        d2 = d1.groupby('Bucket', as_index=True)\n",
        "    \n",
        "    d3 = pd.DataFrame({},index=[])\n",
        "    d3[\"MIN_VALUE\"] = d2.min().X\n",
        "    d3[\"MAX_VALUE\"] = d2.max().X\n",
        "    d3[\"COUNT\"] = d2.count().Y\n",
        "    d3[\"EVENT\"] = d2.sum().Y\n",
        "    d3[\"NONEVENT\"] = d2.count().Y - d2.sum().Y\n",
        "    d3=d3.reset_index(drop=True)\n",
        "    \n",
        "    if len(justmiss.index) > 0:\n",
        "        d4 = pd.DataFrame({'MIN_VALUE':np.nan},index=[0])\n",
        "        d4[\"MAX_VALUE\"] = np.nan\n",
        "        d4[\"COUNT\"] = justmiss.count().Y\n",
        "        d4[\"EVENT\"] = justmiss.sum().Y\n",
        "        d4[\"NONEVENT\"] = justmiss.count().Y - justmiss.sum().Y\n",
        "        d3 = d3.append(d4,ignore_index=True)\n",
        "    \n",
        "    d3[\"EVENT_RATE\"] = d3.EVENT/d3.COUNT\n",
        "    d3[\"NON_EVENT_RATE\"] = d3.NONEVENT/d3.COUNT\n",
        "    d3[\"DIST_EVENT\"] = d3.EVENT/d3.sum().EVENT\n",
        "    d3[\"DIST_NON_EVENT\"] = d3.NONEVENT/d3.sum().NONEVENT\n",
        "    d3[\"WOE\"] = np.log(d3.DIST_EVENT/d3.DIST_NON_EVENT)\n",
        "    d3[\"IV\"] = (d3.DIST_EVENT-d3.DIST_NON_EVENT)*np.log(d3.DIST_EVENT/d3.DIST_NON_EVENT)\n",
        "    d3[\"VAR_NAME\"] = \"VAR\"\n",
        "    d3 = d3[['VAR_NAME','MIN_VALUE', 'MAX_VALUE', 'COUNT', 'EVENT', 'EVENT_RATE', 'NONEVENT', 'NON_EVENT_RATE', 'DIST_EVENT','DIST_NON_EVENT','WOE', 'IV']]       \n",
        "    d3 = d3.replace([np.inf, -np.inf], 0)\n",
        "    d3.IV = d3.IV.sum()\n",
        "    \n",
        "    return(d3)\n",
        "\n",
        "def char_bin(Y, X):\n",
        "        \n",
        "    df1 = pd.DataFrame({\"X\": X, \"Y\": Y})\n",
        "    justmiss = df1[['X','Y']][df1.X.isnull()]\n",
        "    notmiss = df1[['X','Y']][df1.X.notnull()]    \n",
        "    df2 = notmiss.groupby('X',as_index=True)\n",
        "    \n",
        "    d3 = pd.DataFrame({},index=[])\n",
        "    d3[\"COUNT\"] = df2.count().Y\n",
        "    d3[\"MIN_VALUE\"] = df2.sum().Y.index\n",
        "    d3[\"MAX_VALUE\"] = d3[\"MIN_VALUE\"]\n",
        "    d3[\"EVENT\"] = df2.sum().Y\n",
        "    d3[\"NONEVENT\"] = df2.count().Y - df2.sum().Y\n",
        "    \n",
        "    if len(justmiss.index) > 0:\n",
        "        d4 = pd.DataFrame({'MIN_VALUE':np.nan},index=[0])\n",
        "        d4[\"MAX_VALUE\"] = np.nan\n",
        "        d4[\"COUNT\"] = justmiss.count().Y\n",
        "        d4[\"EVENT\"] = justmiss.sum().Y\n",
        "        d4[\"NONEVENT\"] = justmiss.count().Y - justmiss.sum().Y\n",
        "        d3 = d3.append(d4,ignore_index=True)\n",
        "    \n",
        "    d3[\"EVENT_RATE\"] = d3.EVENT/d3.COUNT\n",
        "    d3[\"NON_EVENT_RATE\"] = d3.NONEVENT/d3.COUNT\n",
        "    d3[\"DIST_EVENT\"] = d3.EVENT/d3.sum().EVENT\n",
        "    d3[\"DIST_NON_EVENT\"] = d3.NONEVENT/d3.sum().NONEVENT\n",
        "    d3[\"WOE\"] = np.log(d3.DIST_EVENT/d3.DIST_NON_EVENT)\n",
        "    d3[\"IV\"] = (d3.DIST_EVENT-d3.DIST_NON_EVENT)*np.log(d3.DIST_EVENT/d3.DIST_NON_EVENT)\n",
        "    d3[\"VAR_NAME\"] = \"VAR\"\n",
        "    d3 = d3[['VAR_NAME','MIN_VALUE', 'MAX_VALUE', 'COUNT', 'EVENT', 'EVENT_RATE', 'NONEVENT', 'NON_EVENT_RATE', 'DIST_EVENT','DIST_NON_EVENT','WOE', 'IV']]      \n",
        "    d3 = d3.replace([np.inf, -np.inf], 0)\n",
        "    d3.IV = d3.IV.sum()\n",
        "    d3 = d3.reset_index(drop=True)\n",
        "    \n",
        "    return(d3)\n",
        "\n",
        "def data_vars(df1, target):\n",
        "    \n",
        "    stack = traceback.extract_stack()\n",
        "    filename, lineno, function_name, code = stack[-2]\n",
        "    vars_name = re.compile(r'\\((.*?)\\).*$').search(code).groups()[0]\n",
        "    final = (re.findall(r\"[\\w']+\", vars_name))[-1]\n",
        "    \n",
        "    x = df1.dtypes.index\n",
        "    count = -1\n",
        "    \n",
        "    for i in x:\n",
        "        if i.upper() not in (final.upper()):\n",
        "            if np.issubdtype(df1[i], np.number) and len(Series.unique(df1[i])) > 2:\n",
        "                conv = mono_bin(target, df1[i])\n",
        "                conv[\"VAR_NAME\"] = i\n",
        "                count = count + 1\n",
        "            else:\n",
        "                conv = char_bin(target, df1[i])\n",
        "                conv[\"VAR_NAME\"] = i            \n",
        "                count = count + 1\n",
        "                \n",
        "            if count == 0:\n",
        "                iv_df = conv\n",
        "            else:\n",
        "                iv_df = iv_df.append(conv,ignore_index=True)\n",
        "    \n",
        "    iv = pd.DataFrame({'IV':iv_df.groupby('VAR_NAME').IV.max()})\n",
        "    iv = iv.reset_index()\n",
        "    return(iv_df,iv) "
      ],
      "execution_count": 0,
      "outputs": []
    },
    {
      "cell_type": "code",
      "metadata": {
        "id": "dpsE0Qgo-dHm",
        "colab_type": "code",
        "colab": {}
      },
      "source": [
        "final_iv, IV = data_vars(df[df.columns.difference(['target'])],df.target)"
      ],
      "execution_count": 0,
      "outputs": []
    },
    {
      "cell_type": "code",
      "metadata": {
        "id": "ZdoINO-4-dHq",
        "colab_type": "code",
        "colab": {
          "base_uri": "https://localhost:8080/",
          "height": 1000
        },
        "outputId": "4e038d33-d6ec-4dab-ffd7-67bec18c3a6c"
      },
      "source": [
        "final_iv"
      ],
      "execution_count": 17,
      "outputs": [
        {
          "output_type": "execute_result",
          "data": {
            "text/html": [
              "<div>\n",
              "<style scoped>\n",
              "    .dataframe tbody tr th:only-of-type {\n",
              "        vertical-align: middle;\n",
              "    }\n",
              "\n",
              "    .dataframe tbody tr th {\n",
              "        vertical-align: top;\n",
              "    }\n",
              "\n",
              "    .dataframe thead th {\n",
              "        text-align: right;\n",
              "    }\n",
              "</style>\n",
              "<table border=\"1\" class=\"dataframe\">\n",
              "  <thead>\n",
              "    <tr style=\"text-align: right;\">\n",
              "      <th></th>\n",
              "      <th>VAR_NAME</th>\n",
              "      <th>MIN_VALUE</th>\n",
              "      <th>MAX_VALUE</th>\n",
              "      <th>COUNT</th>\n",
              "      <th>EVENT</th>\n",
              "      <th>EVENT_RATE</th>\n",
              "      <th>NONEVENT</th>\n",
              "      <th>NON_EVENT_RATE</th>\n",
              "      <th>DIST_EVENT</th>\n",
              "      <th>DIST_NON_EVENT</th>\n",
              "      <th>WOE</th>\n",
              "      <th>IV</th>\n",
              "    </tr>\n",
              "  </thead>\n",
              "  <tbody>\n",
              "    <tr>\n",
              "      <th>0</th>\n",
              "      <td>age</td>\n",
              "      <td>19</td>\n",
              "      <td>39</td>\n",
              "      <td>2290</td>\n",
              "      <td>259</td>\n",
              "      <td>0.113100</td>\n",
              "      <td>2031</td>\n",
              "      <td>0.886900</td>\n",
              "      <td>0.497121</td>\n",
              "      <td>0.50775</td>\n",
              "      <td>-0.021156</td>\n",
              "      <td>0.000452</td>\n",
              "    </tr>\n",
              "    <tr>\n",
              "      <th>1</th>\n",
              "      <td>age</td>\n",
              "      <td>40</td>\n",
              "      <td>87</td>\n",
              "      <td>2231</td>\n",
              "      <td>262</td>\n",
              "      <td>0.117436</td>\n",
              "      <td>1969</td>\n",
              "      <td>0.882564</td>\n",
              "      <td>0.502879</td>\n",
              "      <td>0.49225</td>\n",
              "      <td>0.021363</td>\n",
              "      <td>0.000452</td>\n",
              "    </tr>\n",
              "    <tr>\n",
              "      <th>2</th>\n",
              "      <td>balance</td>\n",
              "      <td>-3313</td>\n",
              "      <td>69</td>\n",
              "      <td>1133</td>\n",
              "      <td>94</td>\n",
              "      <td>0.082966</td>\n",
              "      <td>1039</td>\n",
              "      <td>0.917034</td>\n",
              "      <td>0.180422</td>\n",
              "      <td>0.25975</td>\n",
              "      <td>-0.364420</td>\n",
              "      <td>0.076208</td>\n",
              "    </tr>\n",
              "    <tr>\n",
              "      <th>3</th>\n",
              "      <td>balance</td>\n",
              "      <td>70</td>\n",
              "      <td>444</td>\n",
              "      <td>1128</td>\n",
              "      <td>106</td>\n",
              "      <td>0.093972</td>\n",
              "      <td>1022</td>\n",
              "      <td>0.906028</td>\n",
              "      <td>0.203455</td>\n",
              "      <td>0.25550</td>\n",
              "      <td>-0.227778</td>\n",
              "      <td>0.076208</td>\n",
              "    </tr>\n",
              "    <tr>\n",
              "      <th>4</th>\n",
              "      <td>balance</td>\n",
              "      <td>445</td>\n",
              "      <td>1480</td>\n",
              "      <td>1131</td>\n",
              "      <td>149</td>\n",
              "      <td>0.131742</td>\n",
              "      <td>982</td>\n",
              "      <td>0.868258</td>\n",
              "      <td>0.285988</td>\n",
              "      <td>0.24550</td>\n",
              "      <td>0.152655</td>\n",
              "      <td>0.076208</td>\n",
              "    </tr>\n",
              "    <tr>\n",
              "      <th>5</th>\n",
              "      <td>balance</td>\n",
              "      <td>1482</td>\n",
              "      <td>71188</td>\n",
              "      <td>1129</td>\n",
              "      <td>172</td>\n",
              "      <td>0.152347</td>\n",
              "      <td>957</td>\n",
              "      <td>0.847653</td>\n",
              "      <td>0.330134</td>\n",
              "      <td>0.23925</td>\n",
              "      <td>0.321991</td>\n",
              "      <td>0.076208</td>\n",
              "    </tr>\n",
              "    <tr>\n",
              "      <th>6</th>\n",
              "      <td>campaign</td>\n",
              "      <td>1</td>\n",
              "      <td>2</td>\n",
              "      <td>2998</td>\n",
              "      <td>378</td>\n",
              "      <td>0.126084</td>\n",
              "      <td>2620</td>\n",
              "      <td>0.873916</td>\n",
              "      <td>0.725528</td>\n",
              "      <td>0.65500</td>\n",
              "      <td>0.102264</td>\n",
              "      <td>0.023342</td>\n",
              "    </tr>\n",
              "    <tr>\n",
              "      <th>7</th>\n",
              "      <td>campaign</td>\n",
              "      <td>3</td>\n",
              "      <td>50</td>\n",
              "      <td>1523</td>\n",
              "      <td>143</td>\n",
              "      <td>0.093894</td>\n",
              "      <td>1380</td>\n",
              "      <td>0.906106</td>\n",
              "      <td>0.274472</td>\n",
              "      <td>0.34500</td>\n",
              "      <td>-0.228695</td>\n",
              "      <td>0.023342</td>\n",
              "    </tr>\n",
              "    <tr>\n",
              "      <th>8</th>\n",
              "      <td>contact</td>\n",
              "      <td>0</td>\n",
              "      <td>1</td>\n",
              "      <td>3197</td>\n",
              "      <td>460</td>\n",
              "      <td>0.143885</td>\n",
              "      <td>2737</td>\n",
              "      <td>0.856115</td>\n",
              "      <td>0.882917</td>\n",
              "      <td>0.68425</td>\n",
              "      <td>0.254908</td>\n",
              "      <td>0.247734</td>\n",
              "    </tr>\n",
              "    <tr>\n",
              "      <th>9</th>\n",
              "      <td>contact</td>\n",
              "      <td>2</td>\n",
              "      <td>2</td>\n",
              "      <td>1324</td>\n",
              "      <td>61</td>\n",
              "      <td>0.046073</td>\n",
              "      <td>1263</td>\n",
              "      <td>0.953927</td>\n",
              "      <td>0.117083</td>\n",
              "      <td>0.31575</td>\n",
              "      <td>-0.992072</td>\n",
              "      <td>0.247734</td>\n",
              "    </tr>\n",
              "    <tr>\n",
              "      <th>10</th>\n",
              "      <td>day</td>\n",
              "      <td>1</td>\n",
              "      <td>16</td>\n",
              "      <td>2338</td>\n",
              "      <td>285</td>\n",
              "      <td>0.121899</td>\n",
              "      <td>2053</td>\n",
              "      <td>0.878101</td>\n",
              "      <td>0.547025</td>\n",
              "      <td>0.51325</td>\n",
              "      <td>0.063731</td>\n",
              "      <td>0.004581</td>\n",
              "    </tr>\n",
              "    <tr>\n",
              "      <th>11</th>\n",
              "      <td>day</td>\n",
              "      <td>17</td>\n",
              "      <td>31</td>\n",
              "      <td>2183</td>\n",
              "      <td>236</td>\n",
              "      <td>0.108108</td>\n",
              "      <td>1947</td>\n",
              "      <td>0.891892</td>\n",
              "      <td>0.452975</td>\n",
              "      <td>0.48675</td>\n",
              "      <td>-0.071914</td>\n",
              "      <td>0.004581</td>\n",
              "    </tr>\n",
              "    <tr>\n",
              "      <th>12</th>\n",
              "      <td>default</td>\n",
              "      <td>0</td>\n",
              "      <td>0</td>\n",
              "      <td>4445</td>\n",
              "      <td>512</td>\n",
              "      <td>0.115186</td>\n",
              "      <td>3933</td>\n",
              "      <td>0.884814</td>\n",
              "      <td>0.982726</td>\n",
              "      <td>0.98325</td>\n",
              "      <td>-0.000534</td>\n",
              "      <td>0.000016</td>\n",
              "    </tr>\n",
              "    <tr>\n",
              "      <th>13</th>\n",
              "      <td>default</td>\n",
              "      <td>1</td>\n",
              "      <td>1</td>\n",
              "      <td>76</td>\n",
              "      <td>9</td>\n",
              "      <td>0.118421</td>\n",
              "      <td>67</td>\n",
              "      <td>0.881579</td>\n",
              "      <td>0.017274</td>\n",
              "      <td>0.01675</td>\n",
              "      <td>0.030832</td>\n",
              "      <td>0.000016</td>\n",
              "    </tr>\n",
              "    <tr>\n",
              "      <th>14</th>\n",
              "      <td>duration</td>\n",
              "      <td>4</td>\n",
              "      <td>62</td>\n",
              "      <td>510</td>\n",
              "      <td>1</td>\n",
              "      <td>0.001961</td>\n",
              "      <td>509</td>\n",
              "      <td>0.998039</td>\n",
              "      <td>0.001919</td>\n",
              "      <td>0.12725</td>\n",
              "      <td>-4.194148</td>\n",
              "      <td>1.651501</td>\n",
              "    </tr>\n",
              "    <tr>\n",
              "      <th>15</th>\n",
              "      <td>duration</td>\n",
              "      <td>63</td>\n",
              "      <td>96</td>\n",
              "      <td>502</td>\n",
              "      <td>10</td>\n",
              "      <td>0.019920</td>\n",
              "      <td>492</td>\n",
              "      <td>0.980080</td>\n",
              "      <td>0.019194</td>\n",
              "      <td>0.12300</td>\n",
              "      <td>-1.857594</td>\n",
              "      <td>1.651501</td>\n",
              "    </tr>\n",
              "    <tr>\n",
              "      <th>16</th>\n",
              "      <td>duration</td>\n",
              "      <td>97</td>\n",
              "      <td>128</td>\n",
              "      <td>509</td>\n",
              "      <td>16</td>\n",
              "      <td>0.031434</td>\n",
              "      <td>493</td>\n",
              "      <td>0.968566</td>\n",
              "      <td>0.030710</td>\n",
              "      <td>0.12325</td>\n",
              "      <td>-1.389621</td>\n",
              "      <td>1.651501</td>\n",
              "    </tr>\n",
              "    <tr>\n",
              "      <th>17</th>\n",
              "      <td>duration</td>\n",
              "      <td>129</td>\n",
              "      <td>163</td>\n",
              "      <td>490</td>\n",
              "      <td>20</td>\n",
              "      <td>0.040816</td>\n",
              "      <td>470</td>\n",
              "      <td>0.959184</td>\n",
              "      <td>0.038388</td>\n",
              "      <td>0.11750</td>\n",
              "      <td>-1.118701</td>\n",
              "      <td>1.651501</td>\n",
              "    </tr>\n",
              "    <tr>\n",
              "      <th>18</th>\n",
              "      <td>duration</td>\n",
              "      <td>164</td>\n",
              "      <td>208</td>\n",
              "      <td>505</td>\n",
              "      <td>26</td>\n",
              "      <td>0.051485</td>\n",
              "      <td>479</td>\n",
              "      <td>0.948515</td>\n",
              "      <td>0.049904</td>\n",
              "      <td>0.11975</td>\n",
              "      <td>-0.875304</td>\n",
              "      <td>1.651501</td>\n",
              "    </tr>\n",
              "    <tr>\n",
              "      <th>19</th>\n",
              "      <td>duration</td>\n",
              "      <td>209</td>\n",
              "      <td>261</td>\n",
              "      <td>498</td>\n",
              "      <td>61</td>\n",
              "      <td>0.122490</td>\n",
              "      <td>437</td>\n",
              "      <td>0.877510</td>\n",
              "      <td>0.117083</td>\n",
              "      <td>0.10925</td>\n",
              "      <td>0.069240</td>\n",
              "      <td>1.651501</td>\n",
              "    </tr>\n",
              "    <tr>\n",
              "      <th>20</th>\n",
              "      <td>duration</td>\n",
              "      <td>262</td>\n",
              "      <td>354</td>\n",
              "      <td>505</td>\n",
              "      <td>73</td>\n",
              "      <td>0.144554</td>\n",
              "      <td>432</td>\n",
              "      <td>0.855446</td>\n",
              "      <td>0.140115</td>\n",
              "      <td>0.10800</td>\n",
              "      <td>0.260333</td>\n",
              "      <td>1.651501</td>\n",
              "    </tr>\n",
              "    <tr>\n",
              "      <th>21</th>\n",
              "      <td>duration</td>\n",
              "      <td>355</td>\n",
              "      <td>546</td>\n",
              "      <td>500</td>\n",
              "      <td>101</td>\n",
              "      <td>0.202000</td>\n",
              "      <td>399</td>\n",
              "      <td>0.798000</td>\n",
              "      <td>0.193858</td>\n",
              "      <td>0.09975</td>\n",
              "      <td>0.664459</td>\n",
              "      <td>1.651501</td>\n",
              "    </tr>\n",
              "    <tr>\n",
              "      <th>22</th>\n",
              "      <td>duration</td>\n",
              "      <td>547</td>\n",
              "      <td>3025</td>\n",
              "      <td>502</td>\n",
              "      <td>213</td>\n",
              "      <td>0.424303</td>\n",
              "      <td>289</td>\n",
              "      <td>0.575697</td>\n",
              "      <td>0.408829</td>\n",
              "      <td>0.07225</td>\n",
              "      <td>1.733165</td>\n",
              "      <td>1.651501</td>\n",
              "    </tr>\n",
              "    <tr>\n",
              "      <th>23</th>\n",
              "      <td>education</td>\n",
              "      <td>0</td>\n",
              "      <td>1</td>\n",
              "      <td>2984</td>\n",
              "      <td>309</td>\n",
              "      <td>0.103552</td>\n",
              "      <td>2675</td>\n",
              "      <td>0.896448</td>\n",
              "      <td>0.593090</td>\n",
              "      <td>0.66875</td>\n",
              "      <td>-0.120064</td>\n",
              "      <td>0.024649</td>\n",
              "    </tr>\n",
              "    <tr>\n",
              "      <th>24</th>\n",
              "      <td>education</td>\n",
              "      <td>2</td>\n",
              "      <td>3</td>\n",
              "      <td>1537</td>\n",
              "      <td>212</td>\n",
              "      <td>0.137931</td>\n",
              "      <td>1325</td>\n",
              "      <td>0.862069</td>\n",
              "      <td>0.406910</td>\n",
              "      <td>0.33125</td>\n",
              "      <td>0.205718</td>\n",
              "      <td>0.024649</td>\n",
              "    </tr>\n",
              "    <tr>\n",
              "      <th>25</th>\n",
              "      <td>housing</td>\n",
              "      <td>0</td>\n",
              "      <td>0</td>\n",
              "      <td>1962</td>\n",
              "      <td>301</td>\n",
              "      <td>0.153415</td>\n",
              "      <td>1661</td>\n",
              "      <td>0.846585</td>\n",
              "      <td>0.577735</td>\n",
              "      <td>0.41525</td>\n",
              "      <td>0.330235</td>\n",
              "      <td>0.106556</td>\n",
              "    </tr>\n",
              "    <tr>\n",
              "      <th>26</th>\n",
              "      <td>housing</td>\n",
              "      <td>1</td>\n",
              "      <td>1</td>\n",
              "      <td>2559</td>\n",
              "      <td>220</td>\n",
              "      <td>0.085971</td>\n",
              "      <td>2339</td>\n",
              "      <td>0.914029</td>\n",
              "      <td>0.422265</td>\n",
              "      <td>0.58475</td>\n",
              "      <td>-0.325552</td>\n",
              "      <td>0.106556</td>\n",
              "    </tr>\n",
              "    <tr>\n",
              "      <th>27</th>\n",
              "      <td>job</td>\n",
              "      <td>0</td>\n",
              "      <td>4</td>\n",
              "      <td>2673</td>\n",
              "      <td>287</td>\n",
              "      <td>0.107370</td>\n",
              "      <td>2386</td>\n",
              "      <td>0.892630</td>\n",
              "      <td>0.550864</td>\n",
              "      <td>0.59650</td>\n",
              "      <td>-0.079592</td>\n",
              "      <td>0.008522</td>\n",
              "    </tr>\n",
              "    <tr>\n",
              "      <th>28</th>\n",
              "      <td>job</td>\n",
              "      <td>5</td>\n",
              "      <td>11</td>\n",
              "      <td>1848</td>\n",
              "      <td>234</td>\n",
              "      <td>0.126623</td>\n",
              "      <td>1614</td>\n",
              "      <td>0.873377</td>\n",
              "      <td>0.449136</td>\n",
              "      <td>0.40350</td>\n",
              "      <td>0.107150</td>\n",
              "      <td>0.008522</td>\n",
              "    </tr>\n",
              "    <tr>\n",
              "      <th>29</th>\n",
              "      <td>loan</td>\n",
              "      <td>0</td>\n",
              "      <td>0</td>\n",
              "      <td>3830</td>\n",
              "      <td>478</td>\n",
              "      <td>0.124804</td>\n",
              "      <td>3352</td>\n",
              "      <td>0.875196</td>\n",
              "      <td>0.917466</td>\n",
              "      <td>0.83800</td>\n",
              "      <td>0.090598</td>\n",
              "      <td>0.060791</td>\n",
              "    </tr>\n",
              "    <tr>\n",
              "      <th>30</th>\n",
              "      <td>loan</td>\n",
              "      <td>1</td>\n",
              "      <td>1</td>\n",
              "      <td>691</td>\n",
              "      <td>43</td>\n",
              "      <td>0.062229</td>\n",
              "      <td>648</td>\n",
              "      <td>0.937771</td>\n",
              "      <td>0.082534</td>\n",
              "      <td>0.16200</td>\n",
              "      <td>-0.674391</td>\n",
              "      <td>0.060791</td>\n",
              "    </tr>\n",
              "    <tr>\n",
              "      <th>31</th>\n",
              "      <td>marital</td>\n",
              "      <td>0</td>\n",
              "      <td>1</td>\n",
              "      <td>3325</td>\n",
              "      <td>354</td>\n",
              "      <td>0.106466</td>\n",
              "      <td>2971</td>\n",
              "      <td>0.893534</td>\n",
              "      <td>0.679463</td>\n",
              "      <td>0.74275</td>\n",
              "      <td>-0.089057</td>\n",
              "      <td>0.019556</td>\n",
              "    </tr>\n",
              "    <tr>\n",
              "      <th>32</th>\n",
              "      <td>marital</td>\n",
              "      <td>2</td>\n",
              "      <td>2</td>\n",
              "      <td>1196</td>\n",
              "      <td>167</td>\n",
              "      <td>0.139632</td>\n",
              "      <td>1029</td>\n",
              "      <td>0.860368</td>\n",
              "      <td>0.320537</td>\n",
              "      <td>0.25725</td>\n",
              "      <td>0.219951</td>\n",
              "      <td>0.019556</td>\n",
              "    </tr>\n",
              "    <tr>\n",
              "      <th>33</th>\n",
              "      <td>month</td>\n",
              "      <td>0</td>\n",
              "      <td>6</td>\n",
              "      <td>2553</td>\n",
              "      <td>314</td>\n",
              "      <td>0.122993</td>\n",
              "      <td>2239</td>\n",
              "      <td>0.877007</td>\n",
              "      <td>0.602687</td>\n",
              "      <td>0.55975</td>\n",
              "      <td>0.073908</td>\n",
              "      <td>0.007580</td>\n",
              "    </tr>\n",
              "    <tr>\n",
              "      <th>34</th>\n",
              "      <td>month</td>\n",
              "      <td>7</td>\n",
              "      <td>11</td>\n",
              "      <td>1968</td>\n",
              "      <td>207</td>\n",
              "      <td>0.105183</td>\n",
              "      <td>1761</td>\n",
              "      <td>0.894817</td>\n",
              "      <td>0.397313</td>\n",
              "      <td>0.44025</td>\n",
              "      <td>-0.102619</td>\n",
              "      <td>0.007580</td>\n",
              "    </tr>\n",
              "    <tr>\n",
              "      <th>35</th>\n",
              "      <td>pdays</td>\n",
              "      <td>-1</td>\n",
              "      <td>-1</td>\n",
              "      <td>3705</td>\n",
              "      <td>337</td>\n",
              "      <td>0.090958</td>\n",
              "      <td>3368</td>\n",
              "      <td>0.909042</td>\n",
              "      <td>0.646833</td>\n",
              "      <td>0.84200</td>\n",
              "      <td>-0.263692</td>\n",
              "      <td>0.203267</td>\n",
              "    </tr>\n",
              "    <tr>\n",
              "      <th>36</th>\n",
              "      <td>pdays</td>\n",
              "      <td>1</td>\n",
              "      <td>1</td>\n",
              "      <td>2</td>\n",
              "      <td>2</td>\n",
              "      <td>1.000000</td>\n",
              "      <td>0</td>\n",
              "      <td>0.000000</td>\n",
              "      <td>0.003839</td>\n",
              "      <td>0.00000</td>\n",
              "      <td>0.000000</td>\n",
              "      <td>0.203267</td>\n",
              "    </tr>\n",
              "    <tr>\n",
              "      <th>37</th>\n",
              "      <td>pdays</td>\n",
              "      <td>2</td>\n",
              "      <td>871</td>\n",
              "      <td>814</td>\n",
              "      <td>182</td>\n",
              "      <td>0.223587</td>\n",
              "      <td>632</td>\n",
              "      <td>0.776413</td>\n",
              "      <td>0.349328</td>\n",
              "      <td>0.15800</td>\n",
              "      <td>0.793417</td>\n",
              "      <td>0.203267</td>\n",
              "    </tr>\n",
              "    <tr>\n",
              "      <th>38</th>\n",
              "      <td>poutcome</td>\n",
              "      <td>0</td>\n",
              "      <td>1</td>\n",
              "      <td>687</td>\n",
              "      <td>101</td>\n",
              "      <td>0.147016</td>\n",
              "      <td>586</td>\n",
              "      <td>0.852984</td>\n",
              "      <td>0.193858</td>\n",
              "      <td>0.14650</td>\n",
              "      <td>0.280100</td>\n",
              "      <td>0.015968</td>\n",
              "    </tr>\n",
              "    <tr>\n",
              "      <th>39</th>\n",
              "      <td>poutcome</td>\n",
              "      <td>2</td>\n",
              "      <td>3</td>\n",
              "      <td>3834</td>\n",
              "      <td>420</td>\n",
              "      <td>0.109546</td>\n",
              "      <td>3414</td>\n",
              "      <td>0.890454</td>\n",
              "      <td>0.806142</td>\n",
              "      <td>0.85350</td>\n",
              "      <td>-0.057086</td>\n",
              "      <td>0.015968</td>\n",
              "    </tr>\n",
              "    <tr>\n",
              "      <th>40</th>\n",
              "      <td>previous</td>\n",
              "      <td>0</td>\n",
              "      <td>1</td>\n",
              "      <td>3991</td>\n",
              "      <td>388</td>\n",
              "      <td>0.097219</td>\n",
              "      <td>3603</td>\n",
              "      <td>0.902781</td>\n",
              "      <td>0.744722</td>\n",
              "      <td>0.90075</td>\n",
              "      <td>-0.190217</td>\n",
              "      <td>0.177081</td>\n",
              "    </tr>\n",
              "    <tr>\n",
              "      <th>41</th>\n",
              "      <td>previous</td>\n",
              "      <td>2</td>\n",
              "      <td>25</td>\n",
              "      <td>530</td>\n",
              "      <td>133</td>\n",
              "      <td>0.250943</td>\n",
              "      <td>397</td>\n",
              "      <td>0.749057</td>\n",
              "      <td>0.255278</td>\n",
              "      <td>0.09925</td>\n",
              "      <td>0.944712</td>\n",
              "      <td>0.177081</td>\n",
              "    </tr>\n",
              "  </tbody>\n",
              "</table>\n",
              "</div>"
            ],
            "text/plain": [
              "     VAR_NAME  MIN_VALUE  MAX_VALUE  ...  DIST_NON_EVENT       WOE        IV\n",
              "0         age         19         39  ...         0.50775 -0.021156  0.000452\n",
              "1         age         40         87  ...         0.49225  0.021363  0.000452\n",
              "2     balance      -3313         69  ...         0.25975 -0.364420  0.076208\n",
              "3     balance         70        444  ...         0.25550 -0.227778  0.076208\n",
              "4     balance        445       1480  ...         0.24550  0.152655  0.076208\n",
              "5     balance       1482      71188  ...         0.23925  0.321991  0.076208\n",
              "6    campaign          1          2  ...         0.65500  0.102264  0.023342\n",
              "7    campaign          3         50  ...         0.34500 -0.228695  0.023342\n",
              "8     contact          0          1  ...         0.68425  0.254908  0.247734\n",
              "9     contact          2          2  ...         0.31575 -0.992072  0.247734\n",
              "10        day          1         16  ...         0.51325  0.063731  0.004581\n",
              "11        day         17         31  ...         0.48675 -0.071914  0.004581\n",
              "12    default          0          0  ...         0.98325 -0.000534  0.000016\n",
              "13    default          1          1  ...         0.01675  0.030832  0.000016\n",
              "14   duration          4         62  ...         0.12725 -4.194148  1.651501\n",
              "15   duration         63         96  ...         0.12300 -1.857594  1.651501\n",
              "16   duration         97        128  ...         0.12325 -1.389621  1.651501\n",
              "17   duration        129        163  ...         0.11750 -1.118701  1.651501\n",
              "18   duration        164        208  ...         0.11975 -0.875304  1.651501\n",
              "19   duration        209        261  ...         0.10925  0.069240  1.651501\n",
              "20   duration        262        354  ...         0.10800  0.260333  1.651501\n",
              "21   duration        355        546  ...         0.09975  0.664459  1.651501\n",
              "22   duration        547       3025  ...         0.07225  1.733165  1.651501\n",
              "23  education          0          1  ...         0.66875 -0.120064  0.024649\n",
              "24  education          2          3  ...         0.33125  0.205718  0.024649\n",
              "25    housing          0          0  ...         0.41525  0.330235  0.106556\n",
              "26    housing          1          1  ...         0.58475 -0.325552  0.106556\n",
              "27        job          0          4  ...         0.59650 -0.079592  0.008522\n",
              "28        job          5         11  ...         0.40350  0.107150  0.008522\n",
              "29       loan          0          0  ...         0.83800  0.090598  0.060791\n",
              "30       loan          1          1  ...         0.16200 -0.674391  0.060791\n",
              "31    marital          0          1  ...         0.74275 -0.089057  0.019556\n",
              "32    marital          2          2  ...         0.25725  0.219951  0.019556\n",
              "33      month          0          6  ...         0.55975  0.073908  0.007580\n",
              "34      month          7         11  ...         0.44025 -0.102619  0.007580\n",
              "35      pdays         -1         -1  ...         0.84200 -0.263692  0.203267\n",
              "36      pdays          1          1  ...         0.00000  0.000000  0.203267\n",
              "37      pdays          2        871  ...         0.15800  0.793417  0.203267\n",
              "38   poutcome          0          1  ...         0.14650  0.280100  0.015968\n",
              "39   poutcome          2          3  ...         0.85350 -0.057086  0.015968\n",
              "40   previous          0          1  ...         0.90075 -0.190217  0.177081\n",
              "41   previous          2         25  ...         0.09925  0.944712  0.177081\n",
              "\n",
              "[42 rows x 12 columns]"
            ]
          },
          "metadata": {
            "tags": []
          },
          "execution_count": 17
        }
      ]
    },
    {
      "cell_type": "code",
      "metadata": {
        "id": "aWDAzirC-dHv",
        "colab_type": "code",
        "colab": {
          "base_uri": "https://localhost:8080/",
          "height": 545
        },
        "outputId": "e7aed546-dec9-453a-b0e0-bdf936eb4460"
      },
      "source": [
        "IV = IV.rename(columns={'VAR_NAME':'index'})\n",
        "IV.sort_values(['IV'],ascending=0)"
      ],
      "execution_count": 18,
      "outputs": [
        {
          "output_type": "execute_result",
          "data": {
            "text/html": [
              "<div>\n",
              "<style scoped>\n",
              "    .dataframe tbody tr th:only-of-type {\n",
              "        vertical-align: middle;\n",
              "    }\n",
              "\n",
              "    .dataframe tbody tr th {\n",
              "        vertical-align: top;\n",
              "    }\n",
              "\n",
              "    .dataframe thead th {\n",
              "        text-align: right;\n",
              "    }\n",
              "</style>\n",
              "<table border=\"1\" class=\"dataframe\">\n",
              "  <thead>\n",
              "    <tr style=\"text-align: right;\">\n",
              "      <th></th>\n",
              "      <th>index</th>\n",
              "      <th>IV</th>\n",
              "    </tr>\n",
              "  </thead>\n",
              "  <tbody>\n",
              "    <tr>\n",
              "      <th>6</th>\n",
              "      <td>duration</td>\n",
              "      <td>1.651501</td>\n",
              "    </tr>\n",
              "    <tr>\n",
              "      <th>3</th>\n",
              "      <td>contact</td>\n",
              "      <td>0.247734</td>\n",
              "    </tr>\n",
              "    <tr>\n",
              "      <th>13</th>\n",
              "      <td>pdays</td>\n",
              "      <td>0.203267</td>\n",
              "    </tr>\n",
              "    <tr>\n",
              "      <th>15</th>\n",
              "      <td>previous</td>\n",
              "      <td>0.177081</td>\n",
              "    </tr>\n",
              "    <tr>\n",
              "      <th>8</th>\n",
              "      <td>housing</td>\n",
              "      <td>0.106556</td>\n",
              "    </tr>\n",
              "    <tr>\n",
              "      <th>1</th>\n",
              "      <td>balance</td>\n",
              "      <td>0.076208</td>\n",
              "    </tr>\n",
              "    <tr>\n",
              "      <th>10</th>\n",
              "      <td>loan</td>\n",
              "      <td>0.060791</td>\n",
              "    </tr>\n",
              "    <tr>\n",
              "      <th>7</th>\n",
              "      <td>education</td>\n",
              "      <td>0.024649</td>\n",
              "    </tr>\n",
              "    <tr>\n",
              "      <th>2</th>\n",
              "      <td>campaign</td>\n",
              "      <td>0.023342</td>\n",
              "    </tr>\n",
              "    <tr>\n",
              "      <th>11</th>\n",
              "      <td>marital</td>\n",
              "      <td>0.019556</td>\n",
              "    </tr>\n",
              "    <tr>\n",
              "      <th>14</th>\n",
              "      <td>poutcome</td>\n",
              "      <td>0.015968</td>\n",
              "    </tr>\n",
              "    <tr>\n",
              "      <th>9</th>\n",
              "      <td>job</td>\n",
              "      <td>0.008522</td>\n",
              "    </tr>\n",
              "    <tr>\n",
              "      <th>12</th>\n",
              "      <td>month</td>\n",
              "      <td>0.007580</td>\n",
              "    </tr>\n",
              "    <tr>\n",
              "      <th>4</th>\n",
              "      <td>day</td>\n",
              "      <td>0.004581</td>\n",
              "    </tr>\n",
              "    <tr>\n",
              "      <th>0</th>\n",
              "      <td>age</td>\n",
              "      <td>0.000452</td>\n",
              "    </tr>\n",
              "    <tr>\n",
              "      <th>5</th>\n",
              "      <td>default</td>\n",
              "      <td>0.000016</td>\n",
              "    </tr>\n",
              "  </tbody>\n",
              "</table>\n",
              "</div>"
            ],
            "text/plain": [
              "        index        IV\n",
              "6    duration  1.651501\n",
              "3     contact  0.247734\n",
              "13      pdays  0.203267\n",
              "15   previous  0.177081\n",
              "8     housing  0.106556\n",
              "1     balance  0.076208\n",
              "10       loan  0.060791\n",
              "7   education  0.024649\n",
              "2    campaign  0.023342\n",
              "11    marital  0.019556\n",
              "14   poutcome  0.015968\n",
              "9         job  0.008522\n",
              "12      month  0.007580\n",
              "4         day  0.004581\n",
              "0         age  0.000452\n",
              "5     default  0.000016"
            ]
          },
          "metadata": {
            "tags": []
          },
          "execution_count": 18
        }
      ]
    },
    {
      "cell_type": "code",
      "metadata": {
        "id": "9EpaXmeJ-dHy",
        "colab_type": "code",
        "colab": {}
      },
      "source": [
        ""
      ],
      "execution_count": 0,
      "outputs": []
    },
    {
      "cell_type": "markdown",
      "metadata": {
        "id": "Cp4R6qk--dH3",
        "colab_type": "text"
      },
      "source": [
        "### Apply WOE values to your dataframe columns"
      ]
    },
    {
      "cell_type": "markdown",
      "metadata": {
        "id": "kir-F6KT-dH9",
        "colab_type": "text"
      },
      "source": [
        "The below code snippet can be used to apply the WOE values to your dataframe columns. "
      ]
    },
    {
      "cell_type": "code",
      "metadata": {
        "id": "8HLDawcj-dH_",
        "colab_type": "code",
        "colab": {}
      },
      "source": [
        "transform_vars_list = df.columns.difference(['target'])\n",
        "transform_prefix = 'new_' # leave this value blank if you need replace the original column values"
      ],
      "execution_count": 0,
      "outputs": []
    },
    {
      "cell_type": "code",
      "metadata": {
        "id": "A-8XTx1v-dIF",
        "colab_type": "code",
        "colab": {
          "base_uri": "https://localhost:8080/",
          "height": 85
        },
        "outputId": "2ab08832-ebe4-41f5-9e67-85f8754e2bbd"
      },
      "source": [
        "transform_vars_list"
      ],
      "execution_count": 20,
      "outputs": [
        {
          "output_type": "execute_result",
          "data": {
            "text/plain": [
              "Index(['age', 'balance', 'campaign', 'contact', 'day', 'default', 'duration',\n",
              "       'education', 'housing', 'job', 'loan', 'marital', 'month', 'pdays',\n",
              "       'poutcome', 'previous'],\n",
              "      dtype='object')"
            ]
          },
          "metadata": {
            "tags": []
          },
          "execution_count": 20
        }
      ]
    },
    {
      "cell_type": "code",
      "metadata": {
        "id": "CcXxULqW-dIK",
        "colab_type": "code",
        "colab": {}
      },
      "source": [
        "for var in transform_vars_list:\n",
        "    small_df = final_iv[final_iv['VAR_NAME'] == var]\n",
        "    transform_dict = dict(zip(small_df.MAX_VALUE,small_df.WOE))\n",
        "    replace_cmd = ''\n",
        "    replace_cmd1 = ''\n",
        "    for i in sorted(transform_dict.items()):\n",
        "        replace_cmd = replace_cmd + str(i[1]) + str(' if x <= ') + str(i[0]) + ' else '\n",
        "        replace_cmd1 = replace_cmd1 + str(i[1]) + str(' if x == \"') + str(i[0]) + '\" else '\n",
        "    replace_cmd = replace_cmd + '0'\n",
        "    replace_cmd1 = replace_cmd1 + '0'\n",
        "    if replace_cmd != '0':\n",
        "        try:\n",
        "            df[transform_prefix + var] = df[var].apply(lambda x: eval(replace_cmd))\n",
        "        except:\n",
        "            df[transform_prefix + var] = df[var].apply(lambda x: eval(replace_cmd1))"
      ],
      "execution_count": 0,
      "outputs": []
    },
    {
      "cell_type": "markdown",
      "metadata": {
        "id": "L8zVgLPA-dIO",
        "colab_type": "text"
      },
      "source": [
        "## 4.2 Variable Importance using Random Forest"
      ]
    },
    {
      "cell_type": "code",
      "metadata": {
        "id": "rkcOhfYR-dIP",
        "colab_type": "code",
        "colab": {
          "base_uri": "https://localhost:8080/",
          "height": 88
        },
        "outputId": "75423d6f-c0f5-425a-c065-9010afcff5a4"
      },
      "source": [
        "from sklearn.ensemble import RandomForestClassifier\n",
        "clf = RandomForestClassifier()\n",
        "\n",
        "clf.fit(features,labels)\n",
        "\n",
        "preds = clf.predict(features)\n",
        "\n",
        "from sklearn.metrics import accuracy_score\n",
        "accuracy = accuracy_score(preds,labels)\n",
        "print(accuracy)"
      ],
      "execution_count": 22,
      "outputs": [
        {
          "output_type": "stream",
          "text": [
            "0.9931431099314311\n"
          ],
          "name": "stdout"
        },
        {
          "output_type": "stream",
          "text": [
            "/usr/local/lib/python3.6/dist-packages/sklearn/ensemble/forest.py:245: FutureWarning: The default value of n_estimators will change from 10 in version 0.20 to 100 in 0.22.\n",
            "  \"10 in version 0.20 to 100 in 0.22.\", FutureWarning)\n"
          ],
          "name": "stderr"
        }
      ]
    },
    {
      "cell_type": "code",
      "metadata": {
        "id": "mi0La6UX-dIS",
        "colab_type": "code",
        "colab": {}
      },
      "source": [
        "from pandas import DataFrame\n",
        "VI = DataFrame(clf.feature_importances_, columns = [\"RF\"], index=features.columns)"
      ],
      "execution_count": 0,
      "outputs": []
    },
    {
      "cell_type": "code",
      "metadata": {
        "scrolled": true,
        "id": "tT8FwlM0-dIV",
        "colab_type": "code",
        "colab": {
          "base_uri": "https://localhost:8080/",
          "height": 545
        },
        "outputId": "a87bd01c-8cd1-4500-ee3f-7d7dace7ece0"
      },
      "source": [
        "VI = VI.reset_index()\n",
        "VI.sort_values(['RF'],ascending=0)"
      ],
      "execution_count": 24,
      "outputs": [
        {
          "output_type": "execute_result",
          "data": {
            "text/html": [
              "<div>\n",
              "<style scoped>\n",
              "    .dataframe tbody tr th:only-of-type {\n",
              "        vertical-align: middle;\n",
              "    }\n",
              "\n",
              "    .dataframe tbody tr th {\n",
              "        vertical-align: top;\n",
              "    }\n",
              "\n",
              "    .dataframe thead th {\n",
              "        text-align: right;\n",
              "    }\n",
              "</style>\n",
              "<table border=\"1\" class=\"dataframe\">\n",
              "  <thead>\n",
              "    <tr style=\"text-align: right;\">\n",
              "      <th></th>\n",
              "      <th>index</th>\n",
              "      <th>RF</th>\n",
              "    </tr>\n",
              "  </thead>\n",
              "  <tbody>\n",
              "    <tr>\n",
              "      <th>6</th>\n",
              "      <td>duration</td>\n",
              "      <td>0.279704</td>\n",
              "    </tr>\n",
              "    <tr>\n",
              "      <th>1</th>\n",
              "      <td>balance</td>\n",
              "      <td>0.109292</td>\n",
              "    </tr>\n",
              "    <tr>\n",
              "      <th>0</th>\n",
              "      <td>age</td>\n",
              "      <td>0.105452</td>\n",
              "    </tr>\n",
              "    <tr>\n",
              "      <th>4</th>\n",
              "      <td>day</td>\n",
              "      <td>0.089933</td>\n",
              "    </tr>\n",
              "    <tr>\n",
              "      <th>12</th>\n",
              "      <td>month</td>\n",
              "      <td>0.085041</td>\n",
              "    </tr>\n",
              "    <tr>\n",
              "      <th>13</th>\n",
              "      <td>pdays</td>\n",
              "      <td>0.058503</td>\n",
              "    </tr>\n",
              "    <tr>\n",
              "      <th>9</th>\n",
              "      <td>job</td>\n",
              "      <td>0.046411</td>\n",
              "    </tr>\n",
              "    <tr>\n",
              "      <th>14</th>\n",
              "      <td>poutcome</td>\n",
              "      <td>0.044432</td>\n",
              "    </tr>\n",
              "    <tr>\n",
              "      <th>2</th>\n",
              "      <td>campaign</td>\n",
              "      <td>0.039661</td>\n",
              "    </tr>\n",
              "    <tr>\n",
              "      <th>11</th>\n",
              "      <td>marital</td>\n",
              "      <td>0.032346</td>\n",
              "    </tr>\n",
              "    <tr>\n",
              "      <th>15</th>\n",
              "      <td>previous</td>\n",
              "      <td>0.026351</td>\n",
              "    </tr>\n",
              "    <tr>\n",
              "      <th>7</th>\n",
              "      <td>education</td>\n",
              "      <td>0.025523</td>\n",
              "    </tr>\n",
              "    <tr>\n",
              "      <th>8</th>\n",
              "      <td>housing</td>\n",
              "      <td>0.022238</td>\n",
              "    </tr>\n",
              "    <tr>\n",
              "      <th>3</th>\n",
              "      <td>contact</td>\n",
              "      <td>0.021547</td>\n",
              "    </tr>\n",
              "    <tr>\n",
              "      <th>10</th>\n",
              "      <td>loan</td>\n",
              "      <td>0.010352</td>\n",
              "    </tr>\n",
              "    <tr>\n",
              "      <th>5</th>\n",
              "      <td>default</td>\n",
              "      <td>0.003216</td>\n",
              "    </tr>\n",
              "  </tbody>\n",
              "</table>\n",
              "</div>"
            ],
            "text/plain": [
              "        index        RF\n",
              "6    duration  0.279704\n",
              "1     balance  0.109292\n",
              "0         age  0.105452\n",
              "4         day  0.089933\n",
              "12      month  0.085041\n",
              "13      pdays  0.058503\n",
              "9         job  0.046411\n",
              "14   poutcome  0.044432\n",
              "2    campaign  0.039661\n",
              "11    marital  0.032346\n",
              "15   previous  0.026351\n",
              "7   education  0.025523\n",
              "8     housing  0.022238\n",
              "3     contact  0.021547\n",
              "10       loan  0.010352\n",
              "5     default  0.003216"
            ]
          },
          "metadata": {
            "tags": []
          },
          "execution_count": 24
        }
      ]
    },
    {
      "cell_type": "markdown",
      "metadata": {
        "id": "eZt6fJE0-dIZ",
        "colab_type": "text"
      },
      "source": [
        "## 4.3 Recursive Feature Elimination"
      ]
    },
    {
      "cell_type": "code",
      "metadata": {
        "id": "Kow9N9VB-dIb",
        "colab_type": "code",
        "colab": {
          "base_uri": "https://localhost:8080/",
          "height": 71
        },
        "outputId": "5e5d432d-504b-460c-8b78-99bdc75b4c19"
      },
      "source": [
        "from sklearn.feature_selection import RFE\n",
        "from sklearn.linear_model import LogisticRegression\n",
        "\n",
        "model = LogisticRegression()\n",
        "rfe = RFE(model, 20)\n",
        "fit = rfe.fit(features, labels)"
      ],
      "execution_count": 25,
      "outputs": [
        {
          "output_type": "stream",
          "text": [
            "/usr/local/lib/python3.6/dist-packages/sklearn/linear_model/logistic.py:432: FutureWarning: Default solver will be changed to 'lbfgs' in 0.22. Specify a solver to silence this warning.\n",
            "  FutureWarning)\n"
          ],
          "name": "stderr"
        }
      ]
    },
    {
      "cell_type": "code",
      "metadata": {
        "id": "xV23Nbre-dIe",
        "colab_type": "code",
        "colab": {}
      },
      "source": [
        "from pandas import DataFrame\n",
        "Selected = DataFrame(rfe.support_, columns = [\"RFE\"], index=features.columns)\n",
        "Selected = Selected.reset_index()"
      ],
      "execution_count": 0,
      "outputs": []
    },
    {
      "cell_type": "code",
      "metadata": {
        "scrolled": true,
        "id": "AIuAxCxv-dIh",
        "colab_type": "code",
        "colab": {
          "base_uri": "https://localhost:8080/",
          "height": 545
        },
        "outputId": "c0f25345-c64e-42c2-c353-599867119220"
      },
      "source": [
        "Selected[Selected['RFE'] == True]"
      ],
      "execution_count": 27,
      "outputs": [
        {
          "output_type": "execute_result",
          "data": {
            "text/html": [
              "<div>\n",
              "<style scoped>\n",
              "    .dataframe tbody tr th:only-of-type {\n",
              "        vertical-align: middle;\n",
              "    }\n",
              "\n",
              "    .dataframe tbody tr th {\n",
              "        vertical-align: top;\n",
              "    }\n",
              "\n",
              "    .dataframe thead th {\n",
              "        text-align: right;\n",
              "    }\n",
              "</style>\n",
              "<table border=\"1\" class=\"dataframe\">\n",
              "  <thead>\n",
              "    <tr style=\"text-align: right;\">\n",
              "      <th></th>\n",
              "      <th>index</th>\n",
              "      <th>RFE</th>\n",
              "    </tr>\n",
              "  </thead>\n",
              "  <tbody>\n",
              "    <tr>\n",
              "      <th>0</th>\n",
              "      <td>age</td>\n",
              "      <td>True</td>\n",
              "    </tr>\n",
              "    <tr>\n",
              "      <th>1</th>\n",
              "      <td>balance</td>\n",
              "      <td>True</td>\n",
              "    </tr>\n",
              "    <tr>\n",
              "      <th>2</th>\n",
              "      <td>campaign</td>\n",
              "      <td>True</td>\n",
              "    </tr>\n",
              "    <tr>\n",
              "      <th>3</th>\n",
              "      <td>contact</td>\n",
              "      <td>True</td>\n",
              "    </tr>\n",
              "    <tr>\n",
              "      <th>4</th>\n",
              "      <td>day</td>\n",
              "      <td>True</td>\n",
              "    </tr>\n",
              "    <tr>\n",
              "      <th>5</th>\n",
              "      <td>default</td>\n",
              "      <td>True</td>\n",
              "    </tr>\n",
              "    <tr>\n",
              "      <th>6</th>\n",
              "      <td>duration</td>\n",
              "      <td>True</td>\n",
              "    </tr>\n",
              "    <tr>\n",
              "      <th>7</th>\n",
              "      <td>education</td>\n",
              "      <td>True</td>\n",
              "    </tr>\n",
              "    <tr>\n",
              "      <th>8</th>\n",
              "      <td>housing</td>\n",
              "      <td>True</td>\n",
              "    </tr>\n",
              "    <tr>\n",
              "      <th>9</th>\n",
              "      <td>job</td>\n",
              "      <td>True</td>\n",
              "    </tr>\n",
              "    <tr>\n",
              "      <th>10</th>\n",
              "      <td>loan</td>\n",
              "      <td>True</td>\n",
              "    </tr>\n",
              "    <tr>\n",
              "      <th>11</th>\n",
              "      <td>marital</td>\n",
              "      <td>True</td>\n",
              "    </tr>\n",
              "    <tr>\n",
              "      <th>12</th>\n",
              "      <td>month</td>\n",
              "      <td>True</td>\n",
              "    </tr>\n",
              "    <tr>\n",
              "      <th>13</th>\n",
              "      <td>pdays</td>\n",
              "      <td>True</td>\n",
              "    </tr>\n",
              "    <tr>\n",
              "      <th>14</th>\n",
              "      <td>poutcome</td>\n",
              "      <td>True</td>\n",
              "    </tr>\n",
              "    <tr>\n",
              "      <th>15</th>\n",
              "      <td>previous</td>\n",
              "      <td>True</td>\n",
              "    </tr>\n",
              "  </tbody>\n",
              "</table>\n",
              "</div>"
            ],
            "text/plain": [
              "        index   RFE\n",
              "0         age  True\n",
              "1     balance  True\n",
              "2    campaign  True\n",
              "3     contact  True\n",
              "4         day  True\n",
              "5     default  True\n",
              "6    duration  True\n",
              "7   education  True\n",
              "8     housing  True\n",
              "9         job  True\n",
              "10       loan  True\n",
              "11    marital  True\n",
              "12      month  True\n",
              "13      pdays  True\n",
              "14   poutcome  True\n",
              "15   previous  True"
            ]
          },
          "metadata": {
            "tags": []
          },
          "execution_count": 27
        }
      ]
    },
    {
      "cell_type": "markdown",
      "metadata": {
        "id": "H_K1nHxP-dIl",
        "colab_type": "text"
      },
      "source": [
        "## 4.4 Variable Importance using Extratrees Classifier"
      ]
    },
    {
      "cell_type": "code",
      "metadata": {
        "id": "7kxSud8l-dIm",
        "colab_type": "code",
        "colab": {
          "base_uri": "https://localhost:8080/",
          "height": 122
        },
        "outputId": "8f19e1d0-acac-4bc6-af0d-6b6daa33b5ba"
      },
      "source": [
        "from sklearn.ensemble import ExtraTreesClassifier\n",
        "\n",
        "model = ExtraTreesClassifier()\n",
        "model.fit(features, labels)\n",
        "\n",
        "print(model.feature_importances_)"
      ],
      "execution_count": 28,
      "outputs": [
        {
          "output_type": "stream",
          "text": [
            "[0.08992161 0.07964412 0.05832016 0.02654082 0.09602414 0.00595323\n",
            " 0.25408455 0.04806757 0.02219431 0.05966587 0.01345551 0.03718881\n",
            " 0.08602275 0.03632086 0.05690074 0.02969493]\n"
          ],
          "name": "stdout"
        },
        {
          "output_type": "stream",
          "text": [
            "/usr/local/lib/python3.6/dist-packages/sklearn/ensemble/forest.py:245: FutureWarning: The default value of n_estimators will change from 10 in version 0.20 to 100 in 0.22.\n",
            "  \"10 in version 0.20 to 100 in 0.22.\", FutureWarning)\n"
          ],
          "name": "stderr"
        }
      ]
    },
    {
      "cell_type": "code",
      "metadata": {
        "id": "twoYR-ui-dIp",
        "colab_type": "code",
        "colab": {}
      },
      "source": [
        "from pandas import DataFrame\n",
        "FI = DataFrame(model.feature_importances_, columns = [\"Extratrees\"], index=features.columns)"
      ],
      "execution_count": 0,
      "outputs": []
    },
    {
      "cell_type": "code",
      "metadata": {
        "id": "gEuu-PWA-dIt",
        "colab_type": "code",
        "colab": {}
      },
      "source": [
        "FI = FI.reset_index()"
      ],
      "execution_count": 0,
      "outputs": []
    },
    {
      "cell_type": "code",
      "metadata": {
        "scrolled": true,
        "id": "51FLEbhk-dIx",
        "colab_type": "code",
        "colab": {
          "base_uri": "https://localhost:8080/",
          "height": 545
        },
        "outputId": "805f3dcb-56ea-42a5-c889-ef453a3ac5f9"
      },
      "source": [
        "FI.sort_values(['Extratrees'],ascending=0)"
      ],
      "execution_count": 31,
      "outputs": [
        {
          "output_type": "execute_result",
          "data": {
            "text/html": [
              "<div>\n",
              "<style scoped>\n",
              "    .dataframe tbody tr th:only-of-type {\n",
              "        vertical-align: middle;\n",
              "    }\n",
              "\n",
              "    .dataframe tbody tr th {\n",
              "        vertical-align: top;\n",
              "    }\n",
              "\n",
              "    .dataframe thead th {\n",
              "        text-align: right;\n",
              "    }\n",
              "</style>\n",
              "<table border=\"1\" class=\"dataframe\">\n",
              "  <thead>\n",
              "    <tr style=\"text-align: right;\">\n",
              "      <th></th>\n",
              "      <th>index</th>\n",
              "      <th>Extratrees</th>\n",
              "    </tr>\n",
              "  </thead>\n",
              "  <tbody>\n",
              "    <tr>\n",
              "      <th>6</th>\n",
              "      <td>duration</td>\n",
              "      <td>0.254085</td>\n",
              "    </tr>\n",
              "    <tr>\n",
              "      <th>4</th>\n",
              "      <td>day</td>\n",
              "      <td>0.096024</td>\n",
              "    </tr>\n",
              "    <tr>\n",
              "      <th>0</th>\n",
              "      <td>age</td>\n",
              "      <td>0.089922</td>\n",
              "    </tr>\n",
              "    <tr>\n",
              "      <th>12</th>\n",
              "      <td>month</td>\n",
              "      <td>0.086023</td>\n",
              "    </tr>\n",
              "    <tr>\n",
              "      <th>1</th>\n",
              "      <td>balance</td>\n",
              "      <td>0.079644</td>\n",
              "    </tr>\n",
              "    <tr>\n",
              "      <th>9</th>\n",
              "      <td>job</td>\n",
              "      <td>0.059666</td>\n",
              "    </tr>\n",
              "    <tr>\n",
              "      <th>2</th>\n",
              "      <td>campaign</td>\n",
              "      <td>0.058320</td>\n",
              "    </tr>\n",
              "    <tr>\n",
              "      <th>14</th>\n",
              "      <td>poutcome</td>\n",
              "      <td>0.056901</td>\n",
              "    </tr>\n",
              "    <tr>\n",
              "      <th>7</th>\n",
              "      <td>education</td>\n",
              "      <td>0.048068</td>\n",
              "    </tr>\n",
              "    <tr>\n",
              "      <th>11</th>\n",
              "      <td>marital</td>\n",
              "      <td>0.037189</td>\n",
              "    </tr>\n",
              "    <tr>\n",
              "      <th>13</th>\n",
              "      <td>pdays</td>\n",
              "      <td>0.036321</td>\n",
              "    </tr>\n",
              "    <tr>\n",
              "      <th>15</th>\n",
              "      <td>previous</td>\n",
              "      <td>0.029695</td>\n",
              "    </tr>\n",
              "    <tr>\n",
              "      <th>3</th>\n",
              "      <td>contact</td>\n",
              "      <td>0.026541</td>\n",
              "    </tr>\n",
              "    <tr>\n",
              "      <th>8</th>\n",
              "      <td>housing</td>\n",
              "      <td>0.022194</td>\n",
              "    </tr>\n",
              "    <tr>\n",
              "      <th>10</th>\n",
              "      <td>loan</td>\n",
              "      <td>0.013456</td>\n",
              "    </tr>\n",
              "    <tr>\n",
              "      <th>5</th>\n",
              "      <td>default</td>\n",
              "      <td>0.005953</td>\n",
              "    </tr>\n",
              "  </tbody>\n",
              "</table>\n",
              "</div>"
            ],
            "text/plain": [
              "        index  Extratrees\n",
              "6    duration    0.254085\n",
              "4         day    0.096024\n",
              "0         age    0.089922\n",
              "12      month    0.086023\n",
              "1     balance    0.079644\n",
              "9         job    0.059666\n",
              "2    campaign    0.058320\n",
              "14   poutcome    0.056901\n",
              "7   education    0.048068\n",
              "11    marital    0.037189\n",
              "13      pdays    0.036321\n",
              "15   previous    0.029695\n",
              "3     contact    0.026541\n",
              "8     housing    0.022194\n",
              "10       loan    0.013456\n",
              "5     default    0.005953"
            ]
          },
          "metadata": {
            "tags": []
          },
          "execution_count": 31
        }
      ]
    },
    {
      "cell_type": "markdown",
      "metadata": {
        "id": "B4uwD20X-dI0",
        "colab_type": "text"
      },
      "source": [
        "## 4.5 Chi Square"
      ]
    },
    {
      "cell_type": "code",
      "metadata": {
        "id": "DRA9EEcX-dI1",
        "colab_type": "code",
        "colab": {}
      },
      "source": [
        "from sklearn.feature_selection import SelectKBest\n",
        "from sklearn.feature_selection import chi2\n",
        "\n",
        "model = SelectKBest(score_func=chi2, k=5)\n",
        "fit = model.fit(features.abs(), labels)"
      ],
      "execution_count": 0,
      "outputs": []
    },
    {
      "cell_type": "code",
      "metadata": {
        "id": "_R8wyEJw-dI3",
        "colab_type": "code",
        "colab": {}
      },
      "source": [
        "from pandas import DataFrame\n",
        "pd.options.display.float_format = '{:.2f}'.format\n",
        "chi_sq = DataFrame(fit.scores_, columns = [\"Chi_Square\"], index=features.columns)"
      ],
      "execution_count": 0,
      "outputs": []
    },
    {
      "cell_type": "code",
      "metadata": {
        "id": "Qb5G-_WS-dI7",
        "colab_type": "code",
        "colab": {}
      },
      "source": [
        "chi_sq = chi_sq.reset_index()"
      ],
      "execution_count": 0,
      "outputs": []
    },
    {
      "cell_type": "code",
      "metadata": {
        "scrolled": true,
        "id": "bL-ABI6o-dJH",
        "colab_type": "code",
        "colab": {
          "base_uri": "https://localhost:8080/",
          "height": 545
        },
        "outputId": "b77452df-27aa-4493-da01-4c43a1df9a3d"
      },
      "source": [
        "chi_sq.sort_values('Chi_Square',ascending=0)"
      ],
      "execution_count": 35,
      "outputs": [
        {
          "output_type": "execute_result",
          "data": {
            "text/html": [
              "<div>\n",
              "<style scoped>\n",
              "    .dataframe tbody tr th:only-of-type {\n",
              "        vertical-align: middle;\n",
              "    }\n",
              "\n",
              "    .dataframe tbody tr th {\n",
              "        vertical-align: top;\n",
              "    }\n",
              "\n",
              "    .dataframe thead th {\n",
              "        text-align: right;\n",
              "    }\n",
              "</style>\n",
              "<table border=\"1\" class=\"dataframe\">\n",
              "  <thead>\n",
              "    <tr style=\"text-align: right;\">\n",
              "      <th></th>\n",
              "      <th>index</th>\n",
              "      <th>Chi_Square</th>\n",
              "    </tr>\n",
              "  </thead>\n",
              "  <tbody>\n",
              "    <tr>\n",
              "      <th>6</th>\n",
              "      <td>duration</td>\n",
              "      <td>186041.90</td>\n",
              "    </tr>\n",
              "    <tr>\n",
              "      <th>13</th>\n",
              "      <td>pdays</td>\n",
              "      <td>11573.63</td>\n",
              "    </tr>\n",
              "    <tr>\n",
              "      <th>1</th>\n",
              "      <td>balance</td>\n",
              "      <td>7997.11</td>\n",
              "    </tr>\n",
              "    <tr>\n",
              "      <th>15</th>\n",
              "      <td>previous</td>\n",
              "      <td>325.48</td>\n",
              "    </tr>\n",
              "    <tr>\n",
              "      <th>3</th>\n",
              "      <td>contact</td>\n",
              "      <td>100.51</td>\n",
              "    </tr>\n",
              "    <tr>\n",
              "      <th>2</th>\n",
              "      <td>campaign</td>\n",
              "      <td>58.50</td>\n",
              "    </tr>\n",
              "    <tr>\n",
              "      <th>0</th>\n",
              "      <td>age</td>\n",
              "      <td>24.97</td>\n",
              "    </tr>\n",
              "    <tr>\n",
              "      <th>8</th>\n",
              "      <td>housing</td>\n",
              "      <td>21.50</td>\n",
              "    </tr>\n",
              "    <tr>\n",
              "      <th>10</th>\n",
              "      <td>loan</td>\n",
              "      <td>19.05</td>\n",
              "    </tr>\n",
              "    <tr>\n",
              "      <th>12</th>\n",
              "      <td>month</td>\n",
              "      <td>12.33</td>\n",
              "    </tr>\n",
              "    <tr>\n",
              "      <th>14</th>\n",
              "      <td>poutcome</td>\n",
              "      <td>11.87</td>\n",
              "    </tr>\n",
              "    <tr>\n",
              "      <th>9</th>\n",
              "      <td>job</td>\n",
              "      <td>8.15</td>\n",
              "    </tr>\n",
              "    <tr>\n",
              "      <th>7</th>\n",
              "      <td>education</td>\n",
              "      <td>3.80</td>\n",
              "    </tr>\n",
              "    <tr>\n",
              "      <th>4</th>\n",
              "      <td>day</td>\n",
              "      <td>2.44</td>\n",
              "    </tr>\n",
              "    <tr>\n",
              "      <th>11</th>\n",
              "      <td>marital</td>\n",
              "      <td>0.32</td>\n",
              "    </tr>\n",
              "    <tr>\n",
              "      <th>5</th>\n",
              "      <td>default</td>\n",
              "      <td>0.01</td>\n",
              "    </tr>\n",
              "  </tbody>\n",
              "</table>\n",
              "</div>"
            ],
            "text/plain": [
              "        index  Chi_Square\n",
              "6    duration   186041.90\n",
              "13      pdays    11573.63\n",
              "1     balance     7997.11\n",
              "15   previous      325.48\n",
              "3     contact      100.51\n",
              "2    campaign       58.50\n",
              "0         age       24.97\n",
              "8     housing       21.50\n",
              "10       loan       19.05\n",
              "12      month       12.33\n",
              "14   poutcome       11.87\n",
              "9         job        8.15\n",
              "7   education        3.80\n",
              "4         day        2.44\n",
              "11    marital        0.32\n",
              "5     default        0.01"
            ]
          },
          "metadata": {
            "tags": []
          },
          "execution_count": 35
        }
      ]
    },
    {
      "cell_type": "markdown",
      "metadata": {
        "id": "pdq2IwBK-dJO",
        "colab_type": "text"
      },
      "source": [
        "## 4.6 L1 feature selection"
      ]
    },
    {
      "cell_type": "code",
      "metadata": {
        "id": "tgkjnVhL-dJP",
        "colab_type": "code",
        "colab": {}
      },
      "source": [
        "from sklearn.svm import LinearSVC\n",
        "from sklearn.feature_selection import SelectFromModel\n",
        "lsvc = LinearSVC(C=0.01, penalty=\"l1\", dual=False).fit(features, labels)\n",
        "model = SelectFromModel(lsvc,prefit=True)"
      ],
      "execution_count": 0,
      "outputs": []
    },
    {
      "cell_type": "code",
      "metadata": {
        "id": "ngb717tn-dJS",
        "colab_type": "code",
        "colab": {}
      },
      "source": [
        "from pandas import DataFrame\n",
        "l1 = DataFrame(model.get_support(), columns = [\"L1\"], index=features.columns)\n",
        "l1 = l1.reset_index()"
      ],
      "execution_count": 0,
      "outputs": []
    },
    {
      "cell_type": "code",
      "metadata": {
        "scrolled": true,
        "id": "yYYw1GGx-dJW",
        "colab_type": "code",
        "colab": {
          "base_uri": "https://localhost:8080/",
          "height": 452
        },
        "outputId": "960d734e-5a9e-401d-f3c1-c33da5e5b299"
      },
      "source": [
        "l1[l1['L1'] == True]"
      ],
      "execution_count": 38,
      "outputs": [
        {
          "output_type": "execute_result",
          "data": {
            "text/html": [
              "<div>\n",
              "<style scoped>\n",
              "    .dataframe tbody tr th:only-of-type {\n",
              "        vertical-align: middle;\n",
              "    }\n",
              "\n",
              "    .dataframe tbody tr th {\n",
              "        vertical-align: top;\n",
              "    }\n",
              "\n",
              "    .dataframe thead th {\n",
              "        text-align: right;\n",
              "    }\n",
              "</style>\n",
              "<table border=\"1\" class=\"dataframe\">\n",
              "  <thead>\n",
              "    <tr style=\"text-align: right;\">\n",
              "      <th></th>\n",
              "      <th>index</th>\n",
              "      <th>L1</th>\n",
              "    </tr>\n",
              "  </thead>\n",
              "  <tbody>\n",
              "    <tr>\n",
              "      <th>0</th>\n",
              "      <td>age</td>\n",
              "      <td>True</td>\n",
              "    </tr>\n",
              "    <tr>\n",
              "      <th>2</th>\n",
              "      <td>campaign</td>\n",
              "      <td>True</td>\n",
              "    </tr>\n",
              "    <tr>\n",
              "      <th>3</th>\n",
              "      <td>contact</td>\n",
              "      <td>True</td>\n",
              "    </tr>\n",
              "    <tr>\n",
              "      <th>4</th>\n",
              "      <td>day</td>\n",
              "      <td>True</td>\n",
              "    </tr>\n",
              "    <tr>\n",
              "      <th>6</th>\n",
              "      <td>duration</td>\n",
              "      <td>True</td>\n",
              "    </tr>\n",
              "    <tr>\n",
              "      <th>8</th>\n",
              "      <td>housing</td>\n",
              "      <td>True</td>\n",
              "    </tr>\n",
              "    <tr>\n",
              "      <th>9</th>\n",
              "      <td>job</td>\n",
              "      <td>True</td>\n",
              "    </tr>\n",
              "    <tr>\n",
              "      <th>10</th>\n",
              "      <td>loan</td>\n",
              "      <td>True</td>\n",
              "    </tr>\n",
              "    <tr>\n",
              "      <th>11</th>\n",
              "      <td>marital</td>\n",
              "      <td>True</td>\n",
              "    </tr>\n",
              "    <tr>\n",
              "      <th>12</th>\n",
              "      <td>month</td>\n",
              "      <td>True</td>\n",
              "    </tr>\n",
              "    <tr>\n",
              "      <th>13</th>\n",
              "      <td>pdays</td>\n",
              "      <td>True</td>\n",
              "    </tr>\n",
              "    <tr>\n",
              "      <th>14</th>\n",
              "      <td>poutcome</td>\n",
              "      <td>True</td>\n",
              "    </tr>\n",
              "    <tr>\n",
              "      <th>15</th>\n",
              "      <td>previous</td>\n",
              "      <td>True</td>\n",
              "    </tr>\n",
              "  </tbody>\n",
              "</table>\n",
              "</div>"
            ],
            "text/plain": [
              "       index    L1\n",
              "0        age  True\n",
              "2   campaign  True\n",
              "3    contact  True\n",
              "4        day  True\n",
              "6   duration  True\n",
              "8    housing  True\n",
              "9        job  True\n",
              "10      loan  True\n",
              "11   marital  True\n",
              "12     month  True\n",
              "13     pdays  True\n",
              "14  poutcome  True\n",
              "15  previous  True"
            ]
          },
          "metadata": {
            "tags": []
          },
          "execution_count": 38
        }
      ]
    },
    {
      "cell_type": "markdown",
      "metadata": {
        "id": "sxVah_IO-dJa",
        "colab_type": "text"
      },
      "source": [
        "## 4.7 Combine all together"
      ]
    },
    {
      "cell_type": "code",
      "metadata": {
        "id": "EgUfiDXG-dJc",
        "colab_type": "code",
        "colab": {}
      },
      "source": [
        "from functools import reduce\n",
        "dfs = [IV, VI, Selected, FI, chi_sq, l1]\n",
        "final_results = reduce(lambda left,right: pd.merge(left,right,on='index'), dfs)"
      ],
      "execution_count": 0,
      "outputs": []
    },
    {
      "cell_type": "markdown",
      "metadata": {
        "id": "xW5mh2la-dJk",
        "colab_type": "text"
      },
      "source": [
        "## 4.8 Vote each variable"
      ]
    },
    {
      "cell_type": "code",
      "metadata": {
        "id": "O1c2SLsn-dJp",
        "colab_type": "code",
        "colab": {}
      },
      "source": [
        "columns = ['IV', 'RF', 'Extratrees', 'Chi_Square']\n",
        "\n",
        "score_table = pd.DataFrame({},[])\n",
        "score_table['index'] = final_results['index']\n",
        "\n",
        "for i in columns:\n",
        "    score_table[i] = final_results['index'].isin(list(final_results.nlargest(5,i)['index'])).astype(int)\n",
        "    \n",
        "score_table['RFE'] = final_results['RFE'].astype(int)\n",
        "score_table['L1'] = final_results['L1'].astype(int)"
      ],
      "execution_count": 0,
      "outputs": []
    },
    {
      "cell_type": "code",
      "metadata": {
        "id": "meRNXL5e-dJs",
        "colab_type": "code",
        "colab": {}
      },
      "source": [
        "score_table['final_score'] = score_table.sum(axis=1)"
      ],
      "execution_count": 0,
      "outputs": []
    },
    {
      "cell_type": "code",
      "metadata": {
        "scrolled": true,
        "id": "mVGEbXsR-dJw",
        "colab_type": "code",
        "colab": {
          "base_uri": "https://localhost:8080/",
          "height": 545
        },
        "outputId": "ff715e0b-7dde-453c-926c-c0b8d3e69ba9"
      },
      "source": [
        "score_table.sort_values('final_score',ascending=0)"
      ],
      "execution_count": 42,
      "outputs": [
        {
          "output_type": "execute_result",
          "data": {
            "text/html": [
              "<div>\n",
              "<style scoped>\n",
              "    .dataframe tbody tr th:only-of-type {\n",
              "        vertical-align: middle;\n",
              "    }\n",
              "\n",
              "    .dataframe tbody tr th {\n",
              "        vertical-align: top;\n",
              "    }\n",
              "\n",
              "    .dataframe thead th {\n",
              "        text-align: right;\n",
              "    }\n",
              "</style>\n",
              "<table border=\"1\" class=\"dataframe\">\n",
              "  <thead>\n",
              "    <tr style=\"text-align: right;\">\n",
              "      <th></th>\n",
              "      <th>index</th>\n",
              "      <th>IV</th>\n",
              "      <th>RF</th>\n",
              "      <th>Extratrees</th>\n",
              "      <th>Chi_Square</th>\n",
              "      <th>RFE</th>\n",
              "      <th>L1</th>\n",
              "      <th>final_score</th>\n",
              "    </tr>\n",
              "  </thead>\n",
              "  <tbody>\n",
              "    <tr>\n",
              "      <th>6</th>\n",
              "      <td>duration</td>\n",
              "      <td>1</td>\n",
              "      <td>1</td>\n",
              "      <td>1</td>\n",
              "      <td>1</td>\n",
              "      <td>1</td>\n",
              "      <td>1</td>\n",
              "      <td>6</td>\n",
              "    </tr>\n",
              "    <tr>\n",
              "      <th>0</th>\n",
              "      <td>age</td>\n",
              "      <td>0</td>\n",
              "      <td>1</td>\n",
              "      <td>1</td>\n",
              "      <td>0</td>\n",
              "      <td>1</td>\n",
              "      <td>1</td>\n",
              "      <td>4</td>\n",
              "    </tr>\n",
              "    <tr>\n",
              "      <th>1</th>\n",
              "      <td>balance</td>\n",
              "      <td>0</td>\n",
              "      <td>1</td>\n",
              "      <td>1</td>\n",
              "      <td>1</td>\n",
              "      <td>1</td>\n",
              "      <td>0</td>\n",
              "      <td>4</td>\n",
              "    </tr>\n",
              "    <tr>\n",
              "      <th>3</th>\n",
              "      <td>contact</td>\n",
              "      <td>1</td>\n",
              "      <td>0</td>\n",
              "      <td>0</td>\n",
              "      <td>1</td>\n",
              "      <td>1</td>\n",
              "      <td>1</td>\n",
              "      <td>4</td>\n",
              "    </tr>\n",
              "    <tr>\n",
              "      <th>4</th>\n",
              "      <td>day</td>\n",
              "      <td>0</td>\n",
              "      <td>1</td>\n",
              "      <td>1</td>\n",
              "      <td>0</td>\n",
              "      <td>1</td>\n",
              "      <td>1</td>\n",
              "      <td>4</td>\n",
              "    </tr>\n",
              "    <tr>\n",
              "      <th>12</th>\n",
              "      <td>month</td>\n",
              "      <td>0</td>\n",
              "      <td>1</td>\n",
              "      <td>1</td>\n",
              "      <td>0</td>\n",
              "      <td>1</td>\n",
              "      <td>1</td>\n",
              "      <td>4</td>\n",
              "    </tr>\n",
              "    <tr>\n",
              "      <th>13</th>\n",
              "      <td>pdays</td>\n",
              "      <td>1</td>\n",
              "      <td>0</td>\n",
              "      <td>0</td>\n",
              "      <td>1</td>\n",
              "      <td>1</td>\n",
              "      <td>1</td>\n",
              "      <td>4</td>\n",
              "    </tr>\n",
              "    <tr>\n",
              "      <th>15</th>\n",
              "      <td>previous</td>\n",
              "      <td>1</td>\n",
              "      <td>0</td>\n",
              "      <td>0</td>\n",
              "      <td>1</td>\n",
              "      <td>1</td>\n",
              "      <td>1</td>\n",
              "      <td>4</td>\n",
              "    </tr>\n",
              "    <tr>\n",
              "      <th>8</th>\n",
              "      <td>housing</td>\n",
              "      <td>1</td>\n",
              "      <td>0</td>\n",
              "      <td>0</td>\n",
              "      <td>0</td>\n",
              "      <td>1</td>\n",
              "      <td>1</td>\n",
              "      <td>3</td>\n",
              "    </tr>\n",
              "    <tr>\n",
              "      <th>2</th>\n",
              "      <td>campaign</td>\n",
              "      <td>0</td>\n",
              "      <td>0</td>\n",
              "      <td>0</td>\n",
              "      <td>0</td>\n",
              "      <td>1</td>\n",
              "      <td>1</td>\n",
              "      <td>2</td>\n",
              "    </tr>\n",
              "    <tr>\n",
              "      <th>9</th>\n",
              "      <td>job</td>\n",
              "      <td>0</td>\n",
              "      <td>0</td>\n",
              "      <td>0</td>\n",
              "      <td>0</td>\n",
              "      <td>1</td>\n",
              "      <td>1</td>\n",
              "      <td>2</td>\n",
              "    </tr>\n",
              "    <tr>\n",
              "      <th>10</th>\n",
              "      <td>loan</td>\n",
              "      <td>0</td>\n",
              "      <td>0</td>\n",
              "      <td>0</td>\n",
              "      <td>0</td>\n",
              "      <td>1</td>\n",
              "      <td>1</td>\n",
              "      <td>2</td>\n",
              "    </tr>\n",
              "    <tr>\n",
              "      <th>11</th>\n",
              "      <td>marital</td>\n",
              "      <td>0</td>\n",
              "      <td>0</td>\n",
              "      <td>0</td>\n",
              "      <td>0</td>\n",
              "      <td>1</td>\n",
              "      <td>1</td>\n",
              "      <td>2</td>\n",
              "    </tr>\n",
              "    <tr>\n",
              "      <th>14</th>\n",
              "      <td>poutcome</td>\n",
              "      <td>0</td>\n",
              "      <td>0</td>\n",
              "      <td>0</td>\n",
              "      <td>0</td>\n",
              "      <td>1</td>\n",
              "      <td>1</td>\n",
              "      <td>2</td>\n",
              "    </tr>\n",
              "    <tr>\n",
              "      <th>5</th>\n",
              "      <td>default</td>\n",
              "      <td>0</td>\n",
              "      <td>0</td>\n",
              "      <td>0</td>\n",
              "      <td>0</td>\n",
              "      <td>1</td>\n",
              "      <td>0</td>\n",
              "      <td>1</td>\n",
              "    </tr>\n",
              "    <tr>\n",
              "      <th>7</th>\n",
              "      <td>education</td>\n",
              "      <td>0</td>\n",
              "      <td>0</td>\n",
              "      <td>0</td>\n",
              "      <td>0</td>\n",
              "      <td>1</td>\n",
              "      <td>0</td>\n",
              "      <td>1</td>\n",
              "    </tr>\n",
              "  </tbody>\n",
              "</table>\n",
              "</div>"
            ],
            "text/plain": [
              "        index  IV  RF  Extratrees  Chi_Square  RFE  L1  final_score\n",
              "6    duration   1   1           1           1    1   1            6\n",
              "0         age   0   1           1           0    1   1            4\n",
              "1     balance   0   1           1           1    1   0            4\n",
              "3     contact   1   0           0           1    1   1            4\n",
              "4         day   0   1           1           0    1   1            4\n",
              "12      month   0   1           1           0    1   1            4\n",
              "13      pdays   1   0           0           1    1   1            4\n",
              "15   previous   1   0           0           1    1   1            4\n",
              "8     housing   1   0           0           0    1   1            3\n",
              "2    campaign   0   0           0           0    1   1            2\n",
              "9         job   0   0           0           0    1   1            2\n",
              "10       loan   0   0           0           0    1   1            2\n",
              "11    marital   0   0           0           0    1   1            2\n",
              "14   poutcome   0   0           0           0    1   1            2\n",
              "5     default   0   0           0           0    1   0            1\n",
              "7   education   0   0           0           0    1   0            1"
            ]
          },
          "metadata": {
            "tags": []
          },
          "execution_count": 42
        }
      ]
    },
    {
      "cell_type": "markdown",
      "metadata": {
        "id": "5RLYpfWu-dJ2",
        "colab_type": "text"
      },
      "source": [
        "## 4.9 Multicollinearity"
      ]
    },
    {
      "cell_type": "code",
      "metadata": {
        "id": "_gBd_Hav-dJ3",
        "colab_type": "code",
        "colab": {}
      },
      "source": [
        "from statsmodels.stats.outliers_influence import variance_inflation_factor"
      ],
      "execution_count": 0,
      "outputs": []
    },
    {
      "cell_type": "code",
      "metadata": {
        "id": "XNMEtTS4-dJ7",
        "colab_type": "code",
        "colab": {}
      },
      "source": [
        "def calculate_vif(features):\n",
        "    vif = pd.DataFrame()\n",
        "    vif[\"Features\"] = features.columns\n",
        "    vif[\"VIF\"] = [variance_inflation_factor(features.values, i) for i in range(features.shape[1])]    \n",
        "    return(vif)"
      ],
      "execution_count": 0,
      "outputs": []
    },
    {
      "cell_type": "code",
      "metadata": {
        "id": "dUfw3VDm-dKB",
        "colab_type": "code",
        "colab": {}
      },
      "source": [
        "features = features[list(score_table[score_table['final_score'] >= 2]['index'])]"
      ],
      "execution_count": 0,
      "outputs": []
    },
    {
      "cell_type": "code",
      "metadata": {
        "id": "SKRtqWJ0-dKD",
        "colab_type": "code",
        "colab": {}
      },
      "source": [
        "vif = calculate_vif(features)\n",
        "while vif['VIF'][vif['VIF'] > 10].any():\n",
        "    remove = vif.sort_values('VIF',ascending=0)['Features'][:1]\n",
        "    features.drop(remove,axis=1,inplace=True)\n",
        "    vif = calculate_vif(features)"
      ],
      "execution_count": 0,
      "outputs": []
    },
    {
      "cell_type": "code",
      "metadata": {
        "id": "5fATLVUB-dKH",
        "colab_type": "code",
        "colab": {
          "base_uri": "https://localhost:8080/",
          "height": 238
        },
        "outputId": "0180e081-5b20-401f-af66-1c59a398612d"
      },
      "source": [
        "list(vif['Features'])"
      ],
      "execution_count": 47,
      "outputs": [
        {
          "output_type": "execute_result",
          "data": {
            "text/plain": [
              "['age',\n",
              " 'balance',\n",
              " 'campaign',\n",
              " 'contact',\n",
              " 'day',\n",
              " 'duration',\n",
              " 'housing',\n",
              " 'job',\n",
              " 'loan',\n",
              " 'marital',\n",
              " 'month',\n",
              " 'pdays',\n",
              " 'previous']"
            ]
          },
          "metadata": {
            "tags": []
          },
          "execution_count": 47
        }
      ]
    },
    {
      "cell_type": "markdown",
      "metadata": {
        "id": "NFn1569Y-dKP",
        "colab_type": "text"
      },
      "source": [
        "## Descriptive Stats and Visualization - For selected variables"
      ]
    },
    {
      "cell_type": "code",
      "metadata": {
        "id": "KHlxlUIZ-dKS",
        "colab_type": "code",
        "colab": {}
      },
      "source": [
        "final_vars = list(vif['Features']) + ['target']"
      ],
      "execution_count": 0,
      "outputs": []
    },
    {
      "cell_type": "code",
      "metadata": {
        "id": "-fl4BSQe-dKZ",
        "colab_type": "code",
        "colab": {}
      },
      "source": [
        "df1 = df[final_vars].fillna(0)"
      ],
      "execution_count": 0,
      "outputs": []
    },
    {
      "cell_type": "code",
      "metadata": {
        "id": "Sg0g4917-dKd",
        "colab_type": "code",
        "colab": {
          "base_uri": "https://localhost:8080/",
          "height": 297
        },
        "outputId": "cf61ef52-4f9a-4eff-8bad-5141b91cd43b"
      },
      "source": [
        "df1.describe()"
      ],
      "execution_count": 50,
      "outputs": [
        {
          "output_type": "execute_result",
          "data": {
            "text/html": [
              "<div>\n",
              "<style scoped>\n",
              "    .dataframe tbody tr th:only-of-type {\n",
              "        vertical-align: middle;\n",
              "    }\n",
              "\n",
              "    .dataframe tbody tr th {\n",
              "        vertical-align: top;\n",
              "    }\n",
              "\n",
              "    .dataframe thead th {\n",
              "        text-align: right;\n",
              "    }\n",
              "</style>\n",
              "<table border=\"1\" class=\"dataframe\">\n",
              "  <thead>\n",
              "    <tr style=\"text-align: right;\">\n",
              "      <th></th>\n",
              "      <th>age</th>\n",
              "      <th>balance</th>\n",
              "      <th>campaign</th>\n",
              "      <th>contact</th>\n",
              "      <th>day</th>\n",
              "      <th>duration</th>\n",
              "      <th>housing</th>\n",
              "      <th>job</th>\n",
              "      <th>loan</th>\n",
              "      <th>marital</th>\n",
              "      <th>month</th>\n",
              "      <th>pdays</th>\n",
              "      <th>previous</th>\n",
              "      <th>target</th>\n",
              "    </tr>\n",
              "  </thead>\n",
              "  <tbody>\n",
              "    <tr>\n",
              "      <th>count</th>\n",
              "      <td>4521.00</td>\n",
              "      <td>4521.00</td>\n",
              "      <td>4521.00</td>\n",
              "      <td>4521.00</td>\n",
              "      <td>4521.00</td>\n",
              "      <td>4521.00</td>\n",
              "      <td>4521.00</td>\n",
              "      <td>4521.00</td>\n",
              "      <td>4521.00</td>\n",
              "      <td>4521.00</td>\n",
              "      <td>4521.00</td>\n",
              "      <td>4521.00</td>\n",
              "      <td>4521.00</td>\n",
              "      <td>4521.00</td>\n",
              "    </tr>\n",
              "    <tr>\n",
              "      <th>mean</th>\n",
              "      <td>41.17</td>\n",
              "      <td>1422.66</td>\n",
              "      <td>2.79</td>\n",
              "      <td>0.65</td>\n",
              "      <td>15.92</td>\n",
              "      <td>263.96</td>\n",
              "      <td>0.57</td>\n",
              "      <td>4.41</td>\n",
              "      <td>0.15</td>\n",
              "      <td>1.15</td>\n",
              "      <td>5.54</td>\n",
              "      <td>39.77</td>\n",
              "      <td>0.54</td>\n",
              "      <td>0.12</td>\n",
              "    </tr>\n",
              "    <tr>\n",
              "      <th>std</th>\n",
              "      <td>10.58</td>\n",
              "      <td>3009.64</td>\n",
              "      <td>3.11</td>\n",
              "      <td>0.90</td>\n",
              "      <td>8.25</td>\n",
              "      <td>259.86</td>\n",
              "      <td>0.50</td>\n",
              "      <td>3.26</td>\n",
              "      <td>0.36</td>\n",
              "      <td>0.60</td>\n",
              "      <td>3.00</td>\n",
              "      <td>100.12</td>\n",
              "      <td>1.69</td>\n",
              "      <td>0.32</td>\n",
              "    </tr>\n",
              "    <tr>\n",
              "      <th>min</th>\n",
              "      <td>19.00</td>\n",
              "      <td>-3313.00</td>\n",
              "      <td>1.00</td>\n",
              "      <td>0.00</td>\n",
              "      <td>1.00</td>\n",
              "      <td>4.00</td>\n",
              "      <td>0.00</td>\n",
              "      <td>0.00</td>\n",
              "      <td>0.00</td>\n",
              "      <td>0.00</td>\n",
              "      <td>0.00</td>\n",
              "      <td>-1.00</td>\n",
              "      <td>0.00</td>\n",
              "      <td>0.00</td>\n",
              "    </tr>\n",
              "    <tr>\n",
              "      <th>25%</th>\n",
              "      <td>33.00</td>\n",
              "      <td>69.00</td>\n",
              "      <td>1.00</td>\n",
              "      <td>0.00</td>\n",
              "      <td>9.00</td>\n",
              "      <td>104.00</td>\n",
              "      <td>0.00</td>\n",
              "      <td>1.00</td>\n",
              "      <td>0.00</td>\n",
              "      <td>1.00</td>\n",
              "      <td>3.00</td>\n",
              "      <td>-1.00</td>\n",
              "      <td>0.00</td>\n",
              "      <td>0.00</td>\n",
              "    </tr>\n",
              "    <tr>\n",
              "      <th>50%</th>\n",
              "      <td>39.00</td>\n",
              "      <td>444.00</td>\n",
              "      <td>2.00</td>\n",
              "      <td>0.00</td>\n",
              "      <td>16.00</td>\n",
              "      <td>185.00</td>\n",
              "      <td>1.00</td>\n",
              "      <td>4.00</td>\n",
              "      <td>0.00</td>\n",
              "      <td>1.00</td>\n",
              "      <td>6.00</td>\n",
              "      <td>-1.00</td>\n",
              "      <td>0.00</td>\n",
              "      <td>0.00</td>\n",
              "    </tr>\n",
              "    <tr>\n",
              "      <th>75%</th>\n",
              "      <td>49.00</td>\n",
              "      <td>1480.00</td>\n",
              "      <td>3.00</td>\n",
              "      <td>2.00</td>\n",
              "      <td>21.00</td>\n",
              "      <td>329.00</td>\n",
              "      <td>1.00</td>\n",
              "      <td>7.00</td>\n",
              "      <td>0.00</td>\n",
              "      <td>2.00</td>\n",
              "      <td>8.00</td>\n",
              "      <td>-1.00</td>\n",
              "      <td>0.00</td>\n",
              "      <td>0.00</td>\n",
              "    </tr>\n",
              "    <tr>\n",
              "      <th>max</th>\n",
              "      <td>87.00</td>\n",
              "      <td>71188.00</td>\n",
              "      <td>50.00</td>\n",
              "      <td>2.00</td>\n",
              "      <td>31.00</td>\n",
              "      <td>3025.00</td>\n",
              "      <td>1.00</td>\n",
              "      <td>11.00</td>\n",
              "      <td>1.00</td>\n",
              "      <td>2.00</td>\n",
              "      <td>11.00</td>\n",
              "      <td>871.00</td>\n",
              "      <td>25.00</td>\n",
              "      <td>1.00</td>\n",
              "    </tr>\n",
              "  </tbody>\n",
              "</table>\n",
              "</div>"
            ],
            "text/plain": [
              "          age  balance  campaign  contact  ...   month   pdays  previous  target\n",
              "count 4521.00  4521.00   4521.00  4521.00  ... 4521.00 4521.00   4521.00 4521.00\n",
              "mean    41.17  1422.66      2.79     0.65  ...    5.54   39.77      0.54    0.12\n",
              "std     10.58  3009.64      3.11     0.90  ...    3.00  100.12      1.69    0.32\n",
              "min     19.00 -3313.00      1.00     0.00  ...    0.00   -1.00      0.00    0.00\n",
              "25%     33.00    69.00      1.00     0.00  ...    3.00   -1.00      0.00    0.00\n",
              "50%     39.00   444.00      2.00     0.00  ...    6.00   -1.00      0.00    0.00\n",
              "75%     49.00  1480.00      3.00     2.00  ...    8.00   -1.00      0.00    0.00\n",
              "max     87.00 71188.00     50.00     2.00  ...   11.00  871.00     25.00    1.00\n",
              "\n",
              "[8 rows x 14 columns]"
            ]
          },
          "metadata": {
            "tags": []
          },
          "execution_count": 50
        }
      ]
    },
    {
      "cell_type": "code",
      "metadata": {
        "scrolled": true,
        "id": "yFtzLreT-dKj",
        "colab_type": "code",
        "colab": {
          "base_uri": "https://localhost:8080/",
          "height": 1000
        },
        "outputId": "c08ff8cc-c818-4919-fa45-67e0a1527896"
      },
      "source": [
        "bar_color = '#058caa'\n",
        "num_color = '#ed8549'\n",
        "\n",
        "final_iv,_ = data_vars(df1,df1['target'])\n",
        "final_iv = final_iv[(final_iv.VAR_NAME != 'target')]\n",
        "grouped = final_iv.groupby(['VAR_NAME'])\n",
        "for key, group in grouped:\n",
        "    ax = group.plot('MIN_VALUE','EVENT_RATE',kind='bar',color=bar_color,linewidth=1.0,edgecolor=['black'])\n",
        "    ax.set_title(str(key) + \" vs \" + str('target'))\n",
        "    ax.set_xlabel(key)\n",
        "    ax.set_ylabel(str('target') + \" %\")\n",
        "    rects = ax.patches\n",
        "    for rect in rects:\n",
        "        height = rect.get_height()\n",
        "        ax.text(rect.get_x()+rect.get_width()/2., 1.01*height, str(round(height*100,1)) + '%', \n",
        "                ha='center', va='bottom', color=num_color, fontweight='bold')"
      ],
      "execution_count": 51,
      "outputs": [
        {
          "output_type": "display_data",
          "data": {
            "image/png": "[encoded data removed]",
            "text/plain": [
              "<Figure size 432x288 with 1 Axes>"
            ]
          },
          "metadata": {
            "tags": []
          }
        },
        {
          "output_type": "display_data",
          "data": {
            "image/png": "[encoded data removed]",
            "text/plain": [
              "<Figure size 432x288 with 1 Axes>"
            ]
          },
          "metadata": {
            "tags": []
          }
        },
        {
          "output_type": "display_data",
          "data": {
            "image/png": "[encoded data removed]",
            "text/plain": [
              "<Figure size 432x288 with 1 Axes>"
            ]
          },
          "metadata": {
            "tags": []
          }
        },
        {
          "output_type": "display_data",
          "data": {
            "image/png": "[encoded data removed]",
            "text/plain": [
              "<Figure size 432x288 with 1 Axes>"
            ]
          },
          "metadata": {
            "tags": []
          }
        },
        {
          "output_type": "display_data",
          "data": {
            "image/png": "[encoded data removed]",
            "text/plain": [
              "<Figure size 432x288 with 1 Axes>"
            ]
          },
          "metadata": {
            "tags": []
          }
        },
        {
          "output_type": "display_data",
          "data": {
            "image/png": "[encoded data removed]",
            "text/plain": [
              "<Figure size 432x288 with 1 Axes>"
            ]
          },
          "metadata": {
            "tags": []
          }
        },
        {
          "output_type": "display_data",
          "data": {
            "image/png": "[encoded data removed]",
            "text/plain": [
              "<Figure size 432x288 with 1 Axes>"
            ]
          },
          "metadata": {
            "tags": []
          }
        },
        {
          "output_type": "display_data",
          "data": {
            "image/png": "[encoded data removed]",
            "text/plain": [
              "<Figure size 432x288 with 1 Axes>"
            ]
          },
          "metadata": {
            "tags": []
          }
        },
        {
          "output_type": "display_data",
          "data": {
            "image/png": "[encoded data removed]",
            "text/plain": [
              "<Figure size 432x288 with 1 Axes>"
            ]
          },
          "metadata": {
            "tags": []
          }
        },
        {
          "output_type": "display_data",
          "data": {
            "image/png": "[encoded data removed]",
            "text/plain": [
              "<Figure size 432x288 with 1 Axes>"
            ]
          },
          "metadata": {
            "tags": []
          }
        },
        {
          "output_type": "display_data",
          "data": {
            "image/png": "[encoded data removed]",
            "text/plain": [
              "<Figure size 432x288 with 1 Axes>"
            ]
          },
          "metadata": {
            "tags": []
          }
        },
        {
          "output_type": "display_data",
          "data": {
            "image/png": "[encoded data removed]",
            "text/plain": [
              "<Figure size 432x288 with 1 Axes>"
            ]
          },
          "metadata": {
            "tags": []
          }
        },
        {
          "output_type": "display_data",
          "data": {
            "image/png": "[encoded data removed]",
            "text/plain": [
              "<Figure size 432x288 with 1 Axes>"
            ]
          },
          "metadata": {
            "tags": []
          }
        }
      ]
    },
    {
      "cell_type": "markdown",
      "metadata": {
        "id": "eScLz-Lw-dKl",
        "colab_type": "text"
      },
      "source": [
        "# 5. Model"
      ]
    },
    {
      "cell_type": "code",
      "metadata": {
        "id": "8rTnXw7N-dKm",
        "colab_type": "code",
        "colab": {}
      },
      "source": [
        "#from sklearn.cross_validation import train_test_split\n",
        "\n",
        "from sklearn.model_selection import train_test_split\n",
        "\n",
        "train, test = train_test_split(df1, test_size = 0.4)\n",
        "train = train.reset_index(drop=True)\n",
        "test = test.reset_index(drop=True)\n",
        "\n",
        "features_train = train[list(vif['Features'])]\n",
        "label_train = train['target']\n",
        "features_test = test[list(vif['Features'])]\n",
        "label_test = test['target']"
      ],
      "execution_count": 0,
      "outputs": []
    },
    {
      "cell_type": "markdown",
      "metadata": {
        "id": "ZE5DKnEe-dKo",
        "colab_type": "text"
      },
      "source": [
        "## Random Forest"
      ]
    },
    {
      "cell_type": "code",
      "metadata": {
        "id": "ibCIxzc0-dKp",
        "colab_type": "code",
        "colab": {
          "base_uri": "https://localhost:8080/",
          "height": 88
        },
        "outputId": "01f15d01-a8fe-40b9-d9bf-e445af4c4ff1"
      },
      "source": [
        "from sklearn.ensemble import RandomForestClassifier\n",
        "clf = RandomForestClassifier()\n",
        "\n",
        "clf.fit(features_train,label_train)\n",
        "\n",
        "pred_train = clf.predict(features_train)\n",
        "pred_test = clf.predict(features_test)\n",
        "\n",
        "from sklearn.metrics import accuracy_score\n",
        "accuracy_train = accuracy_score(pred_train,label_train)\n",
        "accuracy_test = accuracy_score(pred_test,label_test)\n",
        "\n",
        "from sklearn import metrics\n",
        "fpr, tpr, _ = metrics.roc_curve(np.array(label_train), clf.predict_proba(features_train)[:,1])\n",
        "auc_train = metrics.auc(fpr,tpr)\n",
        "\n",
        "fpr, tpr, _ = metrics.roc_curve(np.array(label_test), clf.predict_proba(features_test)[:,1])\n",
        "auc_test = metrics.auc(fpr,tpr)\n",
        "\n",
        "print(accuracy_train,accuracy_test,auc_train,auc_test)"
      ],
      "execution_count": 54,
      "outputs": [
        {
          "output_type": "stream",
          "text": [
            "0.9918879056047197 0.8844665561083471 0.9997093922548349 0.8369397540129248\n"
          ],
          "name": "stdout"
        },
        {
          "output_type": "stream",
          "text": [
            "/usr/local/lib/python3.6/dist-packages/sklearn/ensemble/forest.py:245: FutureWarning: The default value of n_estimators will change from 10 in version 0.20 to 100 in 0.22.\n",
            "  \"10 in version 0.20 to 100 in 0.22.\", FutureWarning)\n"
          ],
          "name": "stderr"
        }
      ]
    },
    {
      "cell_type": "code",
      "metadata": {
        "id": "FLOadtfs-dKx",
        "colab_type": "code",
        "colab": {
          "base_uri": "https://localhost:8080/",
          "height": 142
        },
        "outputId": "a7c7d581-9353-4902-facf-fa51b8fd201b"
      },
      "source": [
        "pd.crosstab(label_train,pd.Series(pred_train),rownames=['ACTUAL'],colnames=['PRED'])"
      ],
      "execution_count": 55,
      "outputs": [
        {
          "output_type": "execute_result",
          "data": {
            "text/html": [
              "<div>\n",
              "<style scoped>\n",
              "    .dataframe tbody tr th:only-of-type {\n",
              "        vertical-align: middle;\n",
              "    }\n",
              "\n",
              "    .dataframe tbody tr th {\n",
              "        vertical-align: top;\n",
              "    }\n",
              "\n",
              "    .dataframe thead th {\n",
              "        text-align: right;\n",
              "    }\n",
              "</style>\n",
              "<table border=\"1\" class=\"dataframe\">\n",
              "  <thead>\n",
              "    <tr style=\"text-align: right;\">\n",
              "      <th>PRED</th>\n",
              "      <th>0</th>\n",
              "      <th>1</th>\n",
              "    </tr>\n",
              "    <tr>\n",
              "      <th>ACTUAL</th>\n",
              "      <th></th>\n",
              "      <th></th>\n",
              "    </tr>\n",
              "  </thead>\n",
              "  <tbody>\n",
              "    <tr>\n",
              "      <th>0</th>\n",
              "      <td>2400</td>\n",
              "      <td>1</td>\n",
              "    </tr>\n",
              "    <tr>\n",
              "      <th>1</th>\n",
              "      <td>21</td>\n",
              "      <td>290</td>\n",
              "    </tr>\n",
              "  </tbody>\n",
              "</table>\n",
              "</div>"
            ],
            "text/plain": [
              "PRED       0    1\n",
              "ACTUAL           \n",
              "0       2400    1\n",
              "1         21  290"
            ]
          },
          "metadata": {
            "tags": []
          },
          "execution_count": 55
        }
      ]
    },
    {
      "cell_type": "code",
      "metadata": {
        "id": "-wx4kX77-dK3",
        "colab_type": "code",
        "colab": {
          "base_uri": "https://localhost:8080/",
          "height": 142
        },
        "outputId": "e5b22797-a40d-423c-bc23-ccc24688eab8"
      },
      "source": [
        "pd.crosstab(label_test,pd.Series(pred_test),rownames=['ACTUAL'],colnames=['PRED'])"
      ],
      "execution_count": 56,
      "outputs": [
        {
          "output_type": "execute_result",
          "data": {
            "text/html": [
              "<div>\n",
              "<style scoped>\n",
              "    .dataframe tbody tr th:only-of-type {\n",
              "        vertical-align: middle;\n",
              "    }\n",
              "\n",
              "    .dataframe tbody tr th {\n",
              "        vertical-align: top;\n",
              "    }\n",
              "\n",
              "    .dataframe thead th {\n",
              "        text-align: right;\n",
              "    }\n",
              "</style>\n",
              "<table border=\"1\" class=\"dataframe\">\n",
              "  <thead>\n",
              "    <tr style=\"text-align: right;\">\n",
              "      <th>PRED</th>\n",
              "      <th>0</th>\n",
              "      <th>1</th>\n",
              "    </tr>\n",
              "    <tr>\n",
              "      <th>ACTUAL</th>\n",
              "      <th></th>\n",
              "      <th></th>\n",
              "    </tr>\n",
              "  </thead>\n",
              "  <tbody>\n",
              "    <tr>\n",
              "      <th>0</th>\n",
              "      <td>1562</td>\n",
              "      <td>37</td>\n",
              "    </tr>\n",
              "    <tr>\n",
              "      <th>1</th>\n",
              "      <td>172</td>\n",
              "      <td>38</td>\n",
              "    </tr>\n",
              "  </tbody>\n",
              "</table>\n",
              "</div>"
            ],
            "text/plain": [
              "PRED       0   1\n",
              "ACTUAL          \n",
              "0       1562  37\n",
              "1        172  38"
            ]
          },
          "metadata": {
            "tags": []
          },
          "execution_count": 56
        }
      ]
    },
    {
      "cell_type": "markdown",
      "metadata": {
        "id": "ODIWbrIy-dK7",
        "colab_type": "text"
      },
      "source": [
        "## Logistic Regression"
      ]
    },
    {
      "cell_type": "code",
      "metadata": {
        "id": "ln0WqlIX-dK8",
        "colab_type": "code",
        "colab": {
          "base_uri": "https://localhost:8080/",
          "height": 88
        },
        "outputId": "c9305b2a-5d51-4138-bffc-9a4268d4b536"
      },
      "source": [
        "from sklearn.linear_model import LogisticRegression\n",
        "clf = LogisticRegression()\n",
        "\n",
        "clf.fit(features_train,label_train)\n",
        "\n",
        "pred_train = clf.predict(features_train)\n",
        "pred_test = clf.predict(features_test)\n",
        "\n",
        "from sklearn.metrics import accuracy_score\n",
        "accuracy_train = accuracy_score(pred_train,label_train)\n",
        "accuracy_test = accuracy_score(pred_test,label_test)\n",
        "\n",
        "from sklearn import metrics\n",
        "fpr, tpr, _ = metrics.roc_curve(np.array(label_train), clf.predict_proba(features_train)[:,1])\n",
        "auc_train = metrics.auc(fpr,tpr)\n",
        "\n",
        "fpr, tpr, _ = metrics.roc_curve(np.array(label_test), clf.predict_proba(features_test)[:,1])\n",
        "auc_test = metrics.auc(fpr,tpr)\n",
        "\n",
        "print(accuracy_train,accuracy_test,auc_train,auc_test)"
      ],
      "execution_count": 57,
      "outputs": [
        {
          "output_type": "stream",
          "text": [
            "0.8882743362831859 0.8955223880597015 0.8589226621812186 0.8527234283331844\n"
          ],
          "name": "stdout"
        },
        {
          "output_type": "stream",
          "text": [
            "/usr/local/lib/python3.6/dist-packages/sklearn/linear_model/logistic.py:432: FutureWarning: Default solver will be changed to 'lbfgs' in 0.22. Specify a solver to silence this warning.\n",
            "  FutureWarning)\n"
          ],
          "name": "stderr"
        }
      ]
    },
    {
      "cell_type": "code",
      "metadata": {
        "id": "cQcqCYl5-dLA",
        "colab_type": "code",
        "colab": {
          "base_uri": "https://localhost:8080/",
          "height": 142
        },
        "outputId": "a6a20099-1a4c-4b9d-bf1c-9c9521621fa5"
      },
      "source": [
        "pd.crosstab(label_train,pd.Series(pred_train),rownames=['ACTUAL'],colnames=['PRED'])"
      ],
      "execution_count": 58,
      "outputs": [
        {
          "output_type": "execute_result",
          "data": {
            "text/html": [
              "<div>\n",
              "<style scoped>\n",
              "    .dataframe tbody tr th:only-of-type {\n",
              "        vertical-align: middle;\n",
              "    }\n",
              "\n",
              "    .dataframe tbody tr th {\n",
              "        vertical-align: top;\n",
              "    }\n",
              "\n",
              "    .dataframe thead th {\n",
              "        text-align: right;\n",
              "    }\n",
              "</style>\n",
              "<table border=\"1\" class=\"dataframe\">\n",
              "  <thead>\n",
              "    <tr style=\"text-align: right;\">\n",
              "      <th>PRED</th>\n",
              "      <th>0</th>\n",
              "      <th>1</th>\n",
              "    </tr>\n",
              "    <tr>\n",
              "      <th>ACTUAL</th>\n",
              "      <th></th>\n",
              "      <th></th>\n",
              "    </tr>\n",
              "  </thead>\n",
              "  <tbody>\n",
              "    <tr>\n",
              "      <th>0</th>\n",
              "      <td>2359</td>\n",
              "      <td>42</td>\n",
              "    </tr>\n",
              "    <tr>\n",
              "      <th>1</th>\n",
              "      <td>261</td>\n",
              "      <td>50</td>\n",
              "    </tr>\n",
              "  </tbody>\n",
              "</table>\n",
              "</div>"
            ],
            "text/plain": [
              "PRED       0   1\n",
              "ACTUAL          \n",
              "0       2359  42\n",
              "1        261  50"
            ]
          },
          "metadata": {
            "tags": []
          },
          "execution_count": 58
        }
      ]
    },
    {
      "cell_type": "code",
      "metadata": {
        "id": "A7wax5es-dLF",
        "colab_type": "code",
        "colab": {
          "base_uri": "https://localhost:8080/",
          "height": 142
        },
        "outputId": "40754509-b447-4547-d4b4-a4dbb7ab2ea9"
      },
      "source": [
        "pd.crosstab(label_test,pd.Series(pred_test),rownames=['ACTUAL'],colnames=['PRED'])"
      ],
      "execution_count": 59,
      "outputs": [
        {
          "output_type": "execute_result",
          "data": {
            "text/html": [
              "<div>\n",
              "<style scoped>\n",
              "    .dataframe tbody tr th:only-of-type {\n",
              "        vertical-align: middle;\n",
              "    }\n",
              "\n",
              "    .dataframe tbody tr th {\n",
              "        vertical-align: top;\n",
              "    }\n",
              "\n",
              "    .dataframe thead th {\n",
              "        text-align: right;\n",
              "    }\n",
              "</style>\n",
              "<table border=\"1\" class=\"dataframe\">\n",
              "  <thead>\n",
              "    <tr style=\"text-align: right;\">\n",
              "      <th>PRED</th>\n",
              "      <th>0</th>\n",
              "      <th>1</th>\n",
              "    </tr>\n",
              "    <tr>\n",
              "      <th>ACTUAL</th>\n",
              "      <th></th>\n",
              "      <th></th>\n",
              "    </tr>\n",
              "  </thead>\n",
              "  <tbody>\n",
              "    <tr>\n",
              "      <th>0</th>\n",
              "      <td>1571</td>\n",
              "      <td>28</td>\n",
              "    </tr>\n",
              "    <tr>\n",
              "      <th>1</th>\n",
              "      <td>161</td>\n",
              "      <td>49</td>\n",
              "    </tr>\n",
              "  </tbody>\n",
              "</table>\n",
              "</div>"
            ],
            "text/plain": [
              "PRED       0   1\n",
              "ACTUAL          \n",
              "0       1571  28\n",
              "1        161  49"
            ]
          },
          "metadata": {
            "tags": []
          },
          "execution_count": 59
        }
      ]
    },
    {
      "cell_type": "markdown",
      "metadata": {
        "id": "3VRGMyCB-dLI",
        "colab_type": "text"
      },
      "source": [
        "## Neural Network"
      ]
    },
    {
      "cell_type": "code",
      "metadata": {
        "id": "g21YVbyc-dLJ",
        "colab_type": "code",
        "colab": {
          "base_uri": "https://localhost:8080/",
          "height": 34
        },
        "outputId": "b6c51f1f-66a2-4d92-9d9f-e431b116f8c0"
      },
      "source": [
        "from sklearn.neural_network import MLPClassifier\n",
        "clf = MLPClassifier()\n",
        "\n",
        "clf.fit(features_train,label_train)\n",
        "\n",
        "pred_train = clf.predict(features_train)\n",
        "pred_test = clf.predict(features_test)\n",
        "\n",
        "from sklearn.metrics import accuracy_score\n",
        "accuracy_train = accuracy_score(pred_train,label_train)\n",
        "accuracy_test = accuracy_score(pred_test,label_test)\n",
        "\n",
        "from sklearn import metrics\n",
        "fpr, tpr, _ = metrics.roc_curve(np.array(label_train), clf.predict_proba(features_train)[:,1])\n",
        "auc_train = metrics.auc(fpr,tpr)\n",
        "\n",
        "fpr, tpr, _ = metrics.roc_curve(np.array(label_test), clf.predict_proba(features_test)[:,1])\n",
        "auc_test = metrics.auc(fpr,tpr)\n",
        "\n",
        "print(accuracy_train,accuracy_test,auc_train,auc_test)"
      ],
      "execution_count": 60,
      "outputs": [
        {
          "output_type": "stream",
          "text": [
            "0.7765486725663717 0.7650635710337202 0.8254692913322557 0.8204979302540278\n"
          ],
          "name": "stdout"
        }
      ]
    },
    {
      "cell_type": "code",
      "metadata": {
        "id": "H_uRe5p2-dLU",
        "colab_type": "code",
        "colab": {
          "base_uri": "https://localhost:8080/",
          "height": 142
        },
        "outputId": "108dc273-2895-43e7-eb8e-3dad421c6f0a"
      },
      "source": [
        "pd.crosstab(label_train,pd.Series(pred_train),rownames=['ACTUAL'],colnames=['PRED'])"
      ],
      "execution_count": 61,
      "outputs": [
        {
          "output_type": "execute_result",
          "data": {
            "text/html": [
              "<div>\n",
              "<style scoped>\n",
              "    .dataframe tbody tr th:only-of-type {\n",
              "        vertical-align: middle;\n",
              "    }\n",
              "\n",
              "    .dataframe tbody tr th {\n",
              "        vertical-align: top;\n",
              "    }\n",
              "\n",
              "    .dataframe thead th {\n",
              "        text-align: right;\n",
              "    }\n",
              "</style>\n",
              "<table border=\"1\" class=\"dataframe\">\n",
              "  <thead>\n",
              "    <tr style=\"text-align: right;\">\n",
              "      <th>PRED</th>\n",
              "      <th>0</th>\n",
              "      <th>1</th>\n",
              "    </tr>\n",
              "    <tr>\n",
              "      <th>ACTUAL</th>\n",
              "      <th></th>\n",
              "      <th></th>\n",
              "    </tr>\n",
              "  </thead>\n",
              "  <tbody>\n",
              "    <tr>\n",
              "      <th>0</th>\n",
              "      <td>1869</td>\n",
              "      <td>532</td>\n",
              "    </tr>\n",
              "    <tr>\n",
              "      <th>1</th>\n",
              "      <td>74</td>\n",
              "      <td>237</td>\n",
              "    </tr>\n",
              "  </tbody>\n",
              "</table>\n",
              "</div>"
            ],
            "text/plain": [
              "PRED       0    1\n",
              "ACTUAL           \n",
              "0       1869  532\n",
              "1         74  237"
            ]
          },
          "metadata": {
            "tags": []
          },
          "execution_count": 61
        }
      ]
    },
    {
      "cell_type": "code",
      "metadata": {
        "id": "f9Ht_Czl-dLi",
        "colab_type": "code",
        "colab": {
          "base_uri": "https://localhost:8080/",
          "height": 142
        },
        "outputId": "2569197c-b41c-4081-c448-49748fa54348"
      },
      "source": [
        "pd.crosstab(label_test,pd.Series(pred_test),rownames=['ACTUAL'],colnames=['PRED'])"
      ],
      "execution_count": 62,
      "outputs": [
        {
          "output_type": "execute_result",
          "data": {
            "text/html": [
              "<div>\n",
              "<style scoped>\n",
              "    .dataframe tbody tr th:only-of-type {\n",
              "        vertical-align: middle;\n",
              "    }\n",
              "\n",
              "    .dataframe tbody tr th {\n",
              "        vertical-align: top;\n",
              "    }\n",
              "\n",
              "    .dataframe thead th {\n",
              "        text-align: right;\n",
              "    }\n",
              "</style>\n",
              "<table border=\"1\" class=\"dataframe\">\n",
              "  <thead>\n",
              "    <tr style=\"text-align: right;\">\n",
              "      <th>PRED</th>\n",
              "      <th>0</th>\n",
              "      <th>1</th>\n",
              "    </tr>\n",
              "    <tr>\n",
              "      <th>ACTUAL</th>\n",
              "      <th></th>\n",
              "      <th></th>\n",
              "    </tr>\n",
              "  </thead>\n",
              "  <tbody>\n",
              "    <tr>\n",
              "      <th>0</th>\n",
              "      <td>1223</td>\n",
              "      <td>376</td>\n",
              "    </tr>\n",
              "    <tr>\n",
              "      <th>1</th>\n",
              "      <td>49</td>\n",
              "      <td>161</td>\n",
              "    </tr>\n",
              "  </tbody>\n",
              "</table>\n",
              "</div>"
            ],
            "text/plain": [
              "PRED       0    1\n",
              "ACTUAL           \n",
              "0       1223  376\n",
              "1         49  161"
            ]
          },
          "metadata": {
            "tags": []
          },
          "execution_count": 62
        }
      ]
    },
    {
      "cell_type": "markdown",
      "metadata": {
        "id": "QVI-1YCt-dLq",
        "colab_type": "text"
      },
      "source": [
        "## Naive Bayes"
      ]
    },
    {
      "cell_type": "code",
      "metadata": {
        "id": "j--em8ir-dLr",
        "colab_type": "code",
        "colab": {
          "base_uri": "https://localhost:8080/",
          "height": 34
        },
        "outputId": "8fd65a18-e079-473b-d881-07e035265649"
      },
      "source": [
        "from sklearn.naive_bayes import GaussianNB \n",
        "clf = GaussianNB()\n",
        "\n",
        "clf.fit(features_train,label_train)\n",
        "\n",
        "pred_train = clf.predict(features_train)\n",
        "pred_test = clf.predict(features_test)\n",
        "\n",
        "from sklearn.metrics import accuracy_score\n",
        "accuracy_train = accuracy_score(pred_train,label_train)\n",
        "accuracy_test = accuracy_score(pred_test,label_test)\n",
        "\n",
        "from sklearn import metrics\n",
        "fpr, tpr, _ = metrics.roc_curve(np.array(label_train), clf.predict_proba(features_train)[:,1])\n",
        "auc_train = metrics.auc(fpr,tpr)\n",
        "\n",
        "fpr, tpr, _ = metrics.roc_curve(np.array(label_test), clf.predict_proba(features_test)[:,1])\n",
        "auc_test = metrics.auc(fpr,tpr)\n",
        "\n",
        "print(accuracy_train,accuracy_test,auc_train,auc_test)"
      ],
      "execution_count": 63,
      "outputs": [
        {
          "output_type": "stream",
          "text": [
            "0.8421828908554573 0.8524046434494196 0.8155832711718457 0.8218797462699902\n"
          ],
          "name": "stdout"
        }
      ]
    },
    {
      "cell_type": "code",
      "metadata": {
        "id": "2yJFtwbh-dLu",
        "colab_type": "code",
        "colab": {
          "base_uri": "https://localhost:8080/",
          "height": 142
        },
        "outputId": "9ee7a7a4-8824-4eaa-fce2-34d763662f53"
      },
      "source": [
        "pd.crosstab(label_train,pd.Series(pred_train),rownames=['ACTUAL'],colnames=['PRED'])"
      ],
      "execution_count": 64,
      "outputs": [
        {
          "output_type": "execute_result",
          "data": {
            "text/html": [
              "<div>\n",
              "<style scoped>\n",
              "    .dataframe tbody tr th:only-of-type {\n",
              "        vertical-align: middle;\n",
              "    }\n",
              "\n",
              "    .dataframe tbody tr th {\n",
              "        vertical-align: top;\n",
              "    }\n",
              "\n",
              "    .dataframe thead th {\n",
              "        text-align: right;\n",
              "    }\n",
              "</style>\n",
              "<table border=\"1\" class=\"dataframe\">\n",
              "  <thead>\n",
              "    <tr style=\"text-align: right;\">\n",
              "      <th>PRED</th>\n",
              "      <th>0</th>\n",
              "      <th>1</th>\n",
              "    </tr>\n",
              "    <tr>\n",
              "      <th>ACTUAL</th>\n",
              "      <th></th>\n",
              "      <th></th>\n",
              "    </tr>\n",
              "  </thead>\n",
              "  <tbody>\n",
              "    <tr>\n",
              "      <th>0</th>\n",
              "      <td>2163</td>\n",
              "      <td>238</td>\n",
              "    </tr>\n",
              "    <tr>\n",
              "      <th>1</th>\n",
              "      <td>190</td>\n",
              "      <td>121</td>\n",
              "    </tr>\n",
              "  </tbody>\n",
              "</table>\n",
              "</div>"
            ],
            "text/plain": [
              "PRED       0    1\n",
              "ACTUAL           \n",
              "0       2163  238\n",
              "1        190  121"
            ]
          },
          "metadata": {
            "tags": []
          },
          "execution_count": 64
        }
      ]
    },
    {
      "cell_type": "code",
      "metadata": {
        "id": "OsriUlPA-dLz",
        "colab_type": "code",
        "colab": {
          "base_uri": "https://localhost:8080/",
          "height": 142
        },
        "outputId": "a9bd2580-639c-4d03-ed0b-cb6caf473f68"
      },
      "source": [
        "pd.crosstab(label_test,pd.Series(pred_test),rownames=['ACTUAL'],colnames=['PRED'])"
      ],
      "execution_count": 65,
      "outputs": [
        {
          "output_type": "execute_result",
          "data": {
            "text/html": [
              "<div>\n",
              "<style scoped>\n",
              "    .dataframe tbody tr th:only-of-type {\n",
              "        vertical-align: middle;\n",
              "    }\n",
              "\n",
              "    .dataframe tbody tr th {\n",
              "        vertical-align: top;\n",
              "    }\n",
              "\n",
              "    .dataframe thead th {\n",
              "        text-align: right;\n",
              "    }\n",
              "</style>\n",
              "<table border=\"1\" class=\"dataframe\">\n",
              "  <thead>\n",
              "    <tr style=\"text-align: right;\">\n",
              "      <th>PRED</th>\n",
              "      <th>0</th>\n",
              "      <th>1</th>\n",
              "    </tr>\n",
              "    <tr>\n",
              "      <th>ACTUAL</th>\n",
              "      <th></th>\n",
              "      <th></th>\n",
              "    </tr>\n",
              "  </thead>\n",
              "  <tbody>\n",
              "    <tr>\n",
              "      <th>0</th>\n",
              "      <td>1450</td>\n",
              "      <td>149</td>\n",
              "    </tr>\n",
              "    <tr>\n",
              "      <th>1</th>\n",
              "      <td>118</td>\n",
              "      <td>92</td>\n",
              "    </tr>\n",
              "  </tbody>\n",
              "</table>\n",
              "</div>"
            ],
            "text/plain": [
              "PRED       0    1\n",
              "ACTUAL           \n",
              "0       1450  149\n",
              "1        118   92"
            ]
          },
          "metadata": {
            "tags": []
          },
          "execution_count": 65
        }
      ]
    },
    {
      "cell_type": "markdown",
      "metadata": {
        "id": "py2gzRpb-dL2",
        "colab_type": "text"
      },
      "source": [
        "## Gradient Boosting"
      ]
    },
    {
      "cell_type": "code",
      "metadata": {
        "id": "9Na-T-bi-dL4",
        "colab_type": "code",
        "colab": {},
        "outputId": "14b42259-9852-41e9-910e-afb0218d750d"
      },
      "source": [
        "from sklearn.ensemble import GradientBoostingClassifier\n",
        "clf = GradientBoostingClassifier()\n",
        "\n",
        "clf.fit(features_train,label_train)\n",
        "\n",
        "pred_train = clf.predict(features_train)\n",
        "pred_test = clf.predict(features_test)\n",
        "\n",
        "from sklearn.metrics import accuracy_score\n",
        "accuracy_train = accuracy_score(pred_train,label_train)\n",
        "accuracy_test = accuracy_score(pred_test,label_test)\n",
        "\n",
        "from sklearn import metrics\n",
        "fpr, tpr, _ = metrics.roc_curve(np.array(label_train), clf.predict_proba(features_train)[:,1])\n",
        "auc_train = metrics.auc(fpr,tpr)\n",
        "\n",
        "fpr, tpr, _ = metrics.roc_curve(np.array(label_test), clf.predict_proba(features_test)[:,1])\n",
        "auc_test = metrics.auc(fpr,tpr)\n",
        "\n",
        "print(accuracy_train,accuracy_test,auc_train,auc_test)"
      ],
      "execution_count": 0,
      "outputs": [
        {
          "output_type": "stream",
          "text": [
            "0.9387905604719764 0.8833609729132117 0.9588587783436531 0.8869214159722644\n"
          ],
          "name": "stdout"
        }
      ]
    },
    {
      "cell_type": "code",
      "metadata": {
        "id": "-edkb9cw-dL8",
        "colab_type": "code",
        "colab": {},
        "outputId": "43c548b0-0b10-429d-af04-4885440ca975"
      },
      "source": [
        "pd.crosstab(label_train,pd.Series(pred_train),rownames=['ACTUAL'],colnames=['PRED'])"
      ],
      "execution_count": 0,
      "outputs": [
        {
          "output_type": "execute_result",
          "data": {
            "text/html": [
              "<div>\n",
              "<style>\n",
              "    .dataframe thead tr:only-child th {\n",
              "        text-align: right;\n",
              "    }\n",
              "\n",
              "    .dataframe thead th {\n",
              "        text-align: left;\n",
              "    }\n",
              "\n",
              "    .dataframe tbody tr th {\n",
              "        vertical-align: top;\n",
              "    }\n",
              "</style>\n",
              "<table border=\"1\" class=\"dataframe\">\n",
              "  <thead>\n",
              "    <tr style=\"text-align: right;\">\n",
              "      <th>PRED</th>\n",
              "      <th>0</th>\n",
              "      <th>1</th>\n",
              "    </tr>\n",
              "    <tr>\n",
              "      <th>ACTUAL</th>\n",
              "      <th></th>\n",
              "      <th></th>\n",
              "    </tr>\n",
              "  </thead>\n",
              "  <tbody>\n",
              "    <tr>\n",
              "      <th>0</th>\n",
              "      <td>2369</td>\n",
              "      <td>27</td>\n",
              "    </tr>\n",
              "    <tr>\n",
              "      <th>1</th>\n",
              "      <td>139</td>\n",
              "      <td>177</td>\n",
              "    </tr>\n",
              "  </tbody>\n",
              "</table>\n",
              "</div>"
            ],
            "text/plain": [
              "PRED       0    1\n",
              "ACTUAL           \n",
              "0       2369   27\n",
              "1        139  177"
            ]
          },
          "metadata": {
            "tags": []
          },
          "execution_count": 61
        }
      ]
    },
    {
      "cell_type": "code",
      "metadata": {
        "id": "XlBPyjbd-dL-",
        "colab_type": "code",
        "colab": {},
        "outputId": "67b1782a-7060-4059-8e61-82729a6ba283"
      },
      "source": [
        "pd.crosstab(label_test,pd.Series(pred_test),rownames=['ACTUAL'],colnames=['PRED'])"
      ],
      "execution_count": 0,
      "outputs": [
        {
          "output_type": "execute_result",
          "data": {
            "text/html": [
              "<div>\n",
              "<style>\n",
              "    .dataframe thead tr:only-child th {\n",
              "        text-align: right;\n",
              "    }\n",
              "\n",
              "    .dataframe thead th {\n",
              "        text-align: left;\n",
              "    }\n",
              "\n",
              "    .dataframe tbody tr th {\n",
              "        vertical-align: top;\n",
              "    }\n",
              "</style>\n",
              "<table border=\"1\" class=\"dataframe\">\n",
              "  <thead>\n",
              "    <tr style=\"text-align: right;\">\n",
              "      <th>PRED</th>\n",
              "      <th>0</th>\n",
              "      <th>1</th>\n",
              "    </tr>\n",
              "    <tr>\n",
              "      <th>ACTUAL</th>\n",
              "      <th></th>\n",
              "      <th></th>\n",
              "    </tr>\n",
              "  </thead>\n",
              "  <tbody>\n",
              "    <tr>\n",
              "      <th>0</th>\n",
              "      <td>1535</td>\n",
              "      <td>69</td>\n",
              "    </tr>\n",
              "    <tr>\n",
              "      <th>1</th>\n",
              "      <td>142</td>\n",
              "      <td>63</td>\n",
              "    </tr>\n",
              "  </tbody>\n",
              "</table>\n",
              "</div>"
            ],
            "text/plain": [
              "PRED       0   1\n",
              "ACTUAL          \n",
              "0       1535  69\n",
              "1        142  63"
            ]
          },
          "metadata": {
            "tags": []
          },
          "execution_count": 62
        }
      ]
    },
    {
      "cell_type": "markdown",
      "metadata": {
        "id": "xkIo2w2W-dMC",
        "colab_type": "text"
      },
      "source": [
        "# 6. Performance Tuning"
      ]
    },
    {
      "cell_type": "markdown",
      "metadata": {
        "id": "W1582gLo-dME",
        "colab_type": "text"
      },
      "source": [
        "# Random Forest - Hyper parameter tuning"
      ]
    },
    {
      "cell_type": "code",
      "metadata": {
        "scrolled": true,
        "id": "8oKj_Gc7-dME",
        "colab_type": "code",
        "colab": {
          "base_uri": "https://localhost:8080/",
          "height": 85
        },
        "outputId": "a8e5b3db-3905-4525-9772-b9efe050bd25"
      },
      "source": [
        "from sklearn.model_selection import RandomizedSearchCV\n",
        "from sklearn.ensemble import RandomForestClassifier\n",
        "\n",
        "n_estimators = [int(x) for x in np.linspace(start = 10, stop = 500, num = 10)]\n",
        "max_features = ['auto', 'sqrt']\n",
        "max_depth = [int(x) for x in np.linspace(3, 10, num = 1)]\n",
        "max_depth.append(None)\n",
        "min_samples_split = [2, 5, 10]\n",
        "min_samples_leaf = [1, 2, 4]\n",
        "bootstrap = [True, False]\n",
        "\n",
        "random_grid = {'n_estimators': n_estimators,\n",
        "               'max_features': max_features,\n",
        "               'max_depth': max_depth,\n",
        "               'min_samples_split': min_samples_split,\n",
        "               'min_samples_leaf': min_samples_leaf,\n",
        "               'bootstrap': bootstrap}\n",
        "\n",
        "rf = RandomForestClassifier()\n",
        "\n",
        "rf_random = RandomizedSearchCV(estimator = rf, param_distributions = random_grid, n_iter = 10, cv = 2, verbose=2, random_state=42, n_jobs = -1)\n",
        "rf_random.fit(features_train, label_train)\n",
        "\n",
        "print(rf_random.best_params_)"
      ],
      "execution_count": 66,
      "outputs": [
        {
          "output_type": "stream",
          "text": [
            "Fitting 2 folds for each of 10 candidates, totalling 20 fits\n"
          ],
          "name": "stdout"
        },
        {
          "output_type": "stream",
          "text": [
            "[Parallel(n_jobs=-1)]: Using backend LokyBackend with 2 concurrent workers.\n"
          ],
          "name": "stderr"
        },
        {
          "output_type": "stream",
          "text": [
            "{'n_estimators': 10, 'min_samples_split': 5, 'min_samples_leaf': 4, 'max_features': 'sqrt', 'max_depth': None, 'bootstrap': True}\n"
          ],
          "name": "stdout"
        },
        {
          "output_type": "stream",
          "text": [
            "[Parallel(n_jobs=-1)]: Done  20 out of  20 | elapsed:    7.1s finished\n"
          ],
          "name": "stderr"
        }
      ]
    },
    {
      "cell_type": "code",
      "metadata": {
        "id": "YKWk1GPv-dMG",
        "colab_type": "code",
        "colab": {
          "base_uri": "https://localhost:8080/",
          "height": 34
        },
        "outputId": "72304b94-768e-431c-a273-387ae3c6d76b"
      },
      "source": [
        "from sklearn.ensemble import RandomForestClassifier\n",
        "clf = RandomForestClassifier(**rf_random.best_params_)\n",
        "\n",
        "clf.fit(features_train,label_train)\n",
        "\n",
        "pred_train = clf.predict(features_train)\n",
        "pred_test = clf.predict(features_test)\n",
        "\n",
        "from sklearn.metrics import accuracy_score\n",
        "accuracy_train = accuracy_score(pred_train,label_train)\n",
        "accuracy_test = accuracy_score(pred_test,label_test)\n",
        "\n",
        "from sklearn import metrics\n",
        "fpr, tpr, _ = metrics.roc_curve(np.array(label_train), clf.predict_proba(features_train)[:,1])\n",
        "auc_train = metrics.auc(fpr,tpr)\n",
        "\n",
        "fpr, tpr, _ = metrics.roc_curve(np.array(label_test), clf.predict_proba(features_test)[:,1])\n",
        "auc_test = metrics.auc(fpr,tpr)\n",
        "\n",
        "print(accuracy_train,accuracy_test,auc_train,auc_test)"
      ],
      "execution_count": 67,
      "outputs": [
        {
          "output_type": "stream",
          "text": [
            "0.9402654867256637 0.8911000552791598 0.9819836590059607 0.869665564787516\n"
          ],
          "name": "stdout"
        }
      ]
    },
    {
      "cell_type": "markdown",
      "metadata": {
        "id": "_2FVBGMj-dMJ",
        "colab_type": "text"
      },
      "source": [
        "## Gradient Boosting - Hyper parameter tuning"
      ]
    },
    {
      "cell_type": "code",
      "metadata": {
        "id": "6fI0Y4mqDUbU",
        "colab_type": "code",
        "colab": {
          "base_uri": "https://localhost:8080/",
          "height": 102
        },
        "outputId": "ab74e112-a446-4b49-b62f-91d0c6545069"
      },
      "source": [
        "!pip install sklearn"
      ],
      "execution_count": 71,
      "outputs": [
        {
          "output_type": "stream",
          "text": [
            "Requirement already satisfied: sklearn in /usr/local/lib/python3.6/dist-packages (0.0)\n",
            "Requirement already satisfied: scikit-learn in /usr/local/lib/python3.6/dist-packages (from sklearn) (0.21.3)\n",
            "Requirement already satisfied: scipy>=0.17.0 in /usr/local/lib/python3.6/dist-packages (from scikit-learn->sklearn) (1.3.3)\n",
            "Requirement already satisfied: numpy>=1.11.0 in /usr/local/lib/python3.6/dist-packages (from scikit-learn->sklearn) (1.17.4)\n",
            "Requirement already satisfied: joblib>=0.11 in /usr/local/lib/python3.6/dist-packages (from scikit-learn->sklearn) (0.14.1)\n"
          ],
          "name": "stdout"
        }
      ]
    },
    {
      "cell_type": "code",
      "metadata": {
        "scrolled": true,
        "id": "JMWsLIua-dMJ",
        "colab_type": "code",
        "colab": {
          "base_uri": "https://localhost:8080/",
          "height": 153
        },
        "outputId": "43424647-3af6-4d5a-92e9-8851db335215"
      },
      "source": [
        "#from sklearn import cross_validation, metrics   \n",
        "from sklearn.model_selection import cross_validate\n",
        "\n",
        "#from sklearn.grid_search import GridSearchCV\n",
        "\n",
        "from sklearn.model_selection import GridSearchCV\n",
        "from sklearn.ensemble import GradientBoostingClassifier\n",
        "\n",
        "n_estimators = [int(x) for x in np.linspace(start = 10, stop = 500, num = 10)]\n",
        "max_features = ['auto', 'sqrt']\n",
        "max_depth = [int(x) for x in np.linspace(3, 10, num = 1)]\n",
        "max_depth.append(None)\n",
        "min_samples_split = [2, 5, 10]\n",
        "min_samples_leaf = [1, 2, 4]\n",
        "\n",
        "grid = {'n_estimators': n_estimators,\n",
        "               'max_features': max_features,\n",
        "               'max_depth': max_depth,\n",
        "               'min_samples_split': min_samples_split,\n",
        "               'min_samples_leaf': min_samples_leaf}\n",
        "\n",
        "gb = GradientBoostingClassifier()\n",
        "\n",
        "gf_tune = GridSearchCV(estimator = gb, param_grid = grid, cv = 2, verbose=2, n_jobs = -1)\n",
        "gf_tune.fit(features_train, label_train)\n",
        "\n",
        "print(gf_tune.best_params_)"
      ],
      "execution_count": 72,
      "outputs": [
        {
          "output_type": "stream",
          "text": [
            "Fitting 2 folds for each of 360 candidates, totalling 720 fits\n"
          ],
          "name": "stdout"
        },
        {
          "output_type": "stream",
          "text": [
            "[Parallel(n_jobs=-1)]: Using backend LokyBackend with 2 concurrent workers.\n",
            "[Parallel(n_jobs=-1)]: Done  37 tasks      | elapsed:   11.4s\n",
            "[Parallel(n_jobs=-1)]: Done 158 tasks      | elapsed:   44.5s\n",
            "[Parallel(n_jobs=-1)]: Done 361 tasks      | elapsed:  1.4min\n",
            "[Parallel(n_jobs=-1)]: Done 644 tasks      | elapsed:  5.0min\n",
            "[Parallel(n_jobs=-1)]: Done 720 out of 720 | elapsed:  5.9min finished\n"
          ],
          "name": "stderr"
        },
        {
          "output_type": "stream",
          "text": [
            "{'max_depth': None, 'max_features': 'sqrt', 'min_samples_leaf': 4, 'min_samples_split': 10, 'n_estimators': 445}\n"
          ],
          "name": "stdout"
        }
      ]
    },
    {
      "cell_type": "code",
      "metadata": {
        "id": "v5Hi8Ija-dMT",
        "colab_type": "code",
        "colab": {
          "base_uri": "https://localhost:8080/",
          "height": 34
        },
        "outputId": "d1bbddce-8246-40d5-c28f-75a4463f91f5"
      },
      "source": [
        "print(gf_tune.best_params_)"
      ],
      "execution_count": 73,
      "outputs": [
        {
          "output_type": "stream",
          "text": [
            "{'max_depth': None, 'max_features': 'sqrt', 'min_samples_leaf': 4, 'min_samples_split': 10, 'n_estimators': 445}\n"
          ],
          "name": "stdout"
        }
      ]
    },
    {
      "cell_type": "code",
      "metadata": {
        "id": "AC-HnUst-dMV",
        "colab_type": "code",
        "colab": {
          "base_uri": "https://localhost:8080/",
          "height": 34
        },
        "outputId": "c0b3554e-81bd-4fa8-e0bc-bd25c757d2d4"
      },
      "source": [
        "from sklearn.ensemble import GradientBoostingClassifier\n",
        "clf = GradientBoostingClassifier(**gf_tune.best_params_)\n",
        "\n",
        "clf.fit(features_train,label_train)\n",
        "\n",
        "pred_train = clf.predict(features_train)\n",
        "pred_test = clf.predict(features_test)\n",
        "\n",
        "from sklearn.metrics import accuracy_score\n",
        "accuracy_train = accuracy_score(pred_train,label_train)\n",
        "accuracy_test = accuracy_score(pred_test,label_test)\n",
        "\n",
        "from sklearn import metrics\n",
        "fpr, tpr, _ = metrics.roc_curve(np.array(label_train), clf.predict_proba(features_train)[:,1])\n",
        "auc_train = metrics.auc(fpr,tpr)\n",
        "\n",
        "fpr, tpr, _ = metrics.roc_curve(np.array(label_test), clf.predict_proba(features_test)[:,1])\n",
        "auc_test = metrics.auc(fpr,tpr)\n",
        "\n",
        "print(accuracy_train,accuracy_test,auc_train,auc_test)"
      ],
      "execution_count": 74,
      "outputs": [
        {
          "output_type": "stream",
          "text": [
            "1.0 0.8888888888888888 1.0 0.8973227314690729\n"
          ],
          "name": "stdout"
        }
      ]
    },
    {
      "cell_type": "markdown",
      "metadata": {
        "id": "7pvW2rvG-dMY",
        "colab_type": "text"
      },
      "source": [
        "# 7. Final Model and Model Performance"
      ]
    },
    {
      "cell_type": "code",
      "metadata": {
        "id": "k3ey5yVd-dMY",
        "colab_type": "code",
        "colab": {
          "base_uri": "https://localhost:8080/",
          "height": 88
        },
        "outputId": "d04b5495-b48d-4f10-8a88-2a2d2cd1026a"
      },
      "source": [
        "from sklearn.linear_model import LogisticRegression\n",
        "clf = LogisticRegression()\n",
        "\n",
        "clf.fit(features_train,label_train)\n",
        "\n",
        "pred_train = clf.predict(features_train)\n",
        "pred_test = clf.predict(features_test)\n",
        "\n",
        "from sklearn.metrics import accuracy_score\n",
        "accuracy_train = accuracy_score(pred_train,label_train)\n",
        "accuracy_test = accuracy_score(pred_test,label_test)\n",
        "\n",
        "from sklearn import metrics\n",
        "fpr, tpr, _ = metrics.roc_curve(np.array(label_train), clf.predict_proba(features_train)[:,1])\n",
        "auc_train = metrics.auc(fpr,tpr)\n",
        "\n",
        "fpr, tpr, _ = metrics.roc_curve(np.array(label_test), clf.predict_proba(features_test)[:,1])\n",
        "auc_test = metrics.auc(fpr,tpr)\n",
        "\n",
        "print(accuracy_train,accuracy_test,auc_train,auc_test)"
      ],
      "execution_count": 75,
      "outputs": [
        {
          "output_type": "stream",
          "text": [
            "0.8882743362831859 0.8955223880597015 0.8589226621812186 0.8527234283331844\n"
          ],
          "name": "stdout"
        },
        {
          "output_type": "stream",
          "text": [
            "/usr/local/lib/python3.6/dist-packages/sklearn/linear_model/logistic.py:432: FutureWarning: Default solver will be changed to 'lbfgs' in 0.22. Specify a solver to silence this warning.\n",
            "  FutureWarning)\n"
          ],
          "name": "stderr"
        }
      ]
    },
    {
      "cell_type": "code",
      "metadata": {
        "id": "qiNk2ULa-dMc",
        "colab_type": "code",
        "colab": {
          "base_uri": "https://localhost:8080/",
          "height": 142
        },
        "outputId": "36d8d843-a04a-4a10-cb86-d2ea11cf7c6a"
      },
      "source": [
        "pd.crosstab(label_train,pd.Series(pred_train),rownames=['ACTUAL'],colnames=['PRED'])"
      ],
      "execution_count": 76,
      "outputs": [
        {
          "output_type": "execute_result",
          "data": {
            "text/html": [
              "<div>\n",
              "<style scoped>\n",
              "    .dataframe tbody tr th:only-of-type {\n",
              "        vertical-align: middle;\n",
              "    }\n",
              "\n",
              "    .dataframe tbody tr th {\n",
              "        vertical-align: top;\n",
              "    }\n",
              "\n",
              "    .dataframe thead th {\n",
              "        text-align: right;\n",
              "    }\n",
              "</style>\n",
              "<table border=\"1\" class=\"dataframe\">\n",
              "  <thead>\n",
              "    <tr style=\"text-align: right;\">\n",
              "      <th>PRED</th>\n",
              "      <th>0</th>\n",
              "      <th>1</th>\n",
              "    </tr>\n",
              "    <tr>\n",
              "      <th>ACTUAL</th>\n",
              "      <th></th>\n",
              "      <th></th>\n",
              "    </tr>\n",
              "  </thead>\n",
              "  <tbody>\n",
              "    <tr>\n",
              "      <th>0</th>\n",
              "      <td>2359</td>\n",
              "      <td>42</td>\n",
              "    </tr>\n",
              "    <tr>\n",
              "      <th>1</th>\n",
              "      <td>261</td>\n",
              "      <td>50</td>\n",
              "    </tr>\n",
              "  </tbody>\n",
              "</table>\n",
              "</div>"
            ],
            "text/plain": [
              "PRED       0   1\n",
              "ACTUAL          \n",
              "0       2359  42\n",
              "1        261  50"
            ]
          },
          "metadata": {
            "tags": []
          },
          "execution_count": 76
        }
      ]
    },
    {
      "cell_type": "code",
      "metadata": {
        "id": "j3udYYld-dMe",
        "colab_type": "code",
        "colab": {
          "base_uri": "https://localhost:8080/",
          "height": 142
        },
        "outputId": "7a7a1fd2-ea96-48a3-813e-d0ab39655ee5"
      },
      "source": [
        "pd.crosstab(label_test,pd.Series(pred_test),rownames=['ACTUAL'],colnames=['PRED'])"
      ],
      "execution_count": 77,
      "outputs": [
        {
          "output_type": "execute_result",
          "data": {
            "text/html": [
              "<div>\n",
              "<style scoped>\n",
              "    .dataframe tbody tr th:only-of-type {\n",
              "        vertical-align: middle;\n",
              "    }\n",
              "\n",
              "    .dataframe tbody tr th {\n",
              "        vertical-align: top;\n",
              "    }\n",
              "\n",
              "    .dataframe thead th {\n",
              "        text-align: right;\n",
              "    }\n",
              "</style>\n",
              "<table border=\"1\" class=\"dataframe\">\n",
              "  <thead>\n",
              "    <tr style=\"text-align: right;\">\n",
              "      <th>PRED</th>\n",
              "      <th>0</th>\n",
              "      <th>1</th>\n",
              "    </tr>\n",
              "    <tr>\n",
              "      <th>ACTUAL</th>\n",
              "      <th></th>\n",
              "      <th></th>\n",
              "    </tr>\n",
              "  </thead>\n",
              "  <tbody>\n",
              "    <tr>\n",
              "      <th>0</th>\n",
              "      <td>1571</td>\n",
              "      <td>28</td>\n",
              "    </tr>\n",
              "    <tr>\n",
              "      <th>1</th>\n",
              "      <td>161</td>\n",
              "      <td>49</td>\n",
              "    </tr>\n",
              "  </tbody>\n",
              "</table>\n",
              "</div>"
            ],
            "text/plain": [
              "PRED       0   1\n",
              "ACTUAL          \n",
              "0       1571  28\n",
              "1        161  49"
            ]
          },
          "metadata": {
            "tags": []
          },
          "execution_count": 77
        }
      ]
    },
    {
      "cell_type": "code",
      "metadata": {
        "id": "fkX4F4q4Fpjc",
        "colab_type": "code",
        "colab": {
          "base_uri": "https://localhost:8080/",
          "height": 221
        },
        "outputId": "be3e697d-b219-47e5-e431-09fc60652f25"
      },
      "source": [
        "!pip install bokeh"
      ],
      "execution_count": 79,
      "outputs": [
        {
          "output_type": "stream",
          "text": [
            "Requirement already satisfied: bokeh in /usr/local/lib/python3.6/dist-packages (1.0.4)\n",
            "Requirement already satisfied: numpy>=1.7.1 in /usr/local/lib/python3.6/dist-packages (from bokeh) (1.17.4)\n",
            "Requirement already satisfied: PyYAML>=3.10 in /usr/local/lib/python3.6/dist-packages (from bokeh) (3.13)\n",
            "Requirement already satisfied: six>=1.5.2 in /usr/local/lib/python3.6/dist-packages (from bokeh) (1.12.0)\n",
            "Requirement already satisfied: Jinja2>=2.7 in /usr/local/lib/python3.6/dist-packages (from bokeh) (2.10.3)\n",
            "Requirement already satisfied: packaging>=16.8 in /usr/local/lib/python3.6/dist-packages (from bokeh) (19.2)\n",
            "Requirement already satisfied: python-dateutil>=2.1 in /usr/local/lib/python3.6/dist-packages (from bokeh) (2.6.1)\n",
            "Requirement already satisfied: pillow>=4.0 in /usr/local/lib/python3.6/dist-packages (from bokeh) (4.3.0)\n",
            "Requirement already satisfied: tornado>=4.3 in /usr/local/lib/python3.6/dist-packages (from bokeh) (4.5.3)\n",
            "Requirement already satisfied: MarkupSafe>=0.23 in /usr/local/lib/python3.6/dist-packages (from Jinja2>=2.7->bokeh) (1.1.1)\n",
            "Requirement already satisfied: pyparsing>=2.0.2 in /usr/local/lib/python3.6/dist-packages (from packaging>=16.8->bokeh) (2.4.5)\n",
            "Requirement already satisfied: olefile in /usr/local/lib/python3.6/dist-packages (from pillow>=4.0->bokeh) (0.46)\n"
          ],
          "name": "stdout"
        }
      ]
    },
    {
      "cell_type": "code",
      "metadata": {
        "id": "tdqh_A1w-dMg",
        "colab_type": "code",
        "colab": {
          "base_uri": "https://localhost:8080/",
          "height": 17
        },
        "outputId": "a390a591-81ac-49cb-8e21-4ab9aad303e3"
      },
      "source": [
        "#from bokeh.charts import Histogram\n",
        "from ipywidgets import interact\n",
        "from bokeh.plotting import figure\n",
        "from bokeh.io import push_notebook, show, output_notebook\n",
        "output_notebook()\n",
        "\n",
        "from sklearn import metrics\n",
        "preds = clf.predict_proba(features_train)[:,1]\n",
        "\n",
        "fpr, tpr, _ = metrics.roc_curve(np.array(label_train), preds)\n",
        "auc = metrics.auc(fpr,tpr)\n",
        "\n",
        "p = figure(title=\"ROC Curve - Train data\")\n",
        "r = p.line(fpr,tpr,color='#0077bc',legend = 'AUC = '+ str(round(auc,3)), line_width=2)\n",
        "s = p.line([0,1],[0,1], color= '#d15555',line_dash='dotdash',line_width=2)\n",
        "\n",
        "show(p)"
      ],
      "execution_count": 80,
      "outputs": [
        {
          "output_type": "display_data",
          "data": {
            "application/javascript": [
              "\n",
              "(function(root) {\n",
              "  function now() {\n",
              "    return new Date();\n",
              "  }\n",
              "\n",
              "  var force = true;\n",
              "\n",
              "  if (typeof (root._bokeh_onload_callbacks) === \"undefined\" || force === true) {\n",
              "    root._bokeh_onload_callbacks = [];\n",
              "    root._bokeh_is_loading = undefined;\n",
              "  }\n",
              "\n",
              "  var JS_MIME_TYPE = 'application/javascript';\n",
              "  var HTML_MIME_TYPE = 'text/html';\n",
              "  var EXEC_MIME_TYPE = 'application/vnd.bokehjs_exec.v0+json';\n",
              "  var CLASS_NAME = 'output_bokeh rendered_html';\n",
              "\n",
              "  /**\n",
              "   * Render data to the DOM node\n",
              "   */\n",
              "  function render(props, node) {\n",
              "    var script = document.createElement(\"script\");\n",
              "    node.appendChild(script);\n",
              "  }\n",
              "\n",
              "  /**\n",
              "   * Handle when an output is cleared or removed\n",
              "   */\n",
              "  function handleClearOutput(event, handle) {\n",
              "    var cell = handle.cell;\n",
              "\n",
              "    var id = cell.output_area._bokeh_element_id;\n",
              "    var server_id = cell.output_area._bokeh_server_id;\n",
              "    // Clean up Bokeh references\n",
              "    if (id != null && id in Bokeh.index) {\n",
              "      Bokeh.index[id].model.document.clear();\n",
              "      delete Bokeh.index[id];\n",
              "    }\n",
              "\n",
              "    if (server_id !== undefined) {\n",
              "      // Clean up Bokeh references\n",
              "      var cmd = \"from bokeh.io.state import curstate; print(curstate().uuid_to_server['\" + server_id + \"'].get_sessions()[0].document.roots[0]._id)\";\n",
              "      cell.notebook.kernel.execute(cmd, {\n",
              "        iopub: {\n",
              "          output: function(msg) {\n",
              "            var id = msg.content.text.trim();\n",
              "            if (id in Bokeh.index) {\n",
              "              Bokeh.index[id].model.document.clear();\n",
              "              delete Bokeh.index[id];\n",
              "            }\n",
              "          }\n",
              "        }\n",
              "      });\n",
              "      // Destroy server and session\n",
              "      var cmd = \"import bokeh.io.notebook as ion; ion.destroy_server('\" + server_id + \"')\";\n",
              "      cell.notebook.kernel.execute(cmd);\n",
              "    }\n",
              "  }\n",
              "\n",
              "  /**\n",
              "   * Handle when a new output is added\n",
              "   */\n",
              "  function handleAddOutput(event, handle) {\n",
              "    var output_area = handle.output_area;\n",
              "    var output = handle.output;\n",
              "\n",
              "    // limit handleAddOutput to display_data with EXEC_MIME_TYPE content only\n",
              "    if ((output.output_type != \"display_data\") || (!output.data.hasOwnProperty(EXEC_MIME_TYPE))) {\n",
              "      return\n",
              "    }\n",
              "\n",
              "    var toinsert = output_area.element.find(\".\" + CLASS_NAME.split(' ')[0]);\n",
              "\n",
              "    if (output.metadata[EXEC_MIME_TYPE][\"id\"] !== undefined) {\n",
              "      toinsert[toinsert.length - 1].firstChild.textContent = output.data[JS_MIME_TYPE];\n",
              "      // store reference to embed id on output_area\n",
              "      output_area._bokeh_element_id = output.metadata[EXEC_MIME_TYPE][\"id\"];\n",
              "    }\n",
              "    if (output.metadata[EXEC_MIME_TYPE][\"server_id\"] !== undefined) {\n",
              "      var bk_div = document.createElement(\"div\");\n",
              "      bk_div.innerHTML = output.data[HTML_MIME_TYPE];\n",
              "      var script_attrs = bk_div.children[0].attributes;\n",
              "      for (var i = 0; i < script_attrs.length; i++) {\n",
              "        toinsert[toinsert.length - 1].firstChild.setAttribute(script_attrs[i].name, script_attrs[i].value);\n",
              "      }\n",
              "      // store reference to server id on output_area\n",
              "      output_area._bokeh_server_id = output.metadata[EXEC_MIME_TYPE][\"server_id\"];\n",
              "    }\n",
              "  }\n",
              "\n",
              "  function register_renderer(events, OutputArea) {\n",
              "\n",
              "    function append_mime(data, metadata, element) {\n",
              "      // create a DOM node to render to\n",
              "      var toinsert = this.create_output_subarea(\n",
              "        metadata,\n",
              "        CLASS_NAME,\n",
              "        EXEC_MIME_TYPE\n",
              "      );\n",
              "      this.keyboard_manager.register_events(toinsert);\n",
              "      // Render to node\n",
              "      var props = {data: data, metadata: metadata[EXEC_MIME_TYPE]};\n",
              "      render(props, toinsert[toinsert.length - 1]);\n",
              "      element.append(toinsert);\n",
              "      return toinsert\n",
              "    }\n",
              "\n",
              "    /* Handle when an output is cleared or removed */\n",
              "    events.on('clear_output.CodeCell', handleClearOutput);\n",
              "    events.on('delete.Cell', handleClearOutput);\n",
              "\n",
              "    /* Handle when a new output is added */\n",
              "    events.on('output_added.OutputArea', handleAddOutput);\n",
              "\n",
              "    /**\n",
              "     * Register the mime type and append_mime function with output_area\n",
              "     */\n",
              "    OutputArea.prototype.register_mime_type(EXEC_MIME_TYPE, append_mime, {\n",
              "      /* Is output safe? */\n",
              "      safe: true,\n",
              "      /* Index of renderer in `output_area.display_order` */\n",
              "      index: 0\n",
              "    });\n",
              "  }\n",
              "\n",
              "  // register the mime type if in Jupyter Notebook environment and previously unregistered\n",
              "  if (root.Jupyter !== undefined) {\n",
              "    var events = require('base/js/events');\n",
              "    var OutputArea = require('notebook/js/outputarea').OutputArea;\n",
              "\n",
              "    if (OutputArea.prototype.mime_types().indexOf(EXEC_MIME_TYPE) == -1) {\n",
              "      register_renderer(events, OutputArea);\n",
              "    }\n",
              "  }\n",
              "\n",
              "  \n",
              "  if (typeof (root._bokeh_timeout) === \"undefined\" || force === true) {\n",
              "    root._bokeh_timeout = Date.now() + 5000;\n",
              "    root._bokeh_failed_load = false;\n",
              "  }\n",
              "\n",
              "  var NB_LOAD_WARNING = {'data': {'text/html':\n",
              "     \"<div style='background-color: #fdd'>\\n\"+\n",
              "     \"<p>\\n\"+\n",
              "     \"BokehJS does not appear to have successfully loaded. If loading BokehJS from CDN, this \\n\"+\n",
              "     \"may be due to a slow or bad network connection. Possible fixes:\\n\"+\n",
              "     \"</p>\\n\"+\n",
              "     \"<ul>\\n\"+\n",
              "     \"<li>re-rerun `output_notebook()` to attempt to load from CDN again, or</li>\\n\"+\n",
              "     \"<li>use INLINE resources instead, as so:</li>\\n\"+\n",
              "     \"</ul>\\n\"+\n",
              "     \"<code>\\n\"+\n",
              "     \"from bokeh.resources import INLINE\\n\"+\n",
              "     \"output_notebook(resources=INLINE)\\n\"+\n",
              "     \"</code>\\n\"+\n",
              "     \"</div>\"}};\n",
              "\n",
              "  function display_loaded() {\n",
              "    var el = document.getElementById(null);\n",
              "    if (el != null) {\n",
              "      el.textContent = \"BokehJS is loading...\";\n",
              "    }\n",
              "    if (root.Bokeh !== undefined) {\n",
              "      if (el != null) {\n",
              "        el.textContent = \"BokehJS \" + root.Bokeh.version + \" successfully loaded.\";\n",
              "      }\n",
              "    } else if (Date.now() < root._bokeh_timeout) {\n",
              "      setTimeout(display_loaded, 100)\n",
              "    }\n",
              "  }\n",
              "\n",
              "\n",
              "  function run_callbacks() {\n",
              "    try {\n",
              "      root._bokeh_onload_callbacks.forEach(function(callback) { callback() });\n",
              "    }\n",
              "    finally {\n",
              "      delete root._bokeh_onload_callbacks\n",
              "    }\n",
              "    console.info(\"Bokeh: all callbacks have finished\");\n",
              "  }\n",
              "\n",
              "  function load_libs(js_urls, callback) {\n",
              "    root._bokeh_onload_callbacks.push(callback);\n",
              "    if (root._bokeh_is_loading > 0) {\n",
              "      console.log(\"Bokeh: BokehJS is being loaded, scheduling callback at\", now());\n",
              "      return null;\n",
              "    }\n",
              "    if (js_urls == null || js_urls.length === 0) {\n",
              "      run_callbacks();\n",
              "      return null;\n",
              "    }\n",
              "    console.log(\"Bokeh: BokehJS not loaded, scheduling load and callback at\", now());\n",
              "    root._bokeh_is_loading = js_urls.length;\n",
              "    for (var i = 0; i < js_urls.length; i++) {\n",
              "      var url = js_urls[i];\n",
              "      var s = document.createElement('script');\n",
              "      s.src = url;\n",
              "      s.async = false;\n",
              "      s.onreadystatechange = s.onload = function() {\n",
              "        root._bokeh_is_loading--;\n",
              "        if (root._bokeh_is_loading === 0) {\n",
              "          console.log(\"Bokeh: all BokehJS libraries loaded\");\n",
              "          run_callbacks()\n",
              "        }\n",
              "      };\n",
              "      s.onerror = function() {\n",
              "        console.warn(\"failed to load library \" + url);\n",
              "      };\n",
              "      console.log(\"Bokeh: injecting script tag for BokehJS library: \", url);\n",
              "      document.getElementsByTagName(\"head\")[0].appendChild(s);\n",
              "    }\n",
              "  };\n",
              "\n",
              "  var js_urls = [\"https://cdn.pydata.org/bokeh/release/bokeh-1.0.4.min.js\", \"https://cdn.pydata.org/bokeh/release/bokeh-widgets-1.0.4.min.js\", \"https://cdn.pydata.org/bokeh/release/bokeh-tables-1.0.4.min.js\", \"https://cdn.pydata.org/bokeh/release/bokeh-gl-1.0.4.min.js\"];\n",
              "\n",
              "  var inline_js = [\n",
              "    function(Bokeh) {\n",
              "      Bokeh.set_log_level(\"info\");\n",
              "    },\n",
              "    \n",
              "    function(Bokeh) {\n",
              "      \n",
              "    },\n",
              "    function(Bokeh) {\n",
              "      console.log(\"Bokeh: injecting CSS: https://cdn.pydata.org/bokeh/release/bokeh-1.0.4.min.css\");\n",
              "      Bokeh.embed.inject_css(\"https://cdn.pydata.org/bokeh/release/bokeh-1.0.4.min.css\");\n",
              "      console.log(\"Bokeh: injecting CSS: https://cdn.pydata.org/bokeh/release/bokeh-widgets-1.0.4.min.css\");\n",
              "      Bokeh.embed.inject_css(\"https://cdn.pydata.org/bokeh/release/bokeh-widgets-1.0.4.min.css\");\n",
              "      console.log(\"Bokeh: injecting CSS: https://cdn.pydata.org/bokeh/release/bokeh-tables-1.0.4.min.css\");\n",
              "      Bokeh.embed.inject_css(\"https://cdn.pydata.org/bokeh/release/bokeh-tables-1.0.4.min.css\");\n",
              "    }\n",
              "  ];\n",
              "\n",
              "  function run_inline_js() {\n",
              "    \n",
              "    if ((root.Bokeh !== undefined) || (force === true)) {\n",
              "      for (var i = 0; i < inline_js.length; i++) {\n",
              "        inline_js[i].call(root, root.Bokeh);\n",
              "      }} else if (Date.now() < root._bokeh_timeout) {\n",
              "      setTimeout(run_inline_js, 100);\n",
              "    } else if (!root._bokeh_failed_load) {\n",
              "      console.log(\"Bokeh: BokehJS failed to load within specified timeout.\");\n",
              "      root._bokeh_failed_load = true;\n",
              "    } else if (force !== true) {\n",
              "      var cell = $(document.getElementById(null)).parents('.cell').data().cell;\n",
              "      cell.output_area.append_execute_result(NB_LOAD_WARNING)\n",
              "    }\n",
              "\n",
              "  }\n",
              "\n",
              "  if (root._bokeh_is_loading === 0) {\n",
              "    console.log(\"Bokeh: BokehJS loaded, going straight to plotting\");\n",
              "    run_inline_js();\n",
              "  } else {\n",
              "    load_libs(js_urls, function() {\n",
              "      console.log(\"Bokeh: BokehJS plotting callback run at\", now());\n",
              "      run_inline_js();\n",
              "    });\n",
              "  }\n",
              "}(window));"
            ],
            "application/vnd.bokehjs_load.v0+json": "\n(function(root) {\n  function now() {\n    return new Date();\n  }\n\n  var force = true;\n\n  if (typeof (root._bokeh_onload_callbacks) === \"undefined\" || force === true) {\n    root._bokeh_onload_callbacks = [];\n    root._bokeh_is_loading = undefined;\n  }\n\n  \n\n  \n  if (typeof (root._bokeh_timeout) === \"undefined\" || force === true) {\n    root._bokeh_timeout = Date.now() + 5000;\n    root._bokeh_failed_load = false;\n  }\n\n  var NB_LOAD_WARNING = {'data': {'text/html':\n     \"<div style='background-color: #fdd'>\\n\"+\n     \"<p>\\n\"+\n     \"BokehJS does not appear to have successfully loaded. If loading BokehJS from CDN, this \\n\"+\n     \"may be due to a slow or bad network connection. Possible fixes:\\n\"+\n     \"</p>\\n\"+\n     \"<ul>\\n\"+\n     \"<li>re-rerun `output_notebook()` to attempt to load from CDN again, or</li>\\n\"+\n     \"<li>use INLINE resources instead, as so:</li>\\n\"+\n     \"</ul>\\n\"+\n     \"<code>\\n\"+\n     \"from bokeh.resources import INLINE\\n\"+\n     \"output_notebook(resources=INLINE)\\n\"+\n     \"</code>\\n\"+\n     \"</div>\"}};\n\n  function display_loaded() {\n    var el = document.getElementById(null);\n    if (el != null) {\n      el.textContent = \"BokehJS is loading...\";\n    }\n    if (root.Bokeh !== undefined) {\n      if (el != null) {\n        el.textContent = \"BokehJS \" + root.Bokeh.version + \" successfully loaded.\";\n      }\n    } else if (Date.now() < root._bokeh_timeout) {\n      setTimeout(display_loaded, 100)\n    }\n  }\n\n\n  function run_callbacks() {\n    try {\n      root._bokeh_onload_callbacks.forEach(function(callback) { callback() });\n    }\n    finally {\n      delete root._bokeh_onload_callbacks\n    }\n    console.info(\"Bokeh: all callbacks have finished\");\n  }\n\n  function load_libs(js_urls, callback) {\n    root._bokeh_onload_callbacks.push(callback);\n    if (root._bokeh_is_loading > 0) {\n      console.log(\"Bokeh: BokehJS is being loaded, scheduling callback at\", now());\n      return null;\n    }\n    if (js_urls == null || js_urls.length === 0) {\n      run_callbacks();\n      return null;\n    }\n    console.log(\"Bokeh: BokehJS not loaded, scheduling load and callback at\", now());\n    root._bokeh_is_loading = js_urls.length;\n    for (var i = 0; i < js_urls.length; i++) {\n      var url = js_urls[i];\n      var s = document.createElement('script');\n      s.src = url;\n      s.async = false;\n      s.onreadystatechange = s.onload = function() {\n        root._bokeh_is_loading--;\n        if (root._bokeh_is_loading === 0) {\n          console.log(\"Bokeh: all BokehJS libraries loaded\");\n          run_callbacks()\n        }\n      };\n      s.onerror = function() {\n        console.warn(\"failed to load library \" + url);\n      };\n      console.log(\"Bokeh: injecting script tag for BokehJS library: \", url);\n      document.getElementsByTagName(\"head\")[0].appendChild(s);\n    }\n  };\n\n  var js_urls = [\"https://cdn.pydata.org/bokeh/release/bokeh-1.0.4.min.js\", \"https://cdn.pydata.org/bokeh/release/bokeh-widgets-1.0.4.min.js\", \"https://cdn.pydata.org/bokeh/release/bokeh-tables-1.0.4.min.js\", \"https://cdn.pydata.org/bokeh/release/bokeh-gl-1.0.4.min.js\"];\n\n  var inline_js = [\n    function(Bokeh) {\n      Bokeh.set_log_level(\"info\");\n    },\n    \n    function(Bokeh) {\n      \n    },\n    function(Bokeh) {\n      console.log(\"Bokeh: injecting CSS: https://cdn.pydata.org/bokeh/release/bokeh-1.0.4.min.css\");\n      Bokeh.embed.inject_css(\"https://cdn.pydata.org/bokeh/release/bokeh-1.0.4.min.css\");\n      console.log(\"Bokeh: injecting CSS: https://cdn.pydata.org/bokeh/release/bokeh-widgets-1.0.4.min.css\");\n      Bokeh.embed.inject_css(\"https://cdn.pydata.org/bokeh/release/bokeh-widgets-1.0.4.min.css\");\n      console.log(\"Bokeh: injecting CSS: https://cdn.pydata.org/bokeh/release/bokeh-tables-1.0.4.min.css\");\n      Bokeh.embed.inject_css(\"https://cdn.pydata.org/bokeh/release/bokeh-tables-1.0.4.min.css\");\n    }\n  ];\n\n  function run_inline_js() {\n    \n    if ((root.Bokeh !== undefined) || (force === true)) {\n      for (var i = 0; i < inline_js.length; i++) {\n        inline_js[i].call(root, root.Bokeh);\n      }} else if (Date.now() < root._bokeh_timeout) {\n      setTimeout(run_inline_js, 100);\n    } else if (!root._bokeh_failed_load) {\n      console.log(\"Bokeh: BokehJS failed to load within specified timeout.\");\n      root._bokeh_failed_load = true;\n    } else if (force !== true) {\n      var cell = $(document.getElementById(null)).parents('.cell').data().cell;\n      cell.output_area.append_execute_result(NB_LOAD_WARNING)\n    }\n\n  }\n\n  if (root._bokeh_is_loading === 0) {\n    console.log(\"Bokeh: BokehJS loaded, going straight to plotting\");\n    run_inline_js();\n  } else {\n    load_libs(js_urls, function() {\n      console.log(\"Bokeh: BokehJS plotting callback run at\", now());\n      run_inline_js();\n    });\n  }\n}(window));"
          },
          "metadata": {
            "tags": []
          }
        },
        {
          "output_type": "display_data",
          "data": {
            "text/html": [
              "\n",
              "\n",
              "\n",
              "\n",
              "\n",
              "\n",
              "  <div class=\"bk-root\" id=\"8ee65a12-e9a9-42d0-a482-415644359da8\" data-root-id=\"1002\"></div>\n"
            ]
          },
          "metadata": {
            "tags": []
          }
        },
        {
          "output_type": "display_data",
          "data": {
            "application/javascript": [
              "(function(root) {\n",
              "  function embed_document(root) {\n",
              "    \n",
              "  var docs_json = {\"5e9e7c44-34fd-4141-ab3e-8a57a597d995\":{\"roots\":{\"references\":[{\"attributes\":{\"below\":[{\"id\":\"1012\",\"type\":\"LinearAxis\"}],\"left\":[{\"id\":\"1017\",\"type\":\"LinearAxis\"}],\"renderers\":[{\"id\":\"1012\",\"type\":\"LinearAxis\"},{\"id\":\"1016\",\"type\":\"Grid\"},{\"id\":\"1017\",\"type\":\"LinearAxis\"},{\"id\":\"1021\",\"type\":\"Grid\"},{\"id\":\"1030\",\"type\":\"BoxAnnotation\"},{\"id\":\"1048\",\"type\":\"Legend\"},{\"id\":\"1040\",\"type\":\"GlyphRenderer\"},{\"id\":\"1053\",\"type\":\"GlyphRenderer\"}],\"title\":{\"id\":\"1001\",\"type\":\"Title\"},\"toolbar\":{\"id\":\"1028\",\"type\":\"Toolbar\"},\"x_range\":{\"id\":\"1004\",\"type\":\"DataRange1d\"},\"x_scale\":{\"id\":\"1008\",\"type\":\"LinearScale\"},\"y_range\":{\"id\":\"1006\",\"type\":\"DataRange1d\"},\"y_scale\":{\"id\":\"1010\",\"type\":\"LinearScale\"}},\"id\":\"1002\",\"subtype\":\"Figure\",\"type\":\"Plot\"},{\"attributes\":{\"formatter\":{\"id\":\"1043\",\"type\":\"BasicTickFormatter\"},\"plot\":{\"id\":\"1002\",\"subtype\":\"Figure\",\"type\":\"Plot\"},\"ticker\":{\"id\":\"1013\",\"type\":\"BasicTicker\"}},\"id\":\"1012\",\"type\":\"LinearAxis\"},{\"attributes\":{},\"id\":\"1018\",\"type\":\"BasicTicker\"},{\"attributes\":{},\"id\":\"1013\",\"type\":\"BasicTicker\"},{\"attributes\":{\"dimension\":1,\"plot\":{\"id\":\"1002\",\"subtype\":\"Figure\",\"type\":\"Plot\"},\"ticker\":{\"id\":\"1018\",\"type\":\"BasicTicker\"}},\"id\":\"1021\",\"type\":\"Grid\"},{\"attributes\":{\"label\":{\"value\":\"AUC = 0.859\"},\"renderers\":[{\"id\":\"1040\",\"type\":\"GlyphRenderer\"}]},\"id\":\"1049\",\"type\":\"LegendItem\"},{\"attributes\":{\"line_color\":\"#d15555\",\"line_dash\":[2,4,6,4],\"line_width\":2,\"x\":{\"field\":\"x\"},\"y\":{\"field\":\"y\"}},\"id\":\"1051\",\"type\":\"Line\"},{\"attributes\":{\"active_drag\":\"auto\",\"active_inspect\":\"auto\",\"active_multi\":null,\"active_scroll\":\"auto\",\"active_tap\":\"auto\",\"tools\":[{\"id\":\"1022\",\"type\":\"PanTool\"},{\"id\":\"1023\",\"type\":\"WheelZoomTool\"},{\"id\":\"1024\",\"type\":\"BoxZoomTool\"},{\"id\":\"1025\",\"type\":\"SaveTool\"},{\"id\":\"1026\",\"type\":\"ResetTool\"},{\"id\":\"1027\",\"type\":\"HelpTool\"}]},\"id\":\"1028\",\"type\":\"Toolbar\"},{\"attributes\":{\"line_alpha\":0.1,\"line_color\":\"#1f77b4\",\"line_dash\":[2,4,6,4],\"line_width\":2,\"x\":{\"field\":\"x\"},\"y\":{\"field\":\"y\"}},\"id\":\"1052\",\"type\":\"Line\"},{\"attributes\":{},\"id\":\"1060\",\"type\":\"Selection\"},{\"attributes\":{},\"id\":\"1010\",\"type\":\"LinearScale\"},{\"attributes\":{\"data_source\":{\"id\":\"1050\",\"type\":\"ColumnDataSource\"},\"glyph\":{\"id\":\"1051\",\"type\":\"Line\"},\"hover_glyph\":null,\"muted_glyph\":null,\"nonselection_glyph\":{\"id\":\"1052\",\"type\":\"Line\"},\"selection_glyph\":null,\"view\":{\"id\":\"1054\",\"type\":\"CDSView\"}},\"id\":\"1053\",\"type\":\"GlyphRenderer\"},{\"attributes\":{\"data_source\":{\"id\":\"1037\",\"type\":\"ColumnDataSource\"},\"glyph\":{\"id\":\"1038\",\"type\":\"Line\"},\"hover_glyph\":null,\"muted_glyph\":null,\"nonselection_glyph\":{\"id\":\"1039\",\"type\":\"Line\"},\"selection_glyph\":null,\"view\":{\"id\":\"1041\",\"type\":\"CDSView\"}},\"id\":\"1040\",\"type\":\"GlyphRenderer\"},{\"attributes\":{\"plot\":{\"id\":\"1002\",\"subtype\":\"Figure\",\"type\":\"Plot\"},\"ticker\":{\"id\":\"1013\",\"type\":\"BasicTicker\"}},\"id\":\"1016\",\"type\":\"Grid\"},{\"attributes\":{\"source\":{\"id\":\"1050\",\"type\":\"ColumnDataSource\"}},\"id\":\"1054\",\"type\":\"CDSView\"},{\"attributes\":{},\"id\":\"1022\",\"type\":\"PanTool\"},{\"attributes\":{\"formatter\":{\"id\":\"1045\",\"type\":\"BasicTickFormatter\"},\"plot\":{\"id\":\"1002\",\"subtype\":\"Figure\",\"type\":\"Plot\"},\"ticker\":{\"id\":\"1018\",\"type\":\"BasicTicker\"}},\"id\":\"1017\",\"type\":\"LinearAxis\"},{\"attributes\":{},\"id\":\"1023\",\"type\":\"WheelZoomTool\"},{\"attributes\":{\"line_alpha\":0.1,\"line_color\":\"#1f77b4\",\"line_width\":2,\"x\":{\"field\":\"x\"},\"y\":{\"field\":\"y\"}},\"id\":\"1039\",\"type\":\"Line\"},{\"attributes\":{\"overlay\":{\"id\":\"1030\",\"type\":\"BoxAnnotation\"}},\"id\":\"1024\",\"type\":\"BoxZoomTool\"},{\"attributes\":{\"plot\":null,\"text\":\"ROC Curve - Train data\"},\"id\":\"1001\",\"type\":\"Title\"},{\"attributes\":{},\"id\":\"1025\",\"type\":\"SaveTool\"},{\"attributes\":{\"callback\":null},\"id\":\"1004\",\"type\":\"DataRange1d\"},{\"attributes\":{},\"id\":\"1061\",\"type\":\"UnionRenderers\"},{\"attributes\":{\"callback\":null,\"data\":{\"x\":[0,1],\"y\":[0,1]},\"selected\":{\"id\":\"1062\",\"type\":\"Selection\"},\"selection_policy\":{\"id\":\"1063\",\"type\":\"UnionRenderers\"}},\"id\":\"1050\",\"type\":\"ColumnDataSource\"},{\"attributes\":{},\"id\":\"1026\",\"type\":\"ResetTool\"},{\"attributes\":{},\"id\":\"1062\",\"type\":\"Selection\"},{\"attributes\":{},\"id\":\"1027\",\"type\":\"HelpTool\"},{\"attributes\":{},\"id\":\"1063\",\"type\":\"UnionRenderers\"},{\"attributes\":{\"callback\":null,\"data\":{\"x\":{\"__ndarray__\":\"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\",\"dtype\":\"float64\",\"shape\":[426]},\"y\":{\"__ndarray__\":\"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\",\"dtype\":\"float64\",\"shape\":[426]}},\"selected\":{\"id\":\"1060\",\"type\":\"Selection\"},\"selection_policy\":{\"id\":\"1061\",\"type\":\"UnionRenderers\"}},\"id\":\"1037\",\"type\":\"ColumnDataSource\"},{\"attributes\":{\"callback\":null},\"id\":\"1006\",\"type\":\"DataRange1d\"},{\"attributes\":{\"bottom_units\":\"screen\",\"fill_alpha\":{\"value\":0.5},\"fill_color\":{\"value\":\"lightgrey\"},\"left_units\":\"screen\",\"level\":\"overlay\",\"line_alpha\":{\"value\":1.0},\"line_color\":{\"value\":\"black\"},\"line_dash\":[4,4],\"line_width\":{\"value\":2},\"plot\":null,\"render_mode\":\"css\",\"right_units\":\"screen\",\"top_units\":\"screen\"},\"id\":\"1030\",\"type\":\"BoxAnnotation\"},{\"attributes\":{\"line_color\":\"#0077bc\",\"line_width\":2,\"x\":{\"field\":\"x\"},\"y\":{\"field\":\"y\"}},\"id\":\"1038\",\"type\":\"Line\"},{\"attributes\":{},\"id\":\"1043\",\"type\":\"BasicTickFormatter\"},{\"attributes\":{},\"id\":\"1008\",\"type\":\"LinearScale\"},{\"attributes\":{},\"id\":\"1045\",\"type\":\"BasicTickFormatter\"},{\"attributes\":{\"items\":[{\"id\":\"1049\",\"type\":\"LegendItem\"}],\"plot\":{\"id\":\"1002\",\"subtype\":\"Figure\",\"type\":\"Plot\"}},\"id\":\"1048\",\"type\":\"Legend\"},{\"attributes\":{\"source\":{\"id\":\"1037\",\"type\":\"ColumnDataSource\"}},\"id\":\"1041\",\"type\":\"CDSView\"}],\"root_ids\":[\"1002\"]},\"title\":\"Bokeh Application\",\"version\":\"1.0.4\"}};\n",
              "  var render_items = [{\"docid\":\"5e9e7c44-34fd-4141-ab3e-8a57a597d995\",\"roots\":{\"1002\":\"8ee65a12-e9a9-42d0-a482-415644359da8\"}}];\n",
              "  root.Bokeh.embed.embed_items_notebook(docs_json, render_items);\n",
              "\n",
              "  }\n",
              "  if (root.Bokeh !== undefined) {\n",
              "    embed_document(root);\n",
              "  } else {\n",
              "    var attempts = 0;\n",
              "    var timer = setInterval(function(root) {\n",
              "      if (root.Bokeh !== undefined) {\n",
              "        embed_document(root);\n",
              "        clearInterval(timer);\n",
              "      }\n",
              "      attempts++;\n",
              "      if (attempts > 100) {\n",
              "        console.log(\"Bokeh: ERROR: Unable to run BokehJS code because BokehJS library is missing\");\n",
              "        clearInterval(timer);\n",
              "      }\n",
              "    }, 10, root)\n",
              "  }\n",
              "})(window);"
            ],
            "application/vnd.bokehjs_exec.v0+json": ""
          },
          "metadata": {
            "tags": [],
            "application/vnd.bokehjs_exec.v0+json": {
              "id": "1002"
            }
          }
        }
      ]
    },
    {
      "cell_type": "code",
      "metadata": {
        "id": "cYH8vk36HooA",
        "colab_type": "code",
        "colab": {}
      },
      "source": [
        ""
      ],
      "execution_count": 0,
      "outputs": []
    },
    {
      "cell_type": "code",
      "metadata": {
        "id": "M2aWx8ck-dMi",
        "colab_type": "code",
        "colab": {
          "base_uri": "https://localhost:8080/",
          "height": 617
        },
        "outputId": "5a23386e-42a7-4b7d-a47e-17900a0d6ec3"
      },
      "source": [
        "#from bokeh.charts import Histogram\n",
        "from ipywidgets import interact\n",
        "from bokeh.plotting import figure\n",
        "from bokeh.io import push_notebook, show, output_notebook\n",
        "output_notebook()\n",
        "\n",
        "from sklearn import metrics\n",
        "preds = clf.predict_proba(features_test)[:,1]\n",
        "\n",
        "fpr, tpr, _ = metrics.roc_curve(np.array(label_test), preds)\n",
        "auc = metrics.auc(fpr,tpr)\n",
        "\n",
        "p = figure(title=\"ROC Curve - Test data\")\n",
        "r = p.line(fpr,tpr,color='#0077bc',legend = 'AUC = '+ str(round(auc,3)), line_width=2)\n",
        "s = p.line([0,1],[0,1], color= '#d15555',line_dash='dotdash',line_width=2)\n",
        "show(p)"
      ],
      "execution_count": 81,
      "outputs": [
        {
          "output_type": "display_data",
          "data": {
            "application/javascript": [
              "\n",
              "(function(root) {\n",
              "  function now() {\n",
              "    return new Date();\n",
              "  }\n",
              "\n",
              "  var force = true;\n",
              "\n",
              "  if (typeof (root._bokeh_onload_callbacks) === \"undefined\" || force === true) {\n",
              "    root._bokeh_onload_callbacks = [];\n",
              "    root._bokeh_is_loading = undefined;\n",
              "  }\n",
              "\n",
              "  var JS_MIME_TYPE = 'application/javascript';\n",
              "  var HTML_MIME_TYPE = 'text/html';\n",
              "  var EXEC_MIME_TYPE = 'application/vnd.bokehjs_exec.v0+json';\n",
              "  var CLASS_NAME = 'output_bokeh rendered_html';\n",
              "\n",
              "  /**\n",
              "   * Render data to the DOM node\n",
              "   */\n",
              "  function render(props, node) {\n",
              "    var script = document.createElement(\"script\");\n",
              "    node.appendChild(script);\n",
              "  }\n",
              "\n",
              "  /**\n",
              "   * Handle when an output is cleared or removed\n",
              "   */\n",
              "  function handleClearOutput(event, handle) {\n",
              "    var cell = handle.cell;\n",
              "\n",
              "    var id = cell.output_area._bokeh_element_id;\n",
              "    var server_id = cell.output_area._bokeh_server_id;\n",
              "    // Clean up Bokeh references\n",
              "    if (id != null && id in Bokeh.index) {\n",
              "      Bokeh.index[id].model.document.clear();\n",
              "      delete Bokeh.index[id];\n",
              "    }\n",
              "\n",
              "    if (server_id !== undefined) {\n",
              "      // Clean up Bokeh references\n",
              "      var cmd = \"from bokeh.io.state import curstate; print(curstate().uuid_to_server['\" + server_id + \"'].get_sessions()[0].document.roots[0]._id)\";\n",
              "      cell.notebook.kernel.execute(cmd, {\n",
              "        iopub: {\n",
              "          output: function(msg) {\n",
              "            var id = msg.content.text.trim();\n",
              "            if (id in Bokeh.index) {\n",
              "              Bokeh.index[id].model.document.clear();\n",
              "              delete Bokeh.index[id];\n",
              "            }\n",
              "          }\n",
              "        }\n",
              "      });\n",
              "      // Destroy server and session\n",
              "      var cmd = \"import bokeh.io.notebook as ion; ion.destroy_server('\" + server_id + \"')\";\n",
              "      cell.notebook.kernel.execute(cmd);\n",
              "    }\n",
              "  }\n",
              "\n",
              "  /**\n",
              "   * Handle when a new output is added\n",
              "   */\n",
              "  function handleAddOutput(event, handle) {\n",
              "    var output_area = handle.output_area;\n",
              "    var output = handle.output;\n",
              "\n",
              "    // limit handleAddOutput to display_data with EXEC_MIME_TYPE content only\n",
              "    if ((output.output_type != \"display_data\") || (!output.data.hasOwnProperty(EXEC_MIME_TYPE))) {\n",
              "      return\n",
              "    }\n",
              "\n",
              "    var toinsert = output_area.element.find(\".\" + CLASS_NAME.split(' ')[0]);\n",
              "\n",
              "    if (output.metadata[EXEC_MIME_TYPE][\"id\"] !== undefined) {\n",
              "      toinsert[toinsert.length - 1].firstChild.textContent = output.data[JS_MIME_TYPE];\n",
              "      // store reference to embed id on output_area\n",
              "      output_area._bokeh_element_id = output.metadata[EXEC_MIME_TYPE][\"id\"];\n",
              "    }\n",
              "    if (output.metadata[EXEC_MIME_TYPE][\"server_id\"] !== undefined) {\n",
              "      var bk_div = document.createElement(\"div\");\n",
              "      bk_div.innerHTML = output.data[HTML_MIME_TYPE];\n",
              "      var script_attrs = bk_div.children[0].attributes;\n",
              "      for (var i = 0; i < script_attrs.length; i++) {\n",
              "        toinsert[toinsert.length - 1].firstChild.setAttribute(script_attrs[i].name, script_attrs[i].value);\n",
              "      }\n",
              "      // store reference to server id on output_area\n",
              "      output_area._bokeh_server_id = output.metadata[EXEC_MIME_TYPE][\"server_id\"];\n",
              "    }\n",
              "  }\n",
              "\n",
              "  function register_renderer(events, OutputArea) {\n",
              "\n",
              "    function append_mime(data, metadata, element) {\n",
              "      // create a DOM node to render to\n",
              "      var toinsert = this.create_output_subarea(\n",
              "        metadata,\n",
              "        CLASS_NAME,\n",
              "        EXEC_MIME_TYPE\n",
              "      );\n",
              "      this.keyboard_manager.register_events(toinsert);\n",
              "      // Render to node\n",
              "      var props = {data: data, metadata: metadata[EXEC_MIME_TYPE]};\n",
              "      render(props, toinsert[toinsert.length - 1]);\n",
              "      element.append(toinsert);\n",
              "      return toinsert\n",
              "    }\n",
              "\n",
              "    /* Handle when an output is cleared or removed */\n",
              "    events.on('clear_output.CodeCell', handleClearOutput);\n",
              "    events.on('delete.Cell', handleClearOutput);\n",
              "\n",
              "    /* Handle when a new output is added */\n",
              "    events.on('output_added.OutputArea', handleAddOutput);\n",
              "\n",
              "    /**\n",
              "     * Register the mime type and append_mime function with output_area\n",
              "     */\n",
              "    OutputArea.prototype.register_mime_type(EXEC_MIME_TYPE, append_mime, {\n",
              "      /* Is output safe? */\n",
              "      safe: true,\n",
              "      /* Index of renderer in `output_area.display_order` */\n",
              "      index: 0\n",
              "    });\n",
              "  }\n",
              "\n",
              "  // register the mime type if in Jupyter Notebook environment and previously unregistered\n",
              "  if (root.Jupyter !== undefined) {\n",
              "    var events = require('base/js/events');\n",
              "    var OutputArea = require('notebook/js/outputarea').OutputArea;\n",
              "\n",
              "    if (OutputArea.prototype.mime_types().indexOf(EXEC_MIME_TYPE) == -1) {\n",
              "      register_renderer(events, OutputArea);\n",
              "    }\n",
              "  }\n",
              "\n",
              "  \n",
              "  if (typeof (root._bokeh_timeout) === \"undefined\" || force === true) {\n",
              "    root._bokeh_timeout = Date.now() + 5000;\n",
              "    root._bokeh_failed_load = false;\n",
              "  }\n",
              "\n",
              "  var NB_LOAD_WARNING = {'data': {'text/html':\n",
              "     \"<div style='background-color: #fdd'>\\n\"+\n",
              "     \"<p>\\n\"+\n",
              "     \"BokehJS does not appear to have successfully loaded. If loading BokehJS from CDN, this \\n\"+\n",
              "     \"may be due to a slow or bad network connection. Possible fixes:\\n\"+\n",
              "     \"</p>\\n\"+\n",
              "     \"<ul>\\n\"+\n",
              "     \"<li>re-rerun `output_notebook()` to attempt to load from CDN again, or</li>\\n\"+\n",
              "     \"<li>use INLINE resources instead, as so:</li>\\n\"+\n",
              "     \"</ul>\\n\"+\n",
              "     \"<code>\\n\"+\n",
              "     \"from bokeh.resources import INLINE\\n\"+\n",
              "     \"output_notebook(resources=INLINE)\\n\"+\n",
              "     \"</code>\\n\"+\n",
              "     \"</div>\"}};\n",
              "\n",
              "  function display_loaded() {\n",
              "    var el = document.getElementById(null);\n",
              "    if (el != null) {\n",
              "      el.textContent = \"BokehJS is loading...\";\n",
              "    }\n",
              "    if (root.Bokeh !== undefined) {\n",
              "      if (el != null) {\n",
              "        el.textContent = \"BokehJS \" + root.Bokeh.version + \" successfully loaded.\";\n",
              "      }\n",
              "    } else if (Date.now() < root._bokeh_timeout) {\n",
              "      setTimeout(display_loaded, 100)\n",
              "    }\n",
              "  }\n",
              "\n",
              "\n",
              "  function run_callbacks() {\n",
              "    try {\n",
              "      root._bokeh_onload_callbacks.forEach(function(callback) { callback() });\n",
              "    }\n",
              "    finally {\n",
              "      delete root._bokeh_onload_callbacks\n",
              "    }\n",
              "    console.info(\"Bokeh: all callbacks have finished\");\n",
              "  }\n",
              "\n",
              "  function load_libs(js_urls, callback) {\n",
              "    root._bokeh_onload_callbacks.push(callback);\n",
              "    if (root._bokeh_is_loading > 0) {\n",
              "      console.log(\"Bokeh: BokehJS is being loaded, scheduling callback at\", now());\n",
              "      return null;\n",
              "    }\n",
              "    if (js_urls == null || js_urls.length === 0) {\n",
              "      run_callbacks();\n",
              "      return null;\n",
              "    }\n",
              "    console.log(\"Bokeh: BokehJS not loaded, scheduling load and callback at\", now());\n",
              "    root._bokeh_is_loading = js_urls.length;\n",
              "    for (var i = 0; i < js_urls.length; i++) {\n",
              "      var url = js_urls[i];\n",
              "      var s = document.createElement('script');\n",
              "      s.src = url;\n",
              "      s.async = false;\n",
              "      s.onreadystatechange = s.onload = function() {\n",
              "        root._bokeh_is_loading--;\n",
              "        if (root._bokeh_is_loading === 0) {\n",
              "          console.log(\"Bokeh: all BokehJS libraries loaded\");\n",
              "          run_callbacks()\n",
              "        }\n",
              "      };\n",
              "      s.onerror = function() {\n",
              "        console.warn(\"failed to load library \" + url);\n",
              "      };\n",
              "      console.log(\"Bokeh: injecting script tag for BokehJS library: \", url);\n",
              "      document.getElementsByTagName(\"head\")[0].appendChild(s);\n",
              "    }\n",
              "  };\n",
              "\n",
              "  var js_urls = [\"https://cdn.pydata.org/bokeh/release/bokeh-1.0.4.min.js\", \"https://cdn.pydata.org/bokeh/release/bokeh-widgets-1.0.4.min.js\", \"https://cdn.pydata.org/bokeh/release/bokeh-tables-1.0.4.min.js\", \"https://cdn.pydata.org/bokeh/release/bokeh-gl-1.0.4.min.js\"];\n",
              "\n",
              "  var inline_js = [\n",
              "    function(Bokeh) {\n",
              "      Bokeh.set_log_level(\"info\");\n",
              "    },\n",
              "    \n",
              "    function(Bokeh) {\n",
              "      \n",
              "    },\n",
              "    function(Bokeh) {\n",
              "      console.log(\"Bokeh: injecting CSS: https://cdn.pydata.org/bokeh/release/bokeh-1.0.4.min.css\");\n",
              "      Bokeh.embed.inject_css(\"https://cdn.pydata.org/bokeh/release/bokeh-1.0.4.min.css\");\n",
              "      console.log(\"Bokeh: injecting CSS: https://cdn.pydata.org/bokeh/release/bokeh-widgets-1.0.4.min.css\");\n",
              "      Bokeh.embed.inject_css(\"https://cdn.pydata.org/bokeh/release/bokeh-widgets-1.0.4.min.css\");\n",
              "      console.log(\"Bokeh: injecting CSS: https://cdn.pydata.org/bokeh/release/bokeh-tables-1.0.4.min.css\");\n",
              "      Bokeh.embed.inject_css(\"https://cdn.pydata.org/bokeh/release/bokeh-tables-1.0.4.min.css\");\n",
              "    }\n",
              "  ];\n",
              "\n",
              "  function run_inline_js() {\n",
              "    \n",
              "    if ((root.Bokeh !== undefined) || (force === true)) {\n",
              "      for (var i = 0; i < inline_js.length; i++) {\n",
              "        inline_js[i].call(root, root.Bokeh);\n",
              "      }} else if (Date.now() < root._bokeh_timeout) {\n",
              "      setTimeout(run_inline_js, 100);\n",
              "    } else if (!root._bokeh_failed_load) {\n",
              "      console.log(\"Bokeh: BokehJS failed to load within specified timeout.\");\n",
              "      root._bokeh_failed_load = true;\n",
              "    } else if (force !== true) {\n",
              "      var cell = $(document.getElementById(null)).parents('.cell').data().cell;\n",
              "      cell.output_area.append_execute_result(NB_LOAD_WARNING)\n",
              "    }\n",
              "\n",
              "  }\n",
              "\n",
              "  if (root._bokeh_is_loading === 0) {\n",
              "    console.log(\"Bokeh: BokehJS loaded, going straight to plotting\");\n",
              "    run_inline_js();\n",
              "  } else {\n",
              "    load_libs(js_urls, function() {\n",
              "      console.log(\"Bokeh: BokehJS plotting callback run at\", now());\n",
              "      run_inline_js();\n",
              "    });\n",
              "  }\n",
              "}(window));"
            ],
            "application/vnd.bokehjs_load.v0+json": "\n(function(root) {\n  function now() {\n    return new Date();\n  }\n\n  var force = true;\n\n  if (typeof (root._bokeh_onload_callbacks) === \"undefined\" || force === true) {\n    root._bokeh_onload_callbacks = [];\n    root._bokeh_is_loading = undefined;\n  }\n\n  \n\n  \n  if (typeof (root._bokeh_timeout) === \"undefined\" || force === true) {\n    root._bokeh_timeout = Date.now() + 5000;\n    root._bokeh_failed_load = false;\n  }\n\n  var NB_LOAD_WARNING = {'data': {'text/html':\n     \"<div style='background-color: #fdd'>\\n\"+\n     \"<p>\\n\"+\n     \"BokehJS does not appear to have successfully loaded. If loading BokehJS from CDN, this \\n\"+\n     \"may be due to a slow or bad network connection. Possible fixes:\\n\"+\n     \"</p>\\n\"+\n     \"<ul>\\n\"+\n     \"<li>re-rerun `output_notebook()` to attempt to load from CDN again, or</li>\\n\"+\n     \"<li>use INLINE resources instead, as so:</li>\\n\"+\n     \"</ul>\\n\"+\n     \"<code>\\n\"+\n     \"from bokeh.resources import INLINE\\n\"+\n     \"output_notebook(resources=INLINE)\\n\"+\n     \"</code>\\n\"+\n     \"</div>\"}};\n\n  function display_loaded() {\n    var el = document.getElementById(null);\n    if (el != null) {\n      el.textContent = \"BokehJS is loading...\";\n    }\n    if (root.Bokeh !== undefined) {\n      if (el != null) {\n        el.textContent = \"BokehJS \" + root.Bokeh.version + \" successfully loaded.\";\n      }\n    } else if (Date.now() < root._bokeh_timeout) {\n      setTimeout(display_loaded, 100)\n    }\n  }\n\n\n  function run_callbacks() {\n    try {\n      root._bokeh_onload_callbacks.forEach(function(callback) { callback() });\n    }\n    finally {\n      delete root._bokeh_onload_callbacks\n    }\n    console.info(\"Bokeh: all callbacks have finished\");\n  }\n\n  function load_libs(js_urls, callback) {\n    root._bokeh_onload_callbacks.push(callback);\n    if (root._bokeh_is_loading > 0) {\n      console.log(\"Bokeh: BokehJS is being loaded, scheduling callback at\", now());\n      return null;\n    }\n    if (js_urls == null || js_urls.length === 0) {\n      run_callbacks();\n      return null;\n    }\n    console.log(\"Bokeh: BokehJS not loaded, scheduling load and callback at\", now());\n    root._bokeh_is_loading = js_urls.length;\n    for (var i = 0; i < js_urls.length; i++) {\n      var url = js_urls[i];\n      var s = document.createElement('script');\n      s.src = url;\n      s.async = false;\n      s.onreadystatechange = s.onload = function() {\n        root._bokeh_is_loading--;\n        if (root._bokeh_is_loading === 0) {\n          console.log(\"Bokeh: all BokehJS libraries loaded\");\n          run_callbacks()\n        }\n      };\n      s.onerror = function() {\n        console.warn(\"failed to load library \" + url);\n      };\n      console.log(\"Bokeh: injecting script tag for BokehJS library: \", url);\n      document.getElementsByTagName(\"head\")[0].appendChild(s);\n    }\n  };\n\n  var js_urls = [\"https://cdn.pydata.org/bokeh/release/bokeh-1.0.4.min.js\", \"https://cdn.pydata.org/bokeh/release/bokeh-widgets-1.0.4.min.js\", \"https://cdn.pydata.org/bokeh/release/bokeh-tables-1.0.4.min.js\", \"https://cdn.pydata.org/bokeh/release/bokeh-gl-1.0.4.min.js\"];\n\n  var inline_js = [\n    function(Bokeh) {\n      Bokeh.set_log_level(\"info\");\n    },\n    \n    function(Bokeh) {\n      \n    },\n    function(Bokeh) {\n      console.log(\"Bokeh: injecting CSS: https://cdn.pydata.org/bokeh/release/bokeh-1.0.4.min.css\");\n      Bokeh.embed.inject_css(\"https://cdn.pydata.org/bokeh/release/bokeh-1.0.4.min.css\");\n      console.log(\"Bokeh: injecting CSS: https://cdn.pydata.org/bokeh/release/bokeh-widgets-1.0.4.min.css\");\n      Bokeh.embed.inject_css(\"https://cdn.pydata.org/bokeh/release/bokeh-widgets-1.0.4.min.css\");\n      console.log(\"Bokeh: injecting CSS: https://cdn.pydata.org/bokeh/release/bokeh-tables-1.0.4.min.css\");\n      Bokeh.embed.inject_css(\"https://cdn.pydata.org/bokeh/release/bokeh-tables-1.0.4.min.css\");\n    }\n  ];\n\n  function run_inline_js() {\n    \n    if ((root.Bokeh !== undefined) || (force === true)) {\n      for (var i = 0; i < inline_js.length; i++) {\n        inline_js[i].call(root, root.Bokeh);\n      }} else if (Date.now() < root._bokeh_timeout) {\n      setTimeout(run_inline_js, 100);\n    } else if (!root._bokeh_failed_load) {\n      console.log(\"Bokeh: BokehJS failed to load within specified timeout.\");\n      root._bokeh_failed_load = true;\n    } else if (force !== true) {\n      var cell = $(document.getElementById(null)).parents('.cell').data().cell;\n      cell.output_area.append_execute_result(NB_LOAD_WARNING)\n    }\n\n  }\n\n  if (root._bokeh_is_loading === 0) {\n    console.log(\"Bokeh: BokehJS loaded, going straight to plotting\");\n    run_inline_js();\n  } else {\n    load_libs(js_urls, function() {\n      console.log(\"Bokeh: BokehJS plotting callback run at\", now());\n      run_inline_js();\n    });\n  }\n}(window));"
          },
          "metadata": {
            "tags": []
          }
        },
        {
          "output_type": "display_data",
          "data": {
            "text/html": [
              "\n",
              "\n",
              "\n",
              "\n",
              "\n",
              "\n",
              "  <div class=\"bk-root\" id=\"c2fed7ba-2473-473e-be26-100d6694d7d2\" data-root-id=\"1126\"></div>\n"
            ]
          },
          "metadata": {
            "tags": []
          }
        },
        {
          "output_type": "display_data",
          "data": {
            "application/javascript": [
              "(function(root) {\n",
              "  function embed_document(root) {\n",
              "    \n",
              "  var docs_json = {\"3a37072c-48ee-4b0f-a002-a9fc6beab38d\":{\"roots\":{\"references\":[{\"attributes\":{\"below\":[{\"id\":\"1136\",\"type\":\"LinearAxis\"}],\"left\":[{\"id\":\"1141\",\"type\":\"LinearAxis\"}],\"renderers\":[{\"id\":\"1136\",\"type\":\"LinearAxis\"},{\"id\":\"1140\",\"type\":\"Grid\"},{\"id\":\"1141\",\"type\":\"LinearAxis\"},{\"id\":\"1145\",\"type\":\"Grid\"},{\"id\":\"1154\",\"type\":\"BoxAnnotation\"},{\"id\":\"1172\",\"type\":\"Legend\"},{\"id\":\"1164\",\"type\":\"GlyphRenderer\"},{\"id\":\"1177\",\"type\":\"GlyphRenderer\"}],\"title\":{\"id\":\"1125\",\"type\":\"Title\"},\"toolbar\":{\"id\":\"1152\",\"type\":\"Toolbar\"},\"x_range\":{\"id\":\"1128\",\"type\":\"DataRange1d\"},\"x_scale\":{\"id\":\"1132\",\"type\":\"LinearScale\"},\"y_range\":{\"id\":\"1130\",\"type\":\"DataRange1d\"},\"y_scale\":{\"id\":\"1134\",\"type\":\"LinearScale\"}},\"id\":\"1126\",\"subtype\":\"Figure\",\"type\":\"Plot\"},{\"attributes\":{},\"id\":\"1146\",\"type\":\"PanTool\"},{\"attributes\":{},\"id\":\"1134\",\"type\":\"LinearScale\"},{\"attributes\":{},\"id\":\"1197\",\"type\":\"UnionRenderers\"},{\"attributes\":{},\"id\":\"1149\",\"type\":\"SaveTool\"},{\"attributes\":{\"formatter\":{\"id\":\"1167\",\"type\":\"BasicTickFormatter\"},\"plot\":{\"id\":\"1126\",\"subtype\":\"Figure\",\"type\":\"Plot\"},\"ticker\":{\"id\":\"1137\",\"type\":\"BasicTicker\"}},\"id\":\"1136\",\"type\":\"LinearAxis\"},{\"attributes\":{\"line_color\":\"#0077bc\",\"line_width\":2,\"x\":{\"field\":\"x\"},\"y\":{\"field\":\"y\"}},\"id\":\"1162\",\"type\":\"Line\"},{\"attributes\":{},\"id\":\"1137\",\"type\":\"BasicTicker\"},{\"attributes\":{\"active_drag\":\"auto\",\"active_inspect\":\"auto\",\"active_multi\":null,\"active_scroll\":\"auto\",\"active_tap\":\"auto\",\"tools\":[{\"id\":\"1146\",\"type\":\"PanTool\"},{\"id\":\"1147\",\"type\":\"WheelZoomTool\"},{\"id\":\"1148\",\"type\":\"BoxZoomTool\"},{\"id\":\"1149\",\"type\":\"SaveTool\"},{\"id\":\"1150\",\"type\":\"ResetTool\"},{\"id\":\"1151\",\"type\":\"HelpTool\"}]},\"id\":\"1152\",\"type\":\"Toolbar\"},{\"attributes\":{},\"id\":\"1142\",\"type\":\"BasicTicker\"},{\"attributes\":{\"overlay\":{\"id\":\"1154\",\"type\":\"BoxAnnotation\"}},\"id\":\"1148\",\"type\":\"BoxZoomTool\"},{\"attributes\":{\"formatter\":{\"id\":\"1169\",\"type\":\"BasicTickFormatter\"},\"plot\":{\"id\":\"1126\",\"subtype\":\"Figure\",\"type\":\"Plot\"},\"ticker\":{\"id\":\"1142\",\"type\":\"BasicTicker\"}},\"id\":\"1141\",\"type\":\"LinearAxis\"},{\"attributes\":{\"callback\":null,\"data\":{\"x\":[0,1],\"y\":[0,1]},\"selected\":{\"id\":\"1196\",\"type\":\"Selection\"},\"selection_policy\":{\"id\":\"1197\",\"type\":\"UnionRenderers\"}},\"id\":\"1174\",\"type\":\"ColumnDataSource\"},{\"attributes\":{\"plot\":{\"id\":\"1126\",\"subtype\":\"Figure\",\"type\":\"Plot\"},\"ticker\":{\"id\":\"1137\",\"type\":\"BasicTicker\"}},\"id\":\"1140\",\"type\":\"Grid\"},{\"attributes\":{\"callback\":null,\"data\":{\"x\":{\"__ndarray__\":\"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\",\"dtype\":\"float64\",\"shape\":[282]},\"y\":{\"__ndarray__\":\"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\",\"dtype\":\"float64\",\"shape\":[282]}},\"selected\":{\"id\":\"1194\",\"type\":\"Selection\"},\"selection_policy\":{\"id\":\"1195\",\"type\":\"UnionRenderers\"}},\"id\":\"1161\",\"type\":\"ColumnDataSource\"},{\"attributes\":{\"line_alpha\":0.1,\"line_color\":\"#1f77b4\",\"line_width\":2,\"x\":{\"field\":\"x\"},\"y\":{\"field\":\"y\"}},\"id\":\"1163\",\"type\":\"Line\"},{\"attributes\":{\"bottom_units\":\"screen\",\"fill_alpha\":{\"value\":0.5},\"fill_color\":{\"value\":\"lightgrey\"},\"left_units\":\"screen\",\"level\":\"overlay\",\"line_alpha\":{\"value\":1.0},\"line_color\":{\"value\":\"black\"},\"line_dash\":[4,4],\"line_width\":{\"value\":2},\"plot\":null,\"render_mode\":\"css\",\"right_units\":\"screen\",\"top_units\":\"screen\"},\"id\":\"1154\",\"type\":\"BoxAnnotation\"},{\"attributes\":{\"dimension\":1,\"plot\":{\"id\":\"1126\",\"subtype\":\"Figure\",\"type\":\"Plot\"},\"ticker\":{\"id\":\"1142\",\"type\":\"BasicTicker\"}},\"id\":\"1145\",\"type\":\"Grid\"},{\"attributes\":{\"data_source\":{\"id\":\"1161\",\"type\":\"ColumnDataSource\"},\"glyph\":{\"id\":\"1162\",\"type\":\"Line\"},\"hover_glyph\":null,\"muted_glyph\":null,\"nonselection_glyph\":{\"id\":\"1163\",\"type\":\"Line\"},\"selection_glyph\":null,\"view\":{\"id\":\"1165\",\"type\":\"CDSView\"}},\"id\":\"1164\",\"type\":\"GlyphRenderer\"},{\"attributes\":{},\"id\":\"1132\",\"type\":\"LinearScale\"},{\"attributes\":{\"source\":{\"id\":\"1161\",\"type\":\"ColumnDataSource\"}},\"id\":\"1165\",\"type\":\"CDSView\"},{\"attributes\":{\"callback\":null},\"id\":\"1130\",\"type\":\"DataRange1d\"},{\"attributes\":{},\"id\":\"1167\",\"type\":\"BasicTickFormatter\"},{\"attributes\":{\"callback\":null},\"id\":\"1128\",\"type\":\"DataRange1d\"},{\"attributes\":{},\"id\":\"1196\",\"type\":\"Selection\"},{\"attributes\":{},\"id\":\"1194\",\"type\":\"Selection\"},{\"attributes\":{},\"id\":\"1169\",\"type\":\"BasicTickFormatter\"},{\"attributes\":{},\"id\":\"1147\",\"type\":\"WheelZoomTool\"},{\"attributes\":{\"label\":{\"value\":\"AUC = 0.853\"},\"renderers\":[{\"id\":\"1164\",\"type\":\"GlyphRenderer\"}]},\"id\":\"1173\",\"type\":\"LegendItem\"},{\"attributes\":{\"items\":[{\"id\":\"1173\",\"type\":\"LegendItem\"}],\"plot\":{\"id\":\"1126\",\"subtype\":\"Figure\",\"type\":\"Plot\"}},\"id\":\"1172\",\"type\":\"Legend\"},{\"attributes\":{},\"id\":\"1195\",\"type\":\"UnionRenderers\"},{\"attributes\":{\"line_color\":\"#d15555\",\"line_dash\":[2,4,6,4],\"line_width\":2,\"x\":{\"field\":\"x\"},\"y\":{\"field\":\"y\"}},\"id\":\"1175\",\"type\":\"Line\"},{\"attributes\":{\"plot\":null,\"text\":\"ROC Curve - Test data\"},\"id\":\"1125\",\"type\":\"Title\"},{\"attributes\":{\"line_alpha\":0.1,\"line_color\":\"#1f77b4\",\"line_dash\":[2,4,6,4],\"line_width\":2,\"x\":{\"field\":\"x\"},\"y\":{\"field\":\"y\"}},\"id\":\"1176\",\"type\":\"Line\"},{\"attributes\":{},\"id\":\"1150\",\"type\":\"ResetTool\"},{\"attributes\":{\"data_source\":{\"id\":\"1174\",\"type\":\"ColumnDataSource\"},\"glyph\":{\"id\":\"1175\",\"type\":\"Line\"},\"hover_glyph\":null,\"muted_glyph\":null,\"nonselection_glyph\":{\"id\":\"1176\",\"type\":\"Line\"},\"selection_glyph\":null,\"view\":{\"id\":\"1178\",\"type\":\"CDSView\"}},\"id\":\"1177\",\"type\":\"GlyphRenderer\"},{\"attributes\":{\"source\":{\"id\":\"1174\",\"type\":\"ColumnDataSource\"}},\"id\":\"1178\",\"type\":\"CDSView\"},{\"attributes\":{},\"id\":\"1151\",\"type\":\"HelpTool\"}],\"root_ids\":[\"1126\"]},\"title\":\"Bokeh Application\",\"version\":\"1.0.4\"}};\n",
              "  var render_items = [{\"docid\":\"3a37072c-48ee-4b0f-a002-a9fc6beab38d\",\"roots\":{\"1126\":\"c2fed7ba-2473-473e-be26-100d6694d7d2\"}}];\n",
              "  root.Bokeh.embed.embed_items_notebook(docs_json, render_items);\n",
              "\n",
              "  }\n",
              "  if (root.Bokeh !== undefined) {\n",
              "    embed_document(root);\n",
              "  } else {\n",
              "    var attempts = 0;\n",
              "    var timer = setInterval(function(root) {\n",
              "      if (root.Bokeh !== undefined) {\n",
              "        embed_document(root);\n",
              "        clearInterval(timer);\n",
              "      }\n",
              "      attempts++;\n",
              "      if (attempts > 100) {\n",
              "        console.log(\"Bokeh: ERROR: Unable to run BokehJS code because BokehJS library is missing\");\n",
              "        clearInterval(timer);\n",
              "      }\n",
              "    }, 10, root)\n",
              "  }\n",
              "})(window);"
            ],
            "application/vnd.bokehjs_exec.v0+json": ""
          },
          "metadata": {
            "tags": [],
            "application/vnd.bokehjs_exec.v0+json": {
              "id": "1126"
            }
          }
        }
      ]
    },
    {
      "cell_type": "markdown",
      "metadata": {
        "id": "BmcTCYyS-dMn",
        "colab_type": "text"
      },
      "source": [
        "## Decile Plots and KS statistic"
      ]
    },
    {
      "cell_type": "code",
      "metadata": {
        "id": "Vz3LkXrV-dMo",
        "colab_type": "code",
        "colab": {}
      },
      "source": [
        "from collections import OrderedDict\n",
        "import pandas as pd\n",
        "import sys\n",
        "%matplotlib inline\n",
        "    \n",
        "def plot_pandas_style(styler):\n",
        "    from IPython.core.display import HTML\n",
        "    html = '\\n'.join([line.lstrip() for line in styler.render().split('\\n')])\n",
        "    return HTML(html)\n",
        "\n",
        "def highlight_max(s,color='yellow'):\n",
        "    '''\n",
        "    highlight the maximum in a Series yellow.\n",
        "    '''\n",
        "    is_max = s == s.max()\n",
        "    return ['background-color: {}'.format(color) if v else '' for v in is_max]\n",
        "\n",
        "def decile_labels(agg1,label,color='skyblue'):\n",
        "    agg_dummy = pd.DataFrame(OrderedDict((('TOTAL',0),('TARGET',0),('NONTARGET',0),('PCT_TAR',0),('CUM_TAR',0),('CUM_NONTAR',0),('DIST_TAR',0),('DIST_NONTAR',0),('SPREAD',0))),index=[0])\n",
        "    agg1 = agg1.append(agg_dummy).sort_index()\n",
        "    agg1.index.name = label\n",
        "    agg1 = agg1.style.apply(highlight_max, color = 'yellow', subset=['SPREAD'])\n",
        "    agg1.bar(subset=['TARGET'], color='{}'.format(color))\n",
        "    agg1.bar(subset=['TOTAL'], color='{}'.format(color))\n",
        "    agg1.bar(subset=['PCT_TAR'], color='{}'.format(color))\n",
        "    return(agg1)\n",
        "\n",
        "def deciling(data,decile_by,target,nontarget):\n",
        "    inputs = list(decile_by)\n",
        "    inputs.extend((target,nontarget))\n",
        "    decile = data[inputs]\n",
        "    grouped = decile.groupby(decile_by)\n",
        "    agg1 = pd.DataFrame({},index=[])\n",
        "    agg1['TOTAL'] = grouped.sum()[nontarget] + grouped.sum()[target]\n",
        "    agg1['TARGET'] = grouped.sum()[target]\n",
        "    agg1['NONTARGET'] = grouped.sum()[nontarget]\n",
        "    agg1['PCT_TAR'] = grouped.mean()[target]*100\n",
        "    agg1['CUM_TAR'] = grouped.sum()[target].cumsum()\n",
        "    agg1['CUM_NONTAR'] = grouped.sum()[nontarget].cumsum()\n",
        "    agg1['DIST_TAR'] = agg1['CUM_TAR']/agg1['TARGET'].sum()*100\n",
        "    agg1['DIST_NONTAR'] = agg1['CUM_NONTAR']/agg1['NONTARGET'].sum()*100\n",
        "    agg1['SPREAD'] = (agg1['DIST_TAR'] - agg1['DIST_NONTAR'])\n",
        "    agg1 = decile_labels(agg1,'DECILE',color='skyblue')\n",
        "    return(plot_pandas_style(agg1))"
      ],
      "execution_count": 0,
      "outputs": []
    },
    {
      "cell_type": "code",
      "metadata": {
        "id": "E73rWV2l-dMq",
        "colab_type": "code",
        "colab": {}
      },
      "source": [
        "def scoring(features,clf,target):\n",
        "    score = pd.DataFrame(clf.predict_proba(features)[:,1], columns = ['SCORE'])\n",
        "    score['DECILE'] = pd.qcut(score['SCORE'].rank(method = 'first'),10,labels=range(10,0,-1))\n",
        "    score['DECILE'] = score['DECILE'].astype(float)\n",
        "    score['TARGET'] = target\n",
        "    score['NONTARGET'] = 1 - target\n",
        "    return(score)"
      ],
      "execution_count": 0,
      "outputs": []
    },
    {
      "cell_type": "code",
      "metadata": {
        "id": "d9MWSeSz-dMv",
        "colab_type": "code",
        "colab": {}
      },
      "source": [
        "scores_train = scoring(features_train,clf,label_train)\n",
        "scores_test = scoring(features_test,clf,label_test)"
      ],
      "execution_count": 0,
      "outputs": []
    },
    {
      "cell_type": "code",
      "metadata": {
        "id": "i457E48P-dM3",
        "colab_type": "code",
        "colab": {
          "base_uri": "https://localhost:8080/",
          "height": 292
        },
        "outputId": "eeb9472b-d0f7-47ec-dc40-41bddc9ceb08"
      },
      "source": [
        "deciling(scores_train,['DECILE'],'TARGET','NONTARGET')"
      ],
      "execution_count": 85,
      "outputs": [
        {
          "output_type": "execute_result",
          "data": {
            "text/html": [
              "<style  type=\"text/css\" >\n",
              "#T_5c4f8a7a_2f7a_11ea_aff7_0242ac1c0002row0_col0 {\n",
              "width:  10em;\n",
              "height:  80%;\n",
              "}    #T_5c4f8a7a_2f7a_11ea_aff7_0242ac1c0002row0_col1 {\n",
              "width:  10em;\n",
              "height:  80%;\n",
              "}    #T_5c4f8a7a_2f7a_11ea_aff7_0242ac1c0002row0_col3 {\n",
              "width:  10em;\n",
              "height:  80%;\n",
              "}    #T_5c4f8a7a_2f7a_11ea_aff7_0242ac1c0002row1_col0 {\n",
              "width:  10em;\n",
              "height:  80%;\n",
              "background:  linear-gradient(90deg,skyblue 100.0%, transparent 100.0%);\n",
              "}    #T_5c4f8a7a_2f7a_11ea_aff7_0242ac1c0002row1_col1 {\n",
              "width:  10em;\n",
              "height:  80%;\n",
              "background:  linear-gradient(90deg,skyblue 100.0%, transparent 100.0%);\n",
              "}    #T_5c4f8a7a_2f7a_11ea_aff7_0242ac1c0002row1_col3 {\n",
              "width:  10em;\n",
              "height:  80%;\n",
              "background:  linear-gradient(90deg,skyblue 100.0%, transparent 100.0%);\n",
              "}    #T_5c4f8a7a_2f7a_11ea_aff7_0242ac1c0002row2_col0 {\n",
              "width:  10em;\n",
              "height:  80%;\n",
              "background:  linear-gradient(90deg,skyblue 99.6%, transparent 99.6%);\n",
              "}    #T_5c4f8a7a_2f7a_11ea_aff7_0242ac1c0002row2_col1 {\n",
              "width:  10em;\n",
              "height:  80%;\n",
              "background:  linear-gradient(90deg,skyblue 65.9%, transparent 65.9%);\n",
              "}    #T_5c4f8a7a_2f7a_11ea_aff7_0242ac1c0002row2_col3 {\n",
              "width:  10em;\n",
              "height:  80%;\n",
              "background:  linear-gradient(90deg,skyblue 66.1%, transparent 66.1%);\n",
              "}    #T_5c4f8a7a_2f7a_11ea_aff7_0242ac1c0002row3_col0 {\n",
              "width:  10em;\n",
              "height:  80%;\n",
              "background:  linear-gradient(90deg,skyblue 99.6%, transparent 99.6%);\n",
              "}    #T_5c4f8a7a_2f7a_11ea_aff7_0242ac1c0002row3_col1 {\n",
              "width:  10em;\n",
              "height:  80%;\n",
              "background:  linear-gradient(90deg,skyblue 27.1%, transparent 27.1%);\n",
              "}    #T_5c4f8a7a_2f7a_11ea_aff7_0242ac1c0002row3_col3 {\n",
              "width:  10em;\n",
              "height:  80%;\n",
              "background:  linear-gradient(90deg,skyblue 27.2%, transparent 27.2%);\n",
              "}    #T_5c4f8a7a_2f7a_11ea_aff7_0242ac1c0002row3_col8 {\n",
              "background-color:  yellow;\n",
              "}    #T_5c4f8a7a_2f7a_11ea_aff7_0242ac1c0002row4_col0 {\n",
              "width:  10em;\n",
              "height:  80%;\n",
              "background:  linear-gradient(90deg,skyblue 99.6%, transparent 99.6%);\n",
              "}    #T_5c4f8a7a_2f7a_11ea_aff7_0242ac1c0002row4_col1 {\n",
              "width:  10em;\n",
              "height:  80%;\n",
              "background:  linear-gradient(90deg,skyblue 17.1%, transparent 17.1%);\n",
              "}    #T_5c4f8a7a_2f7a_11ea_aff7_0242ac1c0002row4_col3 {\n",
              "width:  10em;\n",
              "height:  80%;\n",
              "background:  linear-gradient(90deg,skyblue 17.1%, transparent 17.1%);\n",
              "}    #T_5c4f8a7a_2f7a_11ea_aff7_0242ac1c0002row5_col0 {\n",
              "width:  10em;\n",
              "height:  80%;\n",
              "background:  linear-gradient(90deg,skyblue 99.6%, transparent 99.6%);\n",
              "}    #T_5c4f8a7a_2f7a_11ea_aff7_0242ac1c0002row5_col1 {\n",
              "width:  10em;\n",
              "height:  80%;\n",
              "background:  linear-gradient(90deg,skyblue 14.0%, transparent 14.0%);\n",
              "}    #T_5c4f8a7a_2f7a_11ea_aff7_0242ac1c0002row5_col3 {\n",
              "width:  10em;\n",
              "height:  80%;\n",
              "background:  linear-gradient(90deg,skyblue 14.0%, transparent 14.0%);\n",
              "}    #T_5c4f8a7a_2f7a_11ea_aff7_0242ac1c0002row6_col0 {\n",
              "width:  10em;\n",
              "height:  80%;\n",
              "background:  linear-gradient(90deg,skyblue 99.6%, transparent 99.6%);\n",
              "}    #T_5c4f8a7a_2f7a_11ea_aff7_0242ac1c0002row6_col1 {\n",
              "width:  10em;\n",
              "height:  80%;\n",
              "background:  linear-gradient(90deg,skyblue 5.4%, transparent 5.4%);\n",
              "}    #T_5c4f8a7a_2f7a_11ea_aff7_0242ac1c0002row6_col3 {\n",
              "width:  10em;\n",
              "height:  80%;\n",
              "background:  linear-gradient(90deg,skyblue 5.4%, transparent 5.4%);\n",
              "}    #T_5c4f8a7a_2f7a_11ea_aff7_0242ac1c0002row7_col0 {\n",
              "width:  10em;\n",
              "height:  80%;\n",
              "background:  linear-gradient(90deg,skyblue 99.6%, transparent 99.6%);\n",
              "}    #T_5c4f8a7a_2f7a_11ea_aff7_0242ac1c0002row7_col1 {\n",
              "width:  10em;\n",
              "height:  80%;\n",
              "background:  linear-gradient(90deg,skyblue 7.8%, transparent 7.8%);\n",
              "}    #T_5c4f8a7a_2f7a_11ea_aff7_0242ac1c0002row7_col3 {\n",
              "width:  10em;\n",
              "height:  80%;\n",
              "background:  linear-gradient(90deg,skyblue 7.8%, transparent 7.8%);\n",
              "}    #T_5c4f8a7a_2f7a_11ea_aff7_0242ac1c0002row8_col0 {\n",
              "width:  10em;\n",
              "height:  80%;\n",
              "background:  linear-gradient(90deg,skyblue 99.6%, transparent 99.6%);\n",
              "}    #T_5c4f8a7a_2f7a_11ea_aff7_0242ac1c0002row8_col1 {\n",
              "width:  10em;\n",
              "height:  80%;\n",
              "background:  linear-gradient(90deg,skyblue 1.6%, transparent 1.6%);\n",
              "}    #T_5c4f8a7a_2f7a_11ea_aff7_0242ac1c0002row8_col3 {\n",
              "width:  10em;\n",
              "height:  80%;\n",
              "background:  linear-gradient(90deg,skyblue 1.6%, transparent 1.6%);\n",
              "}    #T_5c4f8a7a_2f7a_11ea_aff7_0242ac1c0002row9_col0 {\n",
              "width:  10em;\n",
              "height:  80%;\n",
              "background:  linear-gradient(90deg,skyblue 99.6%, transparent 99.6%);\n",
              "}    #T_5c4f8a7a_2f7a_11ea_aff7_0242ac1c0002row9_col1 {\n",
              "width:  10em;\n",
              "height:  80%;\n",
              "background:  linear-gradient(90deg,skyblue 1.6%, transparent 1.6%);\n",
              "}    #T_5c4f8a7a_2f7a_11ea_aff7_0242ac1c0002row9_col3 {\n",
              "width:  10em;\n",
              "height:  80%;\n",
              "background:  linear-gradient(90deg,skyblue 1.6%, transparent 1.6%);\n",
              "}    #T_5c4f8a7a_2f7a_11ea_aff7_0242ac1c0002row10_col0 {\n",
              "width:  10em;\n",
              "height:  80%;\n",
              "background:  linear-gradient(90deg,skyblue 100.0%, transparent 100.0%);\n",
              "}    #T_5c4f8a7a_2f7a_11ea_aff7_0242ac1c0002row10_col1 {\n",
              "width:  10em;\n",
              "height:  80%;\n",
              "background:  linear-gradient(90deg,skyblue 0.8%, transparent 0.8%);\n",
              "}    #T_5c4f8a7a_2f7a_11ea_aff7_0242ac1c0002row10_col3 {\n",
              "width:  10em;\n",
              "height:  80%;\n",
              "background:  linear-gradient(90deg,skyblue 0.8%, transparent 0.8%);\n",
              "}</style><table id=\"T_5c4f8a7a_2f7a_11ea_aff7_0242ac1c0002\" ><thead>    <tr>        <th class=\"blank level0\" ></th>        <th class=\"col_heading level0 col0\" >TOTAL</th>        <th class=\"col_heading level0 col1\" >TARGET</th>        <th class=\"col_heading level0 col2\" >NONTARGET</th>        <th class=\"col_heading level0 col3\" >PCT_TAR</th>        <th class=\"col_heading level0 col4\" >CUM_TAR</th>        <th class=\"col_heading level0 col5\" >CUM_NONTAR</th>        <th class=\"col_heading level0 col6\" >DIST_TAR</th>        <th class=\"col_heading level0 col7\" >DIST_NONTAR</th>        <th class=\"col_heading level0 col8\" >SPREAD</th>    </tr>    <tr>        <th class=\"index_name level0\" >DECILE</th>        <th class=\"blank\" ></th>        <th class=\"blank\" ></th>        <th class=\"blank\" ></th>        <th class=\"blank\" ></th>        <th class=\"blank\" ></th>        <th class=\"blank\" ></th>        <th class=\"blank\" ></th>        <th class=\"blank\" ></th>        <th class=\"blank\" ></th>    </tr></thead><tbody>\n",
              "<tr>\n",
              "<th id=\"T_5c4f8a7a_2f7a_11ea_aff7_0242ac1c0002level0_row0\" class=\"row_heading level0 row0\" >0.0</th>\n",
              "<td id=\"T_5c4f8a7a_2f7a_11ea_aff7_0242ac1c0002row0_col0\" class=\"data row0 col0\" >0</td>\n",
              "<td id=\"T_5c4f8a7a_2f7a_11ea_aff7_0242ac1c0002row0_col1\" class=\"data row0 col1\" >0</td>\n",
              "<td id=\"T_5c4f8a7a_2f7a_11ea_aff7_0242ac1c0002row0_col2\" class=\"data row0 col2\" >0</td>\n",
              "<td id=\"T_5c4f8a7a_2f7a_11ea_aff7_0242ac1c0002row0_col3\" class=\"data row0 col3\" >0</td>\n",
              "<td id=\"T_5c4f8a7a_2f7a_11ea_aff7_0242ac1c0002row0_col4\" class=\"data row0 col4\" >0</td>\n",
              "<td id=\"T_5c4f8a7a_2f7a_11ea_aff7_0242ac1c0002row0_col5\" class=\"data row0 col5\" >0</td>\n",
              "<td id=\"T_5c4f8a7a_2f7a_11ea_aff7_0242ac1c0002row0_col6\" class=\"data row0 col6\" >0</td>\n",
              "<td id=\"T_5c4f8a7a_2f7a_11ea_aff7_0242ac1c0002row0_col7\" class=\"data row0 col7\" >0</td>\n",
              "<td id=\"T_5c4f8a7a_2f7a_11ea_aff7_0242ac1c0002row0_col8\" class=\"data row0 col8\" >0</td>\n",
              "</tr>\n",
              "<tr>\n",
              "<th id=\"T_5c4f8a7a_2f7a_11ea_aff7_0242ac1c0002level0_row1\" class=\"row_heading level0 row1\" >1.0</th>\n",
              "<td id=\"T_5c4f8a7a_2f7a_11ea_aff7_0242ac1c0002row1_col0\" class=\"data row1 col0\" >272</td>\n",
              "<td id=\"T_5c4f8a7a_2f7a_11ea_aff7_0242ac1c0002row1_col1\" class=\"data row1 col1\" >129</td>\n",
              "<td id=\"T_5c4f8a7a_2f7a_11ea_aff7_0242ac1c0002row1_col2\" class=\"data row1 col2\" >143</td>\n",
              "<td id=\"T_5c4f8a7a_2f7a_11ea_aff7_0242ac1c0002row1_col3\" class=\"data row1 col3\" >47.4265</td>\n",
              "<td id=\"T_5c4f8a7a_2f7a_11ea_aff7_0242ac1c0002row1_col4\" class=\"data row1 col4\" >129</td>\n",
              "<td id=\"T_5c4f8a7a_2f7a_11ea_aff7_0242ac1c0002row1_col5\" class=\"data row1 col5\" >143</td>\n",
              "<td id=\"T_5c4f8a7a_2f7a_11ea_aff7_0242ac1c0002row1_col6\" class=\"data row1 col6\" >41.4791</td>\n",
              "<td id=\"T_5c4f8a7a_2f7a_11ea_aff7_0242ac1c0002row1_col7\" class=\"data row1 col7\" >5.95585</td>\n",
              "<td id=\"T_5c4f8a7a_2f7a_11ea_aff7_0242ac1c0002row1_col8\" class=\"data row1 col8\" >35.5232</td>\n",
              "</tr>\n",
              "<tr>\n",
              "<th id=\"T_5c4f8a7a_2f7a_11ea_aff7_0242ac1c0002level0_row2\" class=\"row_heading level0 row2\" >2.0</th>\n",
              "<td id=\"T_5c4f8a7a_2f7a_11ea_aff7_0242ac1c0002row2_col0\" class=\"data row2 col0\" >271</td>\n",
              "<td id=\"T_5c4f8a7a_2f7a_11ea_aff7_0242ac1c0002row2_col1\" class=\"data row2 col1\" >85</td>\n",
              "<td id=\"T_5c4f8a7a_2f7a_11ea_aff7_0242ac1c0002row2_col2\" class=\"data row2 col2\" >186</td>\n",
              "<td id=\"T_5c4f8a7a_2f7a_11ea_aff7_0242ac1c0002row2_col3\" class=\"data row2 col3\" >31.3653</td>\n",
              "<td id=\"T_5c4f8a7a_2f7a_11ea_aff7_0242ac1c0002row2_col4\" class=\"data row2 col4\" >214</td>\n",
              "<td id=\"T_5c4f8a7a_2f7a_11ea_aff7_0242ac1c0002row2_col5\" class=\"data row2 col5\" >329</td>\n",
              "<td id=\"T_5c4f8a7a_2f7a_11ea_aff7_0242ac1c0002row2_col6\" class=\"data row2 col6\" >68.8103</td>\n",
              "<td id=\"T_5c4f8a7a_2f7a_11ea_aff7_0242ac1c0002row2_col7\" class=\"data row2 col7\" >13.7026</td>\n",
              "<td id=\"T_5c4f8a7a_2f7a_11ea_aff7_0242ac1c0002row2_col8\" class=\"data row2 col8\" >55.1077</td>\n",
              "</tr>\n",
              "<tr>\n",
              "<th id=\"T_5c4f8a7a_2f7a_11ea_aff7_0242ac1c0002level0_row3\" class=\"row_heading level0 row3\" >3.0</th>\n",
              "<td id=\"T_5c4f8a7a_2f7a_11ea_aff7_0242ac1c0002row3_col0\" class=\"data row3 col0\" >271</td>\n",
              "<td id=\"T_5c4f8a7a_2f7a_11ea_aff7_0242ac1c0002row3_col1\" class=\"data row3 col1\" >35</td>\n",
              "<td id=\"T_5c4f8a7a_2f7a_11ea_aff7_0242ac1c0002row3_col2\" class=\"data row3 col2\" >236</td>\n",
              "<td id=\"T_5c4f8a7a_2f7a_11ea_aff7_0242ac1c0002row3_col3\" class=\"data row3 col3\" >12.9151</td>\n",
              "<td id=\"T_5c4f8a7a_2f7a_11ea_aff7_0242ac1c0002row3_col4\" class=\"data row3 col4\" >249</td>\n",
              "<td id=\"T_5c4f8a7a_2f7a_11ea_aff7_0242ac1c0002row3_col5\" class=\"data row3 col5\" >565</td>\n",
              "<td id=\"T_5c4f8a7a_2f7a_11ea_aff7_0242ac1c0002row3_col6\" class=\"data row3 col6\" >80.0643</td>\n",
              "<td id=\"T_5c4f8a7a_2f7a_11ea_aff7_0242ac1c0002row3_col7\" class=\"data row3 col7\" >23.5319</td>\n",
              "<td id=\"T_5c4f8a7a_2f7a_11ea_aff7_0242ac1c0002row3_col8\" class=\"data row3 col8\" >56.5324</td>\n",
              "</tr>\n",
              "<tr>\n",
              "<th id=\"T_5c4f8a7a_2f7a_11ea_aff7_0242ac1c0002level0_row4\" class=\"row_heading level0 row4\" >4.0</th>\n",
              "<td id=\"T_5c4f8a7a_2f7a_11ea_aff7_0242ac1c0002row4_col0\" class=\"data row4 col0\" >271</td>\n",
              "<td id=\"T_5c4f8a7a_2f7a_11ea_aff7_0242ac1c0002row4_col1\" class=\"data row4 col1\" >22</td>\n",
              "<td id=\"T_5c4f8a7a_2f7a_11ea_aff7_0242ac1c0002row4_col2\" class=\"data row4 col2\" >249</td>\n",
              "<td id=\"T_5c4f8a7a_2f7a_11ea_aff7_0242ac1c0002row4_col3\" class=\"data row4 col3\" >8.11808</td>\n",
              "<td id=\"T_5c4f8a7a_2f7a_11ea_aff7_0242ac1c0002row4_col4\" class=\"data row4 col4\" >271</td>\n",
              "<td id=\"T_5c4f8a7a_2f7a_11ea_aff7_0242ac1c0002row4_col5\" class=\"data row4 col5\" >814</td>\n",
              "<td id=\"T_5c4f8a7a_2f7a_11ea_aff7_0242ac1c0002row4_col6\" class=\"data row4 col6\" >87.1383</td>\n",
              "<td id=\"T_5c4f8a7a_2f7a_11ea_aff7_0242ac1c0002row4_col7\" class=\"data row4 col7\" >33.9025</td>\n",
              "<td id=\"T_5c4f8a7a_2f7a_11ea_aff7_0242ac1c0002row4_col8\" class=\"data row4 col8\" >53.2357</td>\n",
              "</tr>\n",
              "<tr>\n",
              "<th id=\"T_5c4f8a7a_2f7a_11ea_aff7_0242ac1c0002level0_row5\" class=\"row_heading level0 row5\" >5.0</th>\n",
              "<td id=\"T_5c4f8a7a_2f7a_11ea_aff7_0242ac1c0002row5_col0\" class=\"data row5 col0\" >271</td>\n",
              "<td id=\"T_5c4f8a7a_2f7a_11ea_aff7_0242ac1c0002row5_col1\" class=\"data row5 col1\" >18</td>\n",
              "<td id=\"T_5c4f8a7a_2f7a_11ea_aff7_0242ac1c0002row5_col2\" class=\"data row5 col2\" >253</td>\n",
              "<td id=\"T_5c4f8a7a_2f7a_11ea_aff7_0242ac1c0002row5_col3\" class=\"data row5 col3\" >6.64207</td>\n",
              "<td id=\"T_5c4f8a7a_2f7a_11ea_aff7_0242ac1c0002row5_col4\" class=\"data row5 col4\" >289</td>\n",
              "<td id=\"T_5c4f8a7a_2f7a_11ea_aff7_0242ac1c0002row5_col5\" class=\"data row5 col5\" >1067</td>\n",
              "<td id=\"T_5c4f8a7a_2f7a_11ea_aff7_0242ac1c0002row5_col6\" class=\"data row5 col6\" >92.926</td>\n",
              "<td id=\"T_5c4f8a7a_2f7a_11ea_aff7_0242ac1c0002row5_col7\" class=\"data row5 col7\" >44.4398</td>\n",
              "<td id=\"T_5c4f8a7a_2f7a_11ea_aff7_0242ac1c0002row5_col8\" class=\"data row5 col8\" >48.4862</td>\n",
              "</tr>\n",
              "<tr>\n",
              "<th id=\"T_5c4f8a7a_2f7a_11ea_aff7_0242ac1c0002level0_row6\" class=\"row_heading level0 row6\" >6.0</th>\n",
              "<td id=\"T_5c4f8a7a_2f7a_11ea_aff7_0242ac1c0002row6_col0\" class=\"data row6 col0\" >271</td>\n",
              "<td id=\"T_5c4f8a7a_2f7a_11ea_aff7_0242ac1c0002row6_col1\" class=\"data row6 col1\" >7</td>\n",
              "<td id=\"T_5c4f8a7a_2f7a_11ea_aff7_0242ac1c0002row6_col2\" class=\"data row6 col2\" >264</td>\n",
              "<td id=\"T_5c4f8a7a_2f7a_11ea_aff7_0242ac1c0002row6_col3\" class=\"data row6 col3\" >2.58303</td>\n",
              "<td id=\"T_5c4f8a7a_2f7a_11ea_aff7_0242ac1c0002row6_col4\" class=\"data row6 col4\" >296</td>\n",
              "<td id=\"T_5c4f8a7a_2f7a_11ea_aff7_0242ac1c0002row6_col5\" class=\"data row6 col5\" >1331</td>\n",
              "<td id=\"T_5c4f8a7a_2f7a_11ea_aff7_0242ac1c0002row6_col6\" class=\"data row6 col6\" >95.1768</td>\n",
              "<td id=\"T_5c4f8a7a_2f7a_11ea_aff7_0242ac1c0002row6_col7\" class=\"data row6 col7\" >55.4352</td>\n",
              "<td id=\"T_5c4f8a7a_2f7a_11ea_aff7_0242ac1c0002row6_col8\" class=\"data row6 col8\" >39.7416</td>\n",
              "</tr>\n",
              "<tr>\n",
              "<th id=\"T_5c4f8a7a_2f7a_11ea_aff7_0242ac1c0002level0_row7\" class=\"row_heading level0 row7\" >7.0</th>\n",
              "<td id=\"T_5c4f8a7a_2f7a_11ea_aff7_0242ac1c0002row7_col0\" class=\"data row7 col0\" >271</td>\n",
              "<td id=\"T_5c4f8a7a_2f7a_11ea_aff7_0242ac1c0002row7_col1\" class=\"data row7 col1\" >10</td>\n",
              "<td id=\"T_5c4f8a7a_2f7a_11ea_aff7_0242ac1c0002row7_col2\" class=\"data row7 col2\" >261</td>\n",
              "<td id=\"T_5c4f8a7a_2f7a_11ea_aff7_0242ac1c0002row7_col3\" class=\"data row7 col3\" >3.69004</td>\n",
              "<td id=\"T_5c4f8a7a_2f7a_11ea_aff7_0242ac1c0002row7_col4\" class=\"data row7 col4\" >306</td>\n",
              "<td id=\"T_5c4f8a7a_2f7a_11ea_aff7_0242ac1c0002row7_col5\" class=\"data row7 col5\" >1592</td>\n",
              "<td id=\"T_5c4f8a7a_2f7a_11ea_aff7_0242ac1c0002row7_col6\" class=\"data row7 col6\" >98.3923</td>\n",
              "<td id=\"T_5c4f8a7a_2f7a_11ea_aff7_0242ac1c0002row7_col7\" class=\"data row7 col7\" >66.3057</td>\n",
              "<td id=\"T_5c4f8a7a_2f7a_11ea_aff7_0242ac1c0002row7_col8\" class=\"data row7 col8\" >32.0866</td>\n",
              "</tr>\n",
              "<tr>\n",
              "<th id=\"T_5c4f8a7a_2f7a_11ea_aff7_0242ac1c0002level0_row8\" class=\"row_heading level0 row8\" >8.0</th>\n",
              "<td id=\"T_5c4f8a7a_2f7a_11ea_aff7_0242ac1c0002row8_col0\" class=\"data row8 col0\" >271</td>\n",
              "<td id=\"T_5c4f8a7a_2f7a_11ea_aff7_0242ac1c0002row8_col1\" class=\"data row8 col1\" >2</td>\n",
              "<td id=\"T_5c4f8a7a_2f7a_11ea_aff7_0242ac1c0002row8_col2\" class=\"data row8 col2\" >269</td>\n",
              "<td id=\"T_5c4f8a7a_2f7a_11ea_aff7_0242ac1c0002row8_col3\" class=\"data row8 col3\" >0.738007</td>\n",
              "<td id=\"T_5c4f8a7a_2f7a_11ea_aff7_0242ac1c0002row8_col4\" class=\"data row8 col4\" >308</td>\n",
              "<td id=\"T_5c4f8a7a_2f7a_11ea_aff7_0242ac1c0002row8_col5\" class=\"data row8 col5\" >1861</td>\n",
              "<td id=\"T_5c4f8a7a_2f7a_11ea_aff7_0242ac1c0002row8_col6\" class=\"data row8 col6\" >99.0354</td>\n",
              "<td id=\"T_5c4f8a7a_2f7a_11ea_aff7_0242ac1c0002row8_col7\" class=\"data row8 col7\" >77.5094</td>\n",
              "<td id=\"T_5c4f8a7a_2f7a_11ea_aff7_0242ac1c0002row8_col8\" class=\"data row8 col8\" >21.526</td>\n",
              "</tr>\n",
              "<tr>\n",
              "<th id=\"T_5c4f8a7a_2f7a_11ea_aff7_0242ac1c0002level0_row9\" class=\"row_heading level0 row9\" >9.0</th>\n",
              "<td id=\"T_5c4f8a7a_2f7a_11ea_aff7_0242ac1c0002row9_col0\" class=\"data row9 col0\" >271</td>\n",
              "<td id=\"T_5c4f8a7a_2f7a_11ea_aff7_0242ac1c0002row9_col1\" class=\"data row9 col1\" >2</td>\n",
              "<td id=\"T_5c4f8a7a_2f7a_11ea_aff7_0242ac1c0002row9_col2\" class=\"data row9 col2\" >269</td>\n",
              "<td id=\"T_5c4f8a7a_2f7a_11ea_aff7_0242ac1c0002row9_col3\" class=\"data row9 col3\" >0.738007</td>\n",
              "<td id=\"T_5c4f8a7a_2f7a_11ea_aff7_0242ac1c0002row9_col4\" class=\"data row9 col4\" >310</td>\n",
              "<td id=\"T_5c4f8a7a_2f7a_11ea_aff7_0242ac1c0002row9_col5\" class=\"data row9 col5\" >2130</td>\n",
              "<td id=\"T_5c4f8a7a_2f7a_11ea_aff7_0242ac1c0002row9_col6\" class=\"data row9 col6\" >99.6785</td>\n",
              "<td id=\"T_5c4f8a7a_2f7a_11ea_aff7_0242ac1c0002row9_col7\" class=\"data row9 col7\" >88.713</td>\n",
              "<td id=\"T_5c4f8a7a_2f7a_11ea_aff7_0242ac1c0002row9_col8\" class=\"data row9 col8\" >10.9654</td>\n",
              "</tr>\n",
              "<tr>\n",
              "<th id=\"T_5c4f8a7a_2f7a_11ea_aff7_0242ac1c0002level0_row10\" class=\"row_heading level0 row10\" >10.0</th>\n",
              "<td id=\"T_5c4f8a7a_2f7a_11ea_aff7_0242ac1c0002row10_col0\" class=\"data row10 col0\" >272</td>\n",
              "<td id=\"T_5c4f8a7a_2f7a_11ea_aff7_0242ac1c0002row10_col1\" class=\"data row10 col1\" >1</td>\n",
              "<td id=\"T_5c4f8a7a_2f7a_11ea_aff7_0242ac1c0002row10_col2\" class=\"data row10 col2\" >271</td>\n",
              "<td id=\"T_5c4f8a7a_2f7a_11ea_aff7_0242ac1c0002row10_col3\" class=\"data row10 col3\" >0.367647</td>\n",
              "<td id=\"T_5c4f8a7a_2f7a_11ea_aff7_0242ac1c0002row10_col4\" class=\"data row10 col4\" >311</td>\n",
              "<td id=\"T_5c4f8a7a_2f7a_11ea_aff7_0242ac1c0002row10_col5\" class=\"data row10 col5\" >2401</td>\n",
              "<td id=\"T_5c4f8a7a_2f7a_11ea_aff7_0242ac1c0002row10_col6\" class=\"data row10 col6\" >100</td>\n",
              "<td id=\"T_5c4f8a7a_2f7a_11ea_aff7_0242ac1c0002row10_col7\" class=\"data row10 col7\" >100</td>\n",
              "<td id=\"T_5c4f8a7a_2f7a_11ea_aff7_0242ac1c0002row10_col8\" class=\"data row10 col8\" >0</td>\n",
              "</tr>\n",
              "</tbody></table>"
            ],
            "text/plain": [
              "<IPython.core.display.HTML object>"
            ]
          },
          "metadata": {
            "tags": []
          },
          "execution_count": 85
        }
      ]
    },
    {
      "cell_type": "code",
      "metadata": {
        "id": "_o4rILdt-dM-",
        "colab_type": "code",
        "colab": {
          "base_uri": "https://localhost:8080/",
          "height": 292
        },
        "outputId": "a02d6822-a64f-47bf-9d71-d68659508277"
      },
      "source": [
        "deciling(scores_test,['DECILE'],'TARGET','NONTARGET')"
      ],
      "execution_count": 86,
      "outputs": [
        {
          "output_type": "execute_result",
          "data": {
            "text/html": [
              "<style  type=\"text/css\" >\n",
              "#T_608f0624_2f7a_11ea_aff7_0242ac1c0002row0_col0 {\n",
              "width:  10em;\n",
              "height:  80%;\n",
              "}    #T_608f0624_2f7a_11ea_aff7_0242ac1c0002row0_col1 {\n",
              "width:  10em;\n",
              "height:  80%;\n",
              "}    #T_608f0624_2f7a_11ea_aff7_0242ac1c0002row0_col3 {\n",
              "width:  10em;\n",
              "height:  80%;\n",
              "}    #T_608f0624_2f7a_11ea_aff7_0242ac1c0002row1_col0 {\n",
              "width:  10em;\n",
              "height:  80%;\n",
              "background:  linear-gradient(90deg,skyblue 100.0%, transparent 100.0%);\n",
              "}    #T_608f0624_2f7a_11ea_aff7_0242ac1c0002row1_col1 {\n",
              "width:  10em;\n",
              "height:  80%;\n",
              "background:  linear-gradient(90deg,skyblue 100.0%, transparent 100.0%);\n",
              "}    #T_608f0624_2f7a_11ea_aff7_0242ac1c0002row1_col3 {\n",
              "width:  10em;\n",
              "height:  80%;\n",
              "background:  linear-gradient(90deg,skyblue 100.0%, transparent 100.0%);\n",
              "}    #T_608f0624_2f7a_11ea_aff7_0242ac1c0002row2_col0 {\n",
              "width:  10em;\n",
              "height:  80%;\n",
              "background:  linear-gradient(90deg,skyblue 100.0%, transparent 100.0%);\n",
              "}    #T_608f0624_2f7a_11ea_aff7_0242ac1c0002row2_col1 {\n",
              "width:  10em;\n",
              "height:  80%;\n",
              "background:  linear-gradient(90deg,skyblue 47.3%, transparent 47.3%);\n",
              "}    #T_608f0624_2f7a_11ea_aff7_0242ac1c0002row2_col3 {\n",
              "width:  10em;\n",
              "height:  80%;\n",
              "background:  linear-gradient(90deg,skyblue 47.3%, transparent 47.3%);\n",
              "}    #T_608f0624_2f7a_11ea_aff7_0242ac1c0002row3_col0 {\n",
              "width:  10em;\n",
              "height:  80%;\n",
              "background:  linear-gradient(90deg,skyblue 100.0%, transparent 100.0%);\n",
              "}    #T_608f0624_2f7a_11ea_aff7_0242ac1c0002row3_col1 {\n",
              "width:  10em;\n",
              "height:  80%;\n",
              "background:  linear-gradient(90deg,skyblue 38.5%, transparent 38.5%);\n",
              "}    #T_608f0624_2f7a_11ea_aff7_0242ac1c0002row3_col3 {\n",
              "width:  10em;\n",
              "height:  80%;\n",
              "background:  linear-gradient(90deg,skyblue 38.5%, transparent 38.5%);\n",
              "}    #T_608f0624_2f7a_11ea_aff7_0242ac1c0002row3_col8 {\n",
              "background-color:  yellow;\n",
              "}    #T_608f0624_2f7a_11ea_aff7_0242ac1c0002row4_col0 {\n",
              "width:  10em;\n",
              "height:  80%;\n",
              "background:  linear-gradient(90deg,skyblue 100.0%, transparent 100.0%);\n",
              "}    #T_608f0624_2f7a_11ea_aff7_0242ac1c0002row4_col1 {\n",
              "width:  10em;\n",
              "height:  80%;\n",
              "background:  linear-gradient(90deg,skyblue 14.3%, transparent 14.3%);\n",
              "}    #T_608f0624_2f7a_11ea_aff7_0242ac1c0002row4_col3 {\n",
              "width:  10em;\n",
              "height:  80%;\n",
              "background:  linear-gradient(90deg,skyblue 14.3%, transparent 14.3%);\n",
              "}    #T_608f0624_2f7a_11ea_aff7_0242ac1c0002row5_col0 {\n",
              "width:  10em;\n",
              "height:  80%;\n",
              "background:  linear-gradient(90deg,skyblue 99.4%, transparent 99.4%);\n",
              "}    #T_608f0624_2f7a_11ea_aff7_0242ac1c0002row5_col1 {\n",
              "width:  10em;\n",
              "height:  80%;\n",
              "background:  linear-gradient(90deg,skyblue 12.1%, transparent 12.1%);\n",
              "}    #T_608f0624_2f7a_11ea_aff7_0242ac1c0002row5_col3 {\n",
              "width:  10em;\n",
              "height:  80%;\n",
              "background:  linear-gradient(90deg,skyblue 12.2%, transparent 12.2%);\n",
              "}    #T_608f0624_2f7a_11ea_aff7_0242ac1c0002row6_col0 {\n",
              "width:  10em;\n",
              "height:  80%;\n",
              "background:  linear-gradient(90deg,skyblue 100.0%, transparent 100.0%);\n",
              "}    #T_608f0624_2f7a_11ea_aff7_0242ac1c0002row6_col1 {\n",
              "width:  10em;\n",
              "height:  80%;\n",
              "background:  linear-gradient(90deg,skyblue 4.4%, transparent 4.4%);\n",
              "}    #T_608f0624_2f7a_11ea_aff7_0242ac1c0002row6_col3 {\n",
              "width:  10em;\n",
              "height:  80%;\n",
              "background:  linear-gradient(90deg,skyblue 4.4%, transparent 4.4%);\n",
              "}    #T_608f0624_2f7a_11ea_aff7_0242ac1c0002row7_col0 {\n",
              "width:  10em;\n",
              "height:  80%;\n",
              "background:  linear-gradient(90deg,skyblue 100.0%, transparent 100.0%);\n",
              "}    #T_608f0624_2f7a_11ea_aff7_0242ac1c0002row7_col1 {\n",
              "width:  10em;\n",
              "height:  80%;\n",
              "background:  linear-gradient(90deg,skyblue 8.8%, transparent 8.8%);\n",
              "}    #T_608f0624_2f7a_11ea_aff7_0242ac1c0002row7_col3 {\n",
              "width:  10em;\n",
              "height:  80%;\n",
              "background:  linear-gradient(90deg,skyblue 8.8%, transparent 8.8%);\n",
              "}    #T_608f0624_2f7a_11ea_aff7_0242ac1c0002row8_col0 {\n",
              "width:  10em;\n",
              "height:  80%;\n",
              "background:  linear-gradient(90deg,skyblue 100.0%, transparent 100.0%);\n",
              "}    #T_608f0624_2f7a_11ea_aff7_0242ac1c0002row8_col1 {\n",
              "width:  10em;\n",
              "height:  80%;\n",
              "background:  linear-gradient(90deg,skyblue 4.4%, transparent 4.4%);\n",
              "}    #T_608f0624_2f7a_11ea_aff7_0242ac1c0002row8_col3 {\n",
              "width:  10em;\n",
              "height:  80%;\n",
              "background:  linear-gradient(90deg,skyblue 4.4%, transparent 4.4%);\n",
              "}    #T_608f0624_2f7a_11ea_aff7_0242ac1c0002row9_col0 {\n",
              "width:  10em;\n",
              "height:  80%;\n",
              "background:  linear-gradient(90deg,skyblue 100.0%, transparent 100.0%);\n",
              "}    #T_608f0624_2f7a_11ea_aff7_0242ac1c0002row9_col1 {\n",
              "width:  10em;\n",
              "height:  80%;\n",
              "background:  linear-gradient(90deg,skyblue 1.1%, transparent 1.1%);\n",
              "}    #T_608f0624_2f7a_11ea_aff7_0242ac1c0002row9_col3 {\n",
              "width:  10em;\n",
              "height:  80%;\n",
              "background:  linear-gradient(90deg,skyblue 1.1%, transparent 1.1%);\n",
              "}    #T_608f0624_2f7a_11ea_aff7_0242ac1c0002row10_col0 {\n",
              "width:  10em;\n",
              "height:  80%;\n",
              "background:  linear-gradient(90deg,skyblue 100.0%, transparent 100.0%);\n",
              "}    #T_608f0624_2f7a_11ea_aff7_0242ac1c0002row10_col1 {\n",
              "width:  10em;\n",
              "height:  80%;\n",
              "}    #T_608f0624_2f7a_11ea_aff7_0242ac1c0002row10_col3 {\n",
              "width:  10em;\n",
              "height:  80%;\n",
              "}</style><table id=\"T_608f0624_2f7a_11ea_aff7_0242ac1c0002\" ><thead>    <tr>        <th class=\"blank level0\" ></th>        <th class=\"col_heading level0 col0\" >TOTAL</th>        <th class=\"col_heading level0 col1\" >TARGET</th>        <th class=\"col_heading level0 col2\" >NONTARGET</th>        <th class=\"col_heading level0 col3\" >PCT_TAR</th>        <th class=\"col_heading level0 col4\" >CUM_TAR</th>        <th class=\"col_heading level0 col5\" >CUM_NONTAR</th>        <th class=\"col_heading level0 col6\" >DIST_TAR</th>        <th class=\"col_heading level0 col7\" >DIST_NONTAR</th>        <th class=\"col_heading level0 col8\" >SPREAD</th>    </tr>    <tr>        <th class=\"index_name level0\" >DECILE</th>        <th class=\"blank\" ></th>        <th class=\"blank\" ></th>        <th class=\"blank\" ></th>        <th class=\"blank\" ></th>        <th class=\"blank\" ></th>        <th class=\"blank\" ></th>        <th class=\"blank\" ></th>        <th class=\"blank\" ></th>        <th class=\"blank\" ></th>    </tr></thead><tbody>\n",
              "<tr>\n",
              "<th id=\"T_608f0624_2f7a_11ea_aff7_0242ac1c0002level0_row0\" class=\"row_heading level0 row0\" >0.0</th>\n",
              "<td id=\"T_608f0624_2f7a_11ea_aff7_0242ac1c0002row0_col0\" class=\"data row0 col0\" >0</td>\n",
              "<td id=\"T_608f0624_2f7a_11ea_aff7_0242ac1c0002row0_col1\" class=\"data row0 col1\" >0</td>\n",
              "<td id=\"T_608f0624_2f7a_11ea_aff7_0242ac1c0002row0_col2\" class=\"data row0 col2\" >0</td>\n",
              "<td id=\"T_608f0624_2f7a_11ea_aff7_0242ac1c0002row0_col3\" class=\"data row0 col3\" >0</td>\n",
              "<td id=\"T_608f0624_2f7a_11ea_aff7_0242ac1c0002row0_col4\" class=\"data row0 col4\" >0</td>\n",
              "<td id=\"T_608f0624_2f7a_11ea_aff7_0242ac1c0002row0_col5\" class=\"data row0 col5\" >0</td>\n",
              "<td id=\"T_608f0624_2f7a_11ea_aff7_0242ac1c0002row0_col6\" class=\"data row0 col6\" >0</td>\n",
              "<td id=\"T_608f0624_2f7a_11ea_aff7_0242ac1c0002row0_col7\" class=\"data row0 col7\" >0</td>\n",
              "<td id=\"T_608f0624_2f7a_11ea_aff7_0242ac1c0002row0_col8\" class=\"data row0 col8\" >0</td>\n",
              "</tr>\n",
              "<tr>\n",
              "<th id=\"T_608f0624_2f7a_11ea_aff7_0242ac1c0002level0_row1\" class=\"row_heading level0 row1\" >1.0</th>\n",
              "<td id=\"T_608f0624_2f7a_11ea_aff7_0242ac1c0002row1_col0\" class=\"data row1 col0\" >181</td>\n",
              "<td id=\"T_608f0624_2f7a_11ea_aff7_0242ac1c0002row1_col1\" class=\"data row1 col1\" >91</td>\n",
              "<td id=\"T_608f0624_2f7a_11ea_aff7_0242ac1c0002row1_col2\" class=\"data row1 col2\" >90</td>\n",
              "<td id=\"T_608f0624_2f7a_11ea_aff7_0242ac1c0002row1_col3\" class=\"data row1 col3\" >50.2762</td>\n",
              "<td id=\"T_608f0624_2f7a_11ea_aff7_0242ac1c0002row1_col4\" class=\"data row1 col4\" >91</td>\n",
              "<td id=\"T_608f0624_2f7a_11ea_aff7_0242ac1c0002row1_col5\" class=\"data row1 col5\" >90</td>\n",
              "<td id=\"T_608f0624_2f7a_11ea_aff7_0242ac1c0002row1_col6\" class=\"data row1 col6\" >43.3333</td>\n",
              "<td id=\"T_608f0624_2f7a_11ea_aff7_0242ac1c0002row1_col7\" class=\"data row1 col7\" >5.62852</td>\n",
              "<td id=\"T_608f0624_2f7a_11ea_aff7_0242ac1c0002row1_col8\" class=\"data row1 col8\" >37.7048</td>\n",
              "</tr>\n",
              "<tr>\n",
              "<th id=\"T_608f0624_2f7a_11ea_aff7_0242ac1c0002level0_row2\" class=\"row_heading level0 row2\" >2.0</th>\n",
              "<td id=\"T_608f0624_2f7a_11ea_aff7_0242ac1c0002row2_col0\" class=\"data row2 col0\" >181</td>\n",
              "<td id=\"T_608f0624_2f7a_11ea_aff7_0242ac1c0002row2_col1\" class=\"data row2 col1\" >43</td>\n",
              "<td id=\"T_608f0624_2f7a_11ea_aff7_0242ac1c0002row2_col2\" class=\"data row2 col2\" >138</td>\n",
              "<td id=\"T_608f0624_2f7a_11ea_aff7_0242ac1c0002row2_col3\" class=\"data row2 col3\" >23.7569</td>\n",
              "<td id=\"T_608f0624_2f7a_11ea_aff7_0242ac1c0002row2_col4\" class=\"data row2 col4\" >134</td>\n",
              "<td id=\"T_608f0624_2f7a_11ea_aff7_0242ac1c0002row2_col5\" class=\"data row2 col5\" >228</td>\n",
              "<td id=\"T_608f0624_2f7a_11ea_aff7_0242ac1c0002row2_col6\" class=\"data row2 col6\" >63.8095</td>\n",
              "<td id=\"T_608f0624_2f7a_11ea_aff7_0242ac1c0002row2_col7\" class=\"data row2 col7\" >14.2589</td>\n",
              "<td id=\"T_608f0624_2f7a_11ea_aff7_0242ac1c0002row2_col8\" class=\"data row2 col8\" >49.5506</td>\n",
              "</tr>\n",
              "<tr>\n",
              "<th id=\"T_608f0624_2f7a_11ea_aff7_0242ac1c0002level0_row3\" class=\"row_heading level0 row3\" >3.0</th>\n",
              "<td id=\"T_608f0624_2f7a_11ea_aff7_0242ac1c0002row3_col0\" class=\"data row3 col0\" >181</td>\n",
              "<td id=\"T_608f0624_2f7a_11ea_aff7_0242ac1c0002row3_col1\" class=\"data row3 col1\" >35</td>\n",
              "<td id=\"T_608f0624_2f7a_11ea_aff7_0242ac1c0002row3_col2\" class=\"data row3 col2\" >146</td>\n",
              "<td id=\"T_608f0624_2f7a_11ea_aff7_0242ac1c0002row3_col3\" class=\"data row3 col3\" >19.337</td>\n",
              "<td id=\"T_608f0624_2f7a_11ea_aff7_0242ac1c0002row3_col4\" class=\"data row3 col4\" >169</td>\n",
              "<td id=\"T_608f0624_2f7a_11ea_aff7_0242ac1c0002row3_col5\" class=\"data row3 col5\" >374</td>\n",
              "<td id=\"T_608f0624_2f7a_11ea_aff7_0242ac1c0002row3_col6\" class=\"data row3 col6\" >80.4762</td>\n",
              "<td id=\"T_608f0624_2f7a_11ea_aff7_0242ac1c0002row3_col7\" class=\"data row3 col7\" >23.3896</td>\n",
              "<td id=\"T_608f0624_2f7a_11ea_aff7_0242ac1c0002row3_col8\" class=\"data row3 col8\" >57.0866</td>\n",
              "</tr>\n",
              "<tr>\n",
              "<th id=\"T_608f0624_2f7a_11ea_aff7_0242ac1c0002level0_row4\" class=\"row_heading level0 row4\" >4.0</th>\n",
              "<td id=\"T_608f0624_2f7a_11ea_aff7_0242ac1c0002row4_col0\" class=\"data row4 col0\" >181</td>\n",
              "<td id=\"T_608f0624_2f7a_11ea_aff7_0242ac1c0002row4_col1\" class=\"data row4 col1\" >13</td>\n",
              "<td id=\"T_608f0624_2f7a_11ea_aff7_0242ac1c0002row4_col2\" class=\"data row4 col2\" >168</td>\n",
              "<td id=\"T_608f0624_2f7a_11ea_aff7_0242ac1c0002row4_col3\" class=\"data row4 col3\" >7.18232</td>\n",
              "<td id=\"T_608f0624_2f7a_11ea_aff7_0242ac1c0002row4_col4\" class=\"data row4 col4\" >182</td>\n",
              "<td id=\"T_608f0624_2f7a_11ea_aff7_0242ac1c0002row4_col5\" class=\"data row4 col5\" >542</td>\n",
              "<td id=\"T_608f0624_2f7a_11ea_aff7_0242ac1c0002row4_col6\" class=\"data row4 col6\" >86.6667</td>\n",
              "<td id=\"T_608f0624_2f7a_11ea_aff7_0242ac1c0002row4_col7\" class=\"data row4 col7\" >33.8962</td>\n",
              "<td id=\"T_608f0624_2f7a_11ea_aff7_0242ac1c0002row4_col8\" class=\"data row4 col8\" >52.7705</td>\n",
              "</tr>\n",
              "<tr>\n",
              "<th id=\"T_608f0624_2f7a_11ea_aff7_0242ac1c0002level0_row5\" class=\"row_heading level0 row5\" >5.0</th>\n",
              "<td id=\"T_608f0624_2f7a_11ea_aff7_0242ac1c0002row5_col0\" class=\"data row5 col0\" >180</td>\n",
              "<td id=\"T_608f0624_2f7a_11ea_aff7_0242ac1c0002row5_col1\" class=\"data row5 col1\" >11</td>\n",
              "<td id=\"T_608f0624_2f7a_11ea_aff7_0242ac1c0002row5_col2\" class=\"data row5 col2\" >169</td>\n",
              "<td id=\"T_608f0624_2f7a_11ea_aff7_0242ac1c0002row5_col3\" class=\"data row5 col3\" >6.11111</td>\n",
              "<td id=\"T_608f0624_2f7a_11ea_aff7_0242ac1c0002row5_col4\" class=\"data row5 col4\" >193</td>\n",
              "<td id=\"T_608f0624_2f7a_11ea_aff7_0242ac1c0002row5_col5\" class=\"data row5 col5\" >711</td>\n",
              "<td id=\"T_608f0624_2f7a_11ea_aff7_0242ac1c0002row5_col6\" class=\"data row5 col6\" >91.9048</td>\n",
              "<td id=\"T_608f0624_2f7a_11ea_aff7_0242ac1c0002row5_col7\" class=\"data row5 col7\" >44.4653</td>\n",
              "<td id=\"T_608f0624_2f7a_11ea_aff7_0242ac1c0002row5_col8\" class=\"data row5 col8\" >47.4395</td>\n",
              "</tr>\n",
              "<tr>\n",
              "<th id=\"T_608f0624_2f7a_11ea_aff7_0242ac1c0002level0_row6\" class=\"row_heading level0 row6\" >6.0</th>\n",
              "<td id=\"T_608f0624_2f7a_11ea_aff7_0242ac1c0002row6_col0\" class=\"data row6 col0\" >181</td>\n",
              "<td id=\"T_608f0624_2f7a_11ea_aff7_0242ac1c0002row6_col1\" class=\"data row6 col1\" >4</td>\n",
              "<td id=\"T_608f0624_2f7a_11ea_aff7_0242ac1c0002row6_col2\" class=\"data row6 col2\" >177</td>\n",
              "<td id=\"T_608f0624_2f7a_11ea_aff7_0242ac1c0002row6_col3\" class=\"data row6 col3\" >2.20994</td>\n",
              "<td id=\"T_608f0624_2f7a_11ea_aff7_0242ac1c0002row6_col4\" class=\"data row6 col4\" >197</td>\n",
              "<td id=\"T_608f0624_2f7a_11ea_aff7_0242ac1c0002row6_col5\" class=\"data row6 col5\" >888</td>\n",
              "<td id=\"T_608f0624_2f7a_11ea_aff7_0242ac1c0002row6_col6\" class=\"data row6 col6\" >93.8095</td>\n",
              "<td id=\"T_608f0624_2f7a_11ea_aff7_0242ac1c0002row6_col7\" class=\"data row6 col7\" >55.5347</td>\n",
              "<td id=\"T_608f0624_2f7a_11ea_aff7_0242ac1c0002row6_col8\" class=\"data row6 col8\" >38.2748</td>\n",
              "</tr>\n",
              "<tr>\n",
              "<th id=\"T_608f0624_2f7a_11ea_aff7_0242ac1c0002level0_row7\" class=\"row_heading level0 row7\" >7.0</th>\n",
              "<td id=\"T_608f0624_2f7a_11ea_aff7_0242ac1c0002row7_col0\" class=\"data row7 col0\" >181</td>\n",
              "<td id=\"T_608f0624_2f7a_11ea_aff7_0242ac1c0002row7_col1\" class=\"data row7 col1\" >8</td>\n",
              "<td id=\"T_608f0624_2f7a_11ea_aff7_0242ac1c0002row7_col2\" class=\"data row7 col2\" >173</td>\n",
              "<td id=\"T_608f0624_2f7a_11ea_aff7_0242ac1c0002row7_col3\" class=\"data row7 col3\" >4.41989</td>\n",
              "<td id=\"T_608f0624_2f7a_11ea_aff7_0242ac1c0002row7_col4\" class=\"data row7 col4\" >205</td>\n",
              "<td id=\"T_608f0624_2f7a_11ea_aff7_0242ac1c0002row7_col5\" class=\"data row7 col5\" >1061</td>\n",
              "<td id=\"T_608f0624_2f7a_11ea_aff7_0242ac1c0002row7_col6\" class=\"data row7 col6\" >97.619</td>\n",
              "<td id=\"T_608f0624_2f7a_11ea_aff7_0242ac1c0002row7_col7\" class=\"data row7 col7\" >66.354</td>\n",
              "<td id=\"T_608f0624_2f7a_11ea_aff7_0242ac1c0002row7_col8\" class=\"data row7 col8\" >31.2651</td>\n",
              "</tr>\n",
              "<tr>\n",
              "<th id=\"T_608f0624_2f7a_11ea_aff7_0242ac1c0002level0_row8\" class=\"row_heading level0 row8\" >8.0</th>\n",
              "<td id=\"T_608f0624_2f7a_11ea_aff7_0242ac1c0002row8_col0\" class=\"data row8 col0\" >181</td>\n",
              "<td id=\"T_608f0624_2f7a_11ea_aff7_0242ac1c0002row8_col1\" class=\"data row8 col1\" >4</td>\n",
              "<td id=\"T_608f0624_2f7a_11ea_aff7_0242ac1c0002row8_col2\" class=\"data row8 col2\" >177</td>\n",
              "<td id=\"T_608f0624_2f7a_11ea_aff7_0242ac1c0002row8_col3\" class=\"data row8 col3\" >2.20994</td>\n",
              "<td id=\"T_608f0624_2f7a_11ea_aff7_0242ac1c0002row8_col4\" class=\"data row8 col4\" >209</td>\n",
              "<td id=\"T_608f0624_2f7a_11ea_aff7_0242ac1c0002row8_col5\" class=\"data row8 col5\" >1238</td>\n",
              "<td id=\"T_608f0624_2f7a_11ea_aff7_0242ac1c0002row8_col6\" class=\"data row8 col6\" >99.5238</td>\n",
              "<td id=\"T_608f0624_2f7a_11ea_aff7_0242ac1c0002row8_col7\" class=\"data row8 col7\" >77.4234</td>\n",
              "<td id=\"T_608f0624_2f7a_11ea_aff7_0242ac1c0002row8_col8\" class=\"data row8 col8\" >22.1004</td>\n",
              "</tr>\n",
              "<tr>\n",
              "<th id=\"T_608f0624_2f7a_11ea_aff7_0242ac1c0002level0_row9\" class=\"row_heading level0 row9\" >9.0</th>\n",
              "<td id=\"T_608f0624_2f7a_11ea_aff7_0242ac1c0002row9_col0\" class=\"data row9 col0\" >181</td>\n",
              "<td id=\"T_608f0624_2f7a_11ea_aff7_0242ac1c0002row9_col1\" class=\"data row9 col1\" >1</td>\n",
              "<td id=\"T_608f0624_2f7a_11ea_aff7_0242ac1c0002row9_col2\" class=\"data row9 col2\" >180</td>\n",
              "<td id=\"T_608f0624_2f7a_11ea_aff7_0242ac1c0002row9_col3\" class=\"data row9 col3\" >0.552486</td>\n",
              "<td id=\"T_608f0624_2f7a_11ea_aff7_0242ac1c0002row9_col4\" class=\"data row9 col4\" >210</td>\n",
              "<td id=\"T_608f0624_2f7a_11ea_aff7_0242ac1c0002row9_col5\" class=\"data row9 col5\" >1418</td>\n",
              "<td id=\"T_608f0624_2f7a_11ea_aff7_0242ac1c0002row9_col6\" class=\"data row9 col6\" >100</td>\n",
              "<td id=\"T_608f0624_2f7a_11ea_aff7_0242ac1c0002row9_col7\" class=\"data row9 col7\" >88.6804</td>\n",
              "<td id=\"T_608f0624_2f7a_11ea_aff7_0242ac1c0002row9_col8\" class=\"data row9 col8\" >11.3196</td>\n",
              "</tr>\n",
              "<tr>\n",
              "<th id=\"T_608f0624_2f7a_11ea_aff7_0242ac1c0002level0_row10\" class=\"row_heading level0 row10\" >10.0</th>\n",
              "<td id=\"T_608f0624_2f7a_11ea_aff7_0242ac1c0002row10_col0\" class=\"data row10 col0\" >181</td>\n",
              "<td id=\"T_608f0624_2f7a_11ea_aff7_0242ac1c0002row10_col1\" class=\"data row10 col1\" >0</td>\n",
              "<td id=\"T_608f0624_2f7a_11ea_aff7_0242ac1c0002row10_col2\" class=\"data row10 col2\" >181</td>\n",
              "<td id=\"T_608f0624_2f7a_11ea_aff7_0242ac1c0002row10_col3\" class=\"data row10 col3\" >0</td>\n",
              "<td id=\"T_608f0624_2f7a_11ea_aff7_0242ac1c0002row10_col4\" class=\"data row10 col4\" >210</td>\n",
              "<td id=\"T_608f0624_2f7a_11ea_aff7_0242ac1c0002row10_col5\" class=\"data row10 col5\" >1599</td>\n",
              "<td id=\"T_608f0624_2f7a_11ea_aff7_0242ac1c0002row10_col6\" class=\"data row10 col6\" >100</td>\n",
              "<td id=\"T_608f0624_2f7a_11ea_aff7_0242ac1c0002row10_col7\" class=\"data row10 col7\" >100</td>\n",
              "<td id=\"T_608f0624_2f7a_11ea_aff7_0242ac1c0002row10_col8\" class=\"data row10 col8\" >0</td>\n",
              "</tr>\n",
              "</tbody></table>"
            ],
            "text/plain": [
              "<IPython.core.display.HTML object>"
            ]
          },
          "metadata": {
            "tags": []
          },
          "execution_count": 86
        }
      ]
    },
    {
      "cell_type": "markdown",
      "metadata": {
        "id": "e3q2q7ak-dNE",
        "colab_type": "text"
      },
      "source": [
        "## Lift chart, Actual vs predicted and Gains chart"
      ]
    },
    {
      "cell_type": "code",
      "metadata": {
        "id": "tcLuxl1N-dNE",
        "colab_type": "code",
        "colab": {}
      },
      "source": [
        "from collections import OrderedDict\n",
        "import pandas as pd\n",
        "import matplotlib.pyplot as plt\n",
        "\n",
        "def plots(agg1,target,type):\n",
        "\n",
        "    plt.figure(1,figsize=(20, 5))\n",
        "\n",
        "    plt.subplot(131)\n",
        "    plt.plot(agg1['DECILE'],agg1['ACTUAL'],label='Actual')\n",
        "    plt.plot(agg1['DECILE'],agg1['PRED'],label='Pred')\n",
        "    plt.xticks(range(10,110,10))\n",
        "    plt.legend(fontsize=15)\n",
        "    plt.grid(True)\n",
        "    plt.title('Actual vs Predicted', fontsize=20)\n",
        "    plt.xlabel(\"Population %\",fontsize=15)\n",
        "    plt.ylabel(str(target) + \" \" + str(type) + \" %\",fontsize=15)\n",
        "\n",
        "    plt.subplot(132)\n",
        "    X = agg1['DECILE'].tolist()\n",
        "    X.append(0)\n",
        "    Y = agg1['DIST_TAR'].tolist()\n",
        "    Y.append(0)\n",
        "    plt.plot(sorted(X),sorted(Y))\n",
        "    plt.plot([0, 100], [0, 100],'r--')\n",
        "    plt.xticks(range(0,110,10))\n",
        "    plt.yticks(range(0,110,10))\n",
        "    plt.grid(True)\n",
        "    plt.title('Gains Chart', fontsize=20)\n",
        "    plt.xlabel(\"Population %\",fontsize=15)\n",
        "    plt.ylabel(str(target) + str(\" DISTRIBUTION\") + \" %\",fontsize=15)\n",
        "    plt.annotate(round(agg1[agg1['DECILE'] == 30].DIST_TAR.item(),2),xy=[30,30], \n",
        "            xytext=(25, agg1[agg1['DECILE'] == 30].DIST_TAR.item() + 5),fontsize = 13)\n",
        "    plt.annotate(round(agg1[agg1['DECILE'] == 50].DIST_TAR.item(),2),xy=[50,50], \n",
        "            xytext=(45, agg1[agg1['DECILE'] == 50].DIST_TAR.item() + 5),fontsize = 13)\n",
        "\n",
        "    plt.subplot(133)\n",
        "    plt.plot(agg1['DECILE'],agg1['LIFT'])\n",
        "    plt.xticks(range(10,110,10))\n",
        "    plt.grid(True)\n",
        "    plt.title('Lift Chart', fontsize=20)\n",
        "    plt.xlabel(\"Population %\",fontsize=15)\n",
        "    plt.ylabel(\"Lift\",fontsize=15)\n",
        "\n",
        "    plt.tight_layout()"
      ],
      "execution_count": 0,
      "outputs": []
    },
    {
      "cell_type": "code",
      "metadata": {
        "id": "p0MFys4C-dNI",
        "colab_type": "code",
        "colab": {}
      },
      "source": [
        "def gains(data,decile_by,target,score):\n",
        "    inputs = list(decile_by)\n",
        "    inputs.extend((target,score))\n",
        "    decile = data[inputs]\n",
        "    grouped = decile.groupby(decile_by)\n",
        "    agg1 = pd.DataFrame({},index=[])\n",
        "    agg1['ACTUAL'] = grouped.mean()[target]*100\n",
        "    agg1['PRED'] = grouped.mean()[score]*100\n",
        "    agg1['DIST_TAR'] = grouped.sum()[target].cumsum()/grouped.sum()[target].sum()*100\n",
        "    agg1.index.name = 'DECILE'\n",
        "    agg1 = agg1.reset_index()\n",
        "    agg1['DECILE'] = agg1['DECILE']*10\n",
        "    agg1['LIFT'] = agg1['DIST_TAR']/agg1['DECILE']\n",
        "    plots(agg1,target,'Distribution')"
      ],
      "execution_count": 0,
      "outputs": []
    },
    {
      "cell_type": "code",
      "metadata": {
        "id": "UyCbItKu-dNK",
        "colab_type": "code",
        "colab": {}
      },
      "source": [
        "lift_train = pd.concat([features_train,scores_train],axis=1)\n",
        "lift_test = pd.concat([features_test,scores_test],axis=1)"
      ],
      "execution_count": 0,
      "outputs": []
    },
    {
      "cell_type": "code",
      "metadata": {
        "id": "qJ_okP2o-dNM",
        "colab_type": "code",
        "colab": {
          "base_uri": "https://localhost:8080/",
          "height": 457
        },
        "outputId": "3b95fc60-15cf-47d5-838e-07ad210eaa90"
      },
      "source": [
        "gains(lift_train,['DECILE'],'TARGET','SCORE')"
      ],
      "execution_count": 90,
      "outputs": [
        {
          "output_type": "stream",
          "text": [
            "/usr/local/lib/python3.6/dist-packages/ipykernel_launcher.py:32: FutureWarning: `item` has been deprecated and will be removed in a future version\n",
            "/usr/local/lib/python3.6/dist-packages/ipykernel_launcher.py:33: FutureWarning: `item` has been deprecated and will be removed in a future version\n",
            "/usr/local/lib/python3.6/dist-packages/ipykernel_launcher.py:34: FutureWarning: `item` has been deprecated and will be removed in a future version\n",
            "/usr/local/lib/python3.6/dist-packages/ipykernel_launcher.py:35: FutureWarning: `item` has been deprecated and will be removed in a future version\n"
          ],
          "name": "stderr"
        },
        {
          "output_type": "display_data",
          "data": {
            "image/png": "[encoded data removed]",
            "text/plain": [
              "<Figure size 1440x360 with 3 Axes>"
            ]
          },
          "metadata": {
            "tags": []
          }
        }
      ]
    },
    {
      "cell_type": "code",
      "metadata": {
        "id": "TyoD3nr9-dNN",
        "colab_type": "code",
        "colab": {
          "base_uri": "https://localhost:8080/",
          "height": 457
        },
        "outputId": "d0208b28-cbae-4f86-dfe1-90321de88cd9"
      },
      "source": [
        "gains(lift_test,['DECILE'],'TARGET','SCORE')"
      ],
      "execution_count": 91,
      "outputs": [
        {
          "output_type": "stream",
          "text": [
            "/usr/local/lib/python3.6/dist-packages/ipykernel_launcher.py:32: FutureWarning: `item` has been deprecated and will be removed in a future version\n",
            "/usr/local/lib/python3.6/dist-packages/ipykernel_launcher.py:33: FutureWarning: `item` has been deprecated and will be removed in a future version\n",
            "/usr/local/lib/python3.6/dist-packages/ipykernel_launcher.py:34: FutureWarning: `item` has been deprecated and will be removed in a future version\n",
            "/usr/local/lib/python3.6/dist-packages/ipykernel_launcher.py:35: FutureWarning: `item` has been deprecated and will be removed in a future version\n"
          ],
          "name": "stderr"
        },
        {
          "output_type": "display_data",
          "data": {
            "image/png": "[encoded data removed]",
            "text/plain": [
              "<Figure size 1440x360 with 3 Axes>"
            ]
          },
          "metadata": {
            "tags": []
          }
        }
      ]
    },
    {
      "cell_type": "markdown",
      "metadata": {
        "id": "RlxwzenW-dNP",
        "colab_type": "text"
      },
      "source": [
        "# Save Model for future use"
      ]
    },
    {
      "cell_type": "code",
      "metadata": {
        "id": "z4DV6OF_-dNQ",
        "colab_type": "code",
        "colab": {
          "base_uri": "https://localhost:8080/",
          "height": 88
        },
        "outputId": "4ad79c14-abfe-4f3b-96ff-75ad80a92e0d"
      },
      "source": [
        "import pandas\n",
        "from sklearn.externals import joblib\n",
        "\n",
        "filename = 'final_model.model'\n",
        "i = [d,clf]\n",
        "joblib.dump(i,filename)"
      ],
      "execution_count": 92,
      "outputs": [
        {
          "output_type": "stream",
          "text": [
            "/usr/local/lib/python3.6/dist-packages/sklearn/externals/joblib/__init__.py:15: DeprecationWarning: sklearn.externals.joblib is deprecated in 0.21 and will be removed in 0.23. Please import this functionality directly from joblib, which can be installed with: pip install joblib. If this warning is raised when loading pickled models, you may need to re-serialize those models with scikit-learn 0.21+.\n",
            "  warnings.warn(msg, category=DeprecationWarning)\n"
          ],
          "name": "stderr"
        },
        {
          "output_type": "execute_result",
          "data": {
            "text/plain": [
              "['final_model.model']"
            ]
          },
          "metadata": {
            "tags": []
          },
          "execution_count": 92
        }
      ]
    },
    {
      "cell_type": "markdown",
      "metadata": {
        "id": "TBfDK_La-dNS",
        "colab_type": "text"
      },
      "source": [
        "# Score New data"
      ]
    },
    {
      "cell_type": "code",
      "metadata": {
        "id": "_oGvfRjx-dNS",
        "colab_type": "code",
        "colab": {}
      },
      "source": [
        "# Use the code to load the model\n",
        "filename = 'final_model.model'\n",
        "\n",
        "from sklearn.externals import joblib\n",
        "d,clf=joblib.load(filename)"
      ],
      "execution_count": 0,
      "outputs": []
    },
    {
      "cell_type": "code",
      "metadata": {
        "id": "kELSl1aL-dNU",
        "colab_type": "code",
        "colab": {}
      },
      "source": [
        "def score_new(features,clf):\n",
        "    score = pd.DataFrame(clf.predict_proba(features)[:,1], columns = ['SCORE'])\n",
        "    score['DECILE'] = pd.qcut(score['SCORE'].rank(method = 'first'),10,labels=range(10,0,-1))\n",
        "    score['DECILE'] = score['DECILE'].astype(float)\n",
        "    return(score)"
      ],
      "execution_count": 0,
      "outputs": []
    },
    {
      "cell_type": "code",
      "metadata": {
        "id": "B6ZKeASjIqzP",
        "colab_type": "code",
        "colab": {
          "base_uri": "https://localhost:8080/",
          "height": 187
        },
        "outputId": "3c04fbec-b520-4701-bccb-9989f3c802d5"
      },
      "source": [
        "d"
      ],
      "execution_count": 96,
      "outputs": [
        {
          "output_type": "execute_result",
          "data": {
            "text/plain": [
              "defaultdict(sklearn.preprocessing.label.LabelEncoder,\n",
              "            {'contact': LabelEncoder(),\n",
              "             'default': LabelEncoder(),\n",
              "             'education': LabelEncoder(),\n",
              "             'housing': LabelEncoder(),\n",
              "             'job': LabelEncoder(),\n",
              "             'loan': LabelEncoder(),\n",
              "             'marital': LabelEncoder(),\n",
              "             'month': LabelEncoder(),\n",
              "             'poutcome': LabelEncoder()})"
            ]
          },
          "metadata": {
            "tags": []
          },
          "execution_count": 96
        }
      ]
    },
    {
      "cell_type": "code",
      "metadata": {
        "id": "Mq0Y78zIIzom",
        "colab_type": "code",
        "colab": {
          "base_uri": "https://localhost:8080/",
          "height": 34
        },
        "outputId": "0657c117-9e4a-4fb8-ac0e-5db917ecebb1"
      },
      "source": [
        "type(d)"
      ],
      "execution_count": 97,
      "outputs": [
        {
          "output_type": "execute_result",
          "data": {
            "text/plain": [
              "collections.defaultdict"
            ]
          },
          "metadata": {
            "tags": []
          },
          "execution_count": 97
        }
      ]
    },
    {
      "cell_type": "code",
      "metadata": {
        "id": "kz-7JIXf-dNW",
        "colab_type": "code",
        "colab": {}
      },
      "source": [
        "scores = score_new(features,clf)"
      ],
      "execution_count": 0,
      "outputs": []
    },
    {
      "cell_type": "code",
      "metadata": {
        "id": "SXuTpzc8IlOd",
        "colab_type": "code",
        "colab": {
          "base_uri": "https://localhost:8080/",
          "height": 419
        },
        "outputId": "9544fcef-469c-4f20-9c89-9686d114149c"
      },
      "source": [
        "scores"
      ],
      "execution_count": 99,
      "outputs": [
        {
          "output_type": "execute_result",
          "data": {
            "text/html": [
              "<div>\n",
              "<style scoped>\n",
              "    .dataframe tbody tr th:only-of-type {\n",
              "        vertical-align: middle;\n",
              "    }\n",
              "\n",
              "    .dataframe tbody tr th {\n",
              "        vertical-align: top;\n",
              "    }\n",
              "\n",
              "    .dataframe thead th {\n",
              "        text-align: right;\n",
              "    }\n",
              "</style>\n",
              "<table border=\"1\" class=\"dataframe\">\n",
              "  <thead>\n",
              "    <tr style=\"text-align: right;\">\n",
              "      <th></th>\n",
              "      <th>SCORE</th>\n",
              "      <th>DECILE</th>\n",
              "    </tr>\n",
              "  </thead>\n",
              "  <tbody>\n",
              "    <tr>\n",
              "      <th>0</th>\n",
              "      <td>0.11</td>\n",
              "      <td>4.00</td>\n",
              "    </tr>\n",
              "    <tr>\n",
              "      <th>1</th>\n",
              "      <td>0.12</td>\n",
              "      <td>3.00</td>\n",
              "    </tr>\n",
              "    <tr>\n",
              "      <th>2</th>\n",
              "      <td>0.10</td>\n",
              "      <td>4.00</td>\n",
              "    </tr>\n",
              "    <tr>\n",
              "      <th>3</th>\n",
              "      <td>0.01</td>\n",
              "      <td>10.00</td>\n",
              "    </tr>\n",
              "    <tr>\n",
              "      <th>4</th>\n",
              "      <td>0.02</td>\n",
              "      <td>9.00</td>\n",
              "    </tr>\n",
              "    <tr>\n",
              "      <th>...</th>\n",
              "      <td>...</td>\n",
              "      <td>...</td>\n",
              "    </tr>\n",
              "    <tr>\n",
              "      <th>4516</th>\n",
              "      <td>0.07</td>\n",
              "      <td>5.00</td>\n",
              "    </tr>\n",
              "    <tr>\n",
              "      <th>4517</th>\n",
              "      <td>0.01</td>\n",
              "      <td>10.00</td>\n",
              "    </tr>\n",
              "    <tr>\n",
              "      <th>4518</th>\n",
              "      <td>0.05</td>\n",
              "      <td>6.00</td>\n",
              "    </tr>\n",
              "    <tr>\n",
              "      <th>4519</th>\n",
              "      <td>0.16</td>\n",
              "      <td>3.00</td>\n",
              "    </tr>\n",
              "    <tr>\n",
              "      <th>4520</th>\n",
              "      <td>0.12</td>\n",
              "      <td>3.00</td>\n",
              "    </tr>\n",
              "  </tbody>\n",
              "</table>\n",
              "<p>4521 rows × 2 columns</p>\n",
              "</div>"
            ],
            "text/plain": [
              "      SCORE  DECILE\n",
              "0      0.11    4.00\n",
              "1      0.12    3.00\n",
              "2      0.10    4.00\n",
              "3      0.01   10.00\n",
              "4      0.02    9.00\n",
              "...     ...     ...\n",
              "4516   0.07    5.00\n",
              "4517   0.01   10.00\n",
              "4518   0.05    6.00\n",
              "4519   0.16    3.00\n",
              "4520   0.12    3.00\n",
              "\n",
              "[4521 rows x 2 columns]"
            ]
          },
          "metadata": {
            "tags": []
          },
          "execution_count": 99
        }
      ]
    },
    {
      "cell_type": "code",
      "metadata": {
        "id": "csNfoyV9JqZ0",
        "colab_type": "code",
        "colab": {}
      },
      "source": [
        ""
      ],
      "execution_count": 0,
      "outputs": []
    }
  ]
}