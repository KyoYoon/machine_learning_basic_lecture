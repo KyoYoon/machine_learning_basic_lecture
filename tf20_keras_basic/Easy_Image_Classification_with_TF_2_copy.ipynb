{
  "nbformat": 4,
  "nbformat_minor": 0,
  "metadata": {
    "colab": {
      "name": "Easy Image Classification with TF 2_copy.ipynb",
      "provenance": [],
      "collapsed_sections": [],
      "toc_visible": true
    },
    "kernelspec": {
      "name": "python3",
      "display_name": "Python 3"
    },
    "accelerator": "GPU"
  },
  "cells": [
    {
      "cell_type": "markdown",
      "metadata": {
        "id": "Xn0Cu0UE06IL",
        "colab_type": "text"
      },
      "source": [
        "# Download data from Kaggle"
      ]
    },
    {
      "cell_type": "code",
      "metadata": {
        "id": "uq56SAx8ynws",
        "colab_type": "code",
        "colab": {}
      },
      "source": [
        "# Reference: https://towardsdatascience.com/easy-image-classification-with-tensorflow-2-0-f734fee52d13 \n",
        "# Reference: https://github.com/cameroncruz/notebooks/blob/master/Easy_Image_Classification_with_TF_2.ipynb "
      ],
      "execution_count": 0,
      "outputs": []
    },
    {
      "cell_type": "code",
      "metadata": {
        "id": "oaesVnQt1A4U",
        "colab_type": "code",
        "colab": {}
      },
      "source": [
        "# Setup Kaggle API\n",
        "!pip install -U -q kaggle\n",
        "!mkdir -p ~/.kaggle"
      ],
      "execution_count": 0,
      "outputs": []
    },
    {
      "cell_type": "code",
      "metadata": {
        "id": "Awyu9mft29aq",
        "colab_type": "code",
        "colab": {}
      },
      "source": [
        "!mv /content/kaggle.json ~/.kaggle/kaggle.json\n",
        "!chmod 600 ~/.kaggle/kaggle.json"
      ],
      "execution_count": 0,
      "outputs": []
    },
    {
      "cell_type": "code",
      "metadata": {
        "id": "JY0uT4SI4j08",
        "colab_type": "code",
        "outputId": "44380b60-a7f3-47c0-b3ee-73e414fa03e0",
        "colab": {
          "base_uri": "https://localhost:8080/",
          "height": 221
        }
      },
      "source": [
        "# Download dataset\n",
        "!mkdir -p data\n",
        "!kaggle competitions download -c aerial-cactus-identification -p data"
      ],
      "execution_count": 0,
      "outputs": [
        {
          "output_type": "stream",
          "text": [
            "Downloading train.csv to data\n",
            "\r  0% 0.00/667k [00:00<?, ?B/s]\n",
            "\r100% 667k/667k [00:00<00:00, 43.3MB/s]\n",
            "Downloading sample_submission.csv to data\n",
            "\r  0% 0.00/160k [00:00<?, ?B/s]\n",
            "100% 160k/160k [00:00<00:00, 50.3MB/s]\n",
            "Downloading test.zip to data\n",
            "  0% 0.00/4.20M [00:00<?, ?B/s]\n",
            "100% 4.20M/4.20M [00:00<00:00, 139MB/s]\n",
            "Downloading train.zip to data\n",
            " 36% 7.00M/19.2M [00:00<00:00, 70.0MB/s]\n",
            "100% 19.2M/19.2M [00:00<00:00, 93.9MB/s]\n"
          ],
          "name": "stdout"
        }
      ]
    },
    {
      "cell_type": "code",
      "metadata": {
        "id": "JfldO-qy5LuF",
        "colab_type": "code",
        "colab": {}
      },
      "source": [
        "# Unzip dataset\n",
        "!unzip data/train.zip -d data\n",
        "!unzip data/test.zip -d data"
      ],
      "execution_count": 0,
      "outputs": []
    },
    {
      "cell_type": "markdown",
      "metadata": {
        "id": "9OXQvf4Z1Mac",
        "colab_type": "text"
      },
      "source": [
        "# Install Deps"
      ]
    },
    {
      "cell_type": "code",
      "metadata": {
        "id": "8MGw-k4F1gsl",
        "colab_type": "code",
        "colab": {}
      },
      "source": [
        "!pip install tensorflow-gpu==2.0.0-alpha0"
      ],
      "execution_count": 0,
      "outputs": []
    },
    {
      "cell_type": "code",
      "metadata": {
        "id": "eZ9tr9cM1Pbx",
        "colab_type": "code",
        "outputId": "f95c4e4d-8164-446e-c396-1b96dc1c1dd1",
        "colab": {
          "base_uri": "https://localhost:8080/",
          "height": 34
        }
      },
      "source": [
        "import tensorflow as tf\n",
        "import pandas as pd\n",
        "import matplotlib.pyplot as plt\n",
        "from sklearn.model_selection import train_test_split\n",
        "from IPython.display import Image, display\n",
        "\n",
        "print(tf.__version__)"
      ],
      "execution_count": 0,
      "outputs": [
        {
          "output_type": "stream",
          "text": [
            "1.13.1\n"
          ],
          "name": "stdout"
        }
      ]
    },
    {
      "cell_type": "markdown",
      "metadata": {
        "id": "pshy6xkkKS_J",
        "colab_type": "text"
      },
      "source": [
        "# Inspect Data"
      ]
    },
    {
      "cell_type": "code",
      "metadata": {
        "id": "I55FjqekKXcH",
        "colab_type": "code",
        "colab": {}
      },
      "source": [
        "train_csv = pd.read_csv('data/train.csv')\n",
        "print(train_csv.describe())\n",
        "print(train_csv.head())"
      ],
      "execution_count": 0,
      "outputs": []
    },
    {
      "cell_type": "code",
      "metadata": {
        "id": "hrtsXNbJKkjc",
        "colab_type": "code",
        "outputId": "9310b7c6-b105-4a2d-f8c1-a6dcd0227051",
        "colab": {
          "base_uri": "https://localhost:8080/",
          "height": 145
        }
      },
      "source": [
        "# Cactus\n",
        "display(Image('data/train/0004be2cfeaba1c0361d39e2b000257b.jpg'))\n",
        "display(Image('data/train/000c8a36845c0208e833c79c1bffedd1.jpg'))\n",
        "\n",
        "# No cactus\n",
        "display(Image('data/train/ffede47a74e47a5930f81c0b6896479e.jpg'))\n",
        "display(Image('data/train/fff43acb3b7a23edcc4ae937be2b7522.jpg'))"
      ],
      "execution_count": 0,
      "outputs": [
        {
          "output_type": "display_data",
          "data": {
            "image/jpeg": "[encoded data removed]",
            "text/plain": [
              "<IPython.core.display.Image object>"
            ]
          },
          "metadata": {
            "tags": []
          }
        },
        {
          "output_type": "display_data",
          "data": {
            "image/jpeg": "[encoded data removed]",
            "text/plain": [
              "<IPython.core.display.Image object>"
            ]
          },
          "metadata": {
            "tags": []
          }
        },
        {
          "output_type": "display_data",
          "data": {
            "image/jpeg": "[encoded data removed]",
            "text/plain": [
              "<IPython.core.display.Image object>"
            ]
          },
          "metadata": {
            "tags": []
          }
        },
        {
          "output_type": "display_data",
          "data": {
            "image/jpeg": "[encoded data removed]",
            "text/plain": [
              "<IPython.core.display.Image object>"
            ]
          },
          "metadata": {
            "tags": []
          }
        }
      ]
    },
    {
      "cell_type": "markdown",
      "metadata": {
        "id": "sZz_tVKHPG_A",
        "colab_type": "text"
      },
      "source": [
        "# Preprocess Data"
      ]
    },
    {
      "cell_type": "code",
      "metadata": {
        "id": "h3-YukDsRzim",
        "colab_type": "code",
        "colab": {}
      },
      "source": [
        "filenames = ['data/train/' + fname for fname in train_csv['id'].tolist()]\n",
        "labels = train_csv['has_cactus'].tolist()\n",
        "\n",
        "\n",
        "train_filenames, val_filenames, train_labels, val_labels = train_test_split(filenames,\n",
        "                                                                            labels,\n",
        "                                                                            train_size=0.9,\n",
        "                                                                            random_state=420)\n",
        "\n",
        "num_train = len(train_filenames)\n",
        "num_val = len(val_filenames)"
      ],
      "execution_count": 0,
      "outputs": []
    },
    {
      "cell_type": "code",
      "metadata": {
        "id": "cGU129RExw5h",
        "colab_type": "code",
        "colab": {}
      },
      "source": [
        "IMAGE_SIZE = 96\n",
        "\n",
        "\n",
        "def _parse_fn(filename, label):\n",
        "  image_string = tf.io.read_file(filename)\n",
        "  image_decoded = tf.image.decode_jpeg(image_string)\n",
        "  image_normalized = (tf.cast(image_decoded, tf.float32)/127.5) - 1\n",
        "  image_resized = tf.image.resize(image_normalized, (IMAGE_SIZE, IMAGE_SIZE))\n",
        "  return image_resized, label"
      ],
      "execution_count": 0,
      "outputs": []
    },
    {
      "cell_type": "code",
      "metadata": {
        "id": "YQ2GlcZpK58G",
        "colab_type": "code",
        "colab": {}
      },
      "source": [
        "BATCH_SIZE = 32\n",
        "\n",
        "train_data = tf.data.Dataset.from_tensor_slices((tf.constant(train_filenames), tf.constant(train_labels))).map(_parse_fn).shuffle(buffer_size=10000).batch(BATCH_SIZE)\n",
        "\n",
        "\n",
        "val_data = tf.data.Dataset.from_tensor_slices((tf.constant(val_filenames), tf.constant(val_labels))).map(_parse_fn).batch(BATCH_SIZE)"
      ],
      "execution_count": 0,
      "outputs": []
    },
    {
      "cell_type": "markdown",
      "metadata": {
        "id": "29ztNoopPKpo",
        "colab_type": "text"
      },
      "source": [
        "# Define Model"
      ]
    },
    {
      "cell_type": "code",
      "metadata": {
        "id": "60OZjAI6PPV2",
        "colab_type": "code",
        "outputId": "630ec397-31d3-4dc3-9618-731d23c16869",
        "colab": {
          "base_uri": "https://localhost:8080/",
          "height": 71
        }
      },
      "source": [
        "# Base model with MobileNetV2\n",
        "IMG_SHAPE = (IMAGE_SIZE, IMAGE_SIZE, 3)\n",
        "\n",
        "base_model = tf.keras.applications.MobileNetV2(input_shape=IMG_SHAPE,\n",
        "                                               include_top=False, \n",
        "                                               weights='imagenet')\n",
        "base_model.trainable = False"
      ],
      "execution_count": 0,
      "outputs": [
        {
          "output_type": "stream",
          "text": [
            "Downloading data from https://github.com/JonathanCMitchell/mobilenet_v2_keras/releases/download/v1.1/mobilenet_v2_weights_tf_dim_ordering_tf_kernels_1.0_96_no_top.h5\n",
            "9412608/9406464 [==============================] - 1s 0us/step\n"
          ],
          "name": "stdout"
        }
      ]
    },
    {
      "cell_type": "code",
      "metadata": {
        "id": "kJb-b4pE6_wO",
        "colab_type": "code",
        "colab": {}
      },
      "source": [
        "# Trainable classification head\n",
        "maxpool_layer = tf.keras.layers.GlobalMaxPooling2D()\n",
        "prediction_layer = tf.keras.layers.Dense(1, activation='sigmoid')"
      ],
      "execution_count": 0,
      "outputs": []
    },
    {
      "cell_type": "code",
      "metadata": {
        "id": "hS6vE25E7Wzq",
        "colab_type": "code",
        "outputId": "8e4ba644-918c-44d4-b139-3ca3466c578a",
        "colab": {
          "base_uri": "https://localhost:8080/",
          "height": 255
        }
      },
      "source": [
        "learning_rate = 0.0001\n",
        "\n",
        "model = tf.keras.Sequential([\n",
        "    base_model,\n",
        "    maxpool_layer,\n",
        "    prediction_layer\n",
        "])\n",
        "\n",
        "model.compile(optimizer=tf.keras.optimizers.Adam(lr=learning_rate),\n",
        "             loss='binary_crossentropy',\n",
        "             metrics=['accuracy'])\n",
        "\n",
        "model.summary()"
      ],
      "execution_count": 0,
      "outputs": [
        {
          "output_type": "stream",
          "text": [
            "Model: \"sequential\"\n",
            "_________________________________________________________________\n",
            "Layer (type)                 Output Shape              Param #   \n",
            "=================================================================\n",
            "mobilenetv2_1.00_96 (Model)  (None, 3, 3, 1280)        2257984   \n",
            "_________________________________________________________________\n",
            "global_max_pooling2d (Global (None, 1280)              0         \n",
            "_________________________________________________________________\n",
            "dense (Dense)                (None, 1)                 1281      \n",
            "=================================================================\n",
            "Total params: 2,259,265\n",
            "Trainable params: 1,281\n",
            "Non-trainable params: 2,257,984\n",
            "_________________________________________________________________\n"
          ],
          "name": "stdout"
        }
      ]
    },
    {
      "cell_type": "markdown",
      "metadata": {
        "id": "iknJ269VPOiw",
        "colab_type": "text"
      },
      "source": [
        "# Train"
      ]
    },
    {
      "cell_type": "code",
      "metadata": {
        "id": "LlhFGT5CPROa",
        "colab_type": "code",
        "colab": {}
      },
      "source": [
        "num_epochs = 30\n",
        "steps_per_epoch = round(num_train)//BATCH_SIZE\n",
        "val_steps = 20"
      ],
      "execution_count": 0,
      "outputs": []
    },
    {
      "cell_type": "code",
      "metadata": {
        "id": "eENW-XWo-O2T",
        "colab_type": "code",
        "colab": {}
      },
      "source": [
        "history = model.fit(train_data.repeat(),\n",
        "                    epochs=num_epochs,\n",
        "                    steps_per_epoch = steps_per_epoch,\n",
        "                    validation_data=val_data.repeat(), \n",
        "                    validation_steps=val_steps)"
      ],
      "execution_count": 0,
      "outputs": []
    },
    {
      "cell_type": "code",
      "metadata": {
        "id": "sjFrer4mGk_I",
        "colab_type": "code",
        "colab": {}
      },
      "source": [
        "# Save model weights\n",
        "model.save_weights('weights_epoch_30.h5')"
      ],
      "execution_count": 0,
      "outputs": []
    },
    {
      "cell_type": "code",
      "metadata": {
        "id": "e3ilB5R6B0t9",
        "colab_type": "code",
        "outputId": "76e24540-87d4-4542-e1f4-7725929272cc",
        "colab": {
          "base_uri": "https://localhost:8080/",
          "height": 512
        }
      },
      "source": [
        "acc = history.history['accuracy']\n",
        "val_acc = history.history['val_accuracy']\n",
        "\n",
        "loss = history.history['loss']\n",
        "val_loss = history.history['val_loss']\n",
        "\n",
        "plt.figure(figsize=(8, 8))\n",
        "plt.subplot(2, 1, 1)\n",
        "plt.plot(acc, label='Training Accuracy')\n",
        "plt.plot(val_acc, label='Validation Accuracy')\n",
        "plt.legend(loc='lower right')\n",
        "plt.ylabel('Accuracy')\n",
        "plt.title('Training and Validation Accuracy')\n",
        "\n",
        "plt.subplot(2, 1, 2)\n",
        "plt.plot(loss, label='Training Loss')\n",
        "plt.plot(val_loss, label='Validation Loss')\n",
        "plt.legend(loc='upper right')\n",
        "plt.ylabel('Cross Entropy')\n",
        "plt.title('Training and Validation Loss')\n",
        "plt.xlabel('epoch')\n",
        "plt.show()"
      ],
      "execution_count": 0,
      "outputs": [
        {
          "output_type": "display_data",
          "data": {
            "image/png": "[encoded data removed]",
            "text/plain": [
              "<Figure size 576x576 with 2 Axes>"
            ]
          },
          "metadata": {
            "tags": []
          }
        }
      ]
    },
    {
      "cell_type": "markdown",
      "metadata": {
        "id": "eZumwblAS89h",
        "colab_type": "text"
      },
      "source": [
        "# Fine Tune"
      ]
    },
    {
      "cell_type": "code",
      "metadata": {
        "id": "uwwyieJwJZT4",
        "colab_type": "code",
        "colab": {}
      },
      "source": [
        "# Unfreeze all layers of MobileNetV2\n",
        "base_model.trainable = True\n",
        "\n",
        "# Refreeze layers until the layers we want to fine-tune\n",
        "for layer in base_model.layers[:100]:\n",
        "  layer.trainable =  False"
      ],
      "execution_count": 0,
      "outputs": []
    },
    {
      "cell_type": "code",
      "metadata": {
        "id": "ghmKK9w-KR47",
        "colab_type": "code",
        "outputId": "17f27976-3e39-48aa-844a-88c0b31d20c9",
        "colab": {
          "base_uri": "https://localhost:8080/",
          "height": 255
        }
      },
      "source": [
        "model.compile(loss='binary_crossentropy',\n",
        "              optimizer = tf.keras.optimizers.Adam(lr=learning_rate/10),\n",
        "              metrics=['accuracy'])\n",
        "model.summary()"
      ],
      "execution_count": 0,
      "outputs": [
        {
          "output_type": "stream",
          "text": [
            "Model: \"sequential\"\n",
            "_________________________________________________________________\n",
            "Layer (type)                 Output Shape              Param #   \n",
            "=================================================================\n",
            "mobilenetv2_1.00_96 (Model)  (None, 3, 3, 1280)        2257984   \n",
            "_________________________________________________________________\n",
            "global_max_pooling2d (Global (None, 1280)              0         \n",
            "_________________________________________________________________\n",
            "dense (Dense)                (None, 1)                 1281      \n",
            "=================================================================\n",
            "Total params: 2,259,265\n",
            "Trainable params: 1,863,873\n",
            "Non-trainable params: 395,392\n",
            "_________________________________________________________________\n"
          ],
          "name": "stdout"
        }
      ]
    },
    {
      "cell_type": "code",
      "metadata": {
        "id": "JjQAjSPsKdXo",
        "colab_type": "code",
        "colab": {}
      },
      "source": [
        "fine_tune_epochs = 30\n",
        "total_epochs =  num_epochs + fine_tune_epochs\n",
        "\n",
        "history_fine = model.fit(train_data.repeat(), \n",
        "                         steps_per_epoch = steps_per_epoch,\n",
        "                         epochs=total_epochs, \n",
        "                         initial_epoch = num_epochs,\n",
        "                         validation_data=val_data.repeat(), \n",
        "                         validation_steps=val_steps)"
      ],
      "execution_count": 0,
      "outputs": []
    },
    {
      "cell_type": "code",
      "metadata": {
        "id": "g5QYqleJLzRR",
        "colab_type": "code",
        "colab": {}
      },
      "source": [
        "# Save fine-tuned model weights\n",
        "model.save_weights('weights_epoch_50_finetuned.h5')"
      ],
      "execution_count": 0,
      "outputs": []
    },
    {
      "cell_type": "code",
      "metadata": {
        "id": "39NSyQP0Kt_v",
        "colab_type": "code",
        "colab": {}
      },
      "source": [
        "acc += history_fine.history['accuracy']\n",
        "val_acc += history_fine.history['val_accuracy']\n",
        "\n",
        "loss += history_fine.history['loss']\n",
        "val_loss += history_fine.history['val_loss']"
      ],
      "execution_count": 0,
      "outputs": []
    },
    {
      "cell_type": "code",
      "metadata": {
        "id": "FtY5M0e5KunO",
        "colab_type": "code",
        "outputId": "e3ac204a-c0fd-4f3d-bf17-63b3a7e5b954",
        "colab": {
          "base_uri": "https://localhost:8080/",
          "height": 512
        }
      },
      "source": [
        "plt.figure(figsize=(8, 8))\n",
        "plt.subplot(2, 1, 1)\n",
        "plt.plot(acc, label='Training Accuracy')\n",
        "plt.plot(val_acc, label='Validation Accuracy')\n",
        "plt.plot([num_epochs-1,num_epochs-1], \n",
        "          plt.ylim(), label='Start Fine Tuning')\n",
        "plt.legend(loc='lower right')\n",
        "plt.title('Training and Validation Accuracy')\n",
        "\n",
        "plt.subplot(2, 1, 2)\n",
        "plt.plot(loss, label='Training Loss')\n",
        "plt.plot(val_loss, label='Validation Loss')\n",
        "plt.plot([num_epochs-1,num_epochs-1], \n",
        "         plt.ylim(), label='Start Fine Tuning')\n",
        "plt.legend(loc='upper right')\n",
        "plt.title('Training and Validation Loss')\n",
        "plt.xlabel('epoch')\n",
        "plt.show()"
      ],
      "execution_count": 0,
      "outputs": [
        {
          "output_type": "display_data",
          "data": {
            "image/png": "[encoded data removed]",
            "text/plain": [
              "<Figure size 576x576 with 2 Axes>"
            ]
          },
          "metadata": {
            "tags": []
          }
        }
      ]
    }
  ]
}