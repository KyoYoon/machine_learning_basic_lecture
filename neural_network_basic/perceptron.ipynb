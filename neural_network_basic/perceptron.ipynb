{
  "nbformat": 4,
  "nbformat_minor": 0,
  "metadata": {
    "colab": {
      "name": "perceptron.ipynb",
      "provenance": [],
      "collapsed_sections": []
    },
    "kernelspec": {
      "name": "python3",
      "display_name": "Python 3"
    }
  },
  "cells": [
    {
      "cell_type": "code",
      "metadata": {
        "id": "AMka7Xv04KRv",
        "colab_type": "code",
        "colab": {}
      },
      "source": [
        "# Reference: https://m.blog.naver.com/samsjang/220955881668"
      ],
      "execution_count": 0,
      "outputs": []
    },
    {
      "cell_type": "code",
      "metadata": {
        "id": "TxgC6Dr03pkG",
        "colab_type": "code",
        "colab": {}
      },
      "source": [
        "import numpy as np"
      ],
      "execution_count": 0,
      "outputs": []
    },
    {
      "cell_type": "code",
      "metadata": {
        "id": "SKndMgGo3xUy",
        "colab_type": "code",
        "colab": {}
      },
      "source": [
        "class Perceptron:\n",
        "  # eta: learing rate / n_iter: iteration 횟수 / thresholds: 임계값 or 역치 \n",
        "  def __init__(self, thresholds=0.0, eta=0.01, n_iter=10):\n",
        "    self.thresholds = thresholds\n",
        "    self.eta = eta\n",
        "    self.n_iter = n_iter\n",
        "\n",
        "  # training a model\n",
        "  # 트레이닝 데이터 X와 실제 결과값 y를 인자로 받아 머신러닝을 수행하는 함수 \n",
        "  # 일반적으로 트레이닝 데이터를 X(대문자), 실제 결과값을 y(소문자)로 표현 \n",
        "  def fit(self, X, y):\n",
        "\n",
        "    # 가중치(weight)를 numpy array 로 선언 \n",
        "    # X.shape[1]은 트레이닝 데이터의 입력값 개수 \n",
        "    # 예를 들어 X가 4 * 2 배열의 경우 X.shape[1]은 2가 됨 \n",
        "    # 이 경우 self.w_는 np.zeros(3)이 되고 실제 값은 numpy array [0., 0., 0]이 됨 \n",
        "    self.w_ = np.zeros(1+X.shape[1])\n",
        "\n",
        "    # 머신러닝 반복 회수에 따라 퍼셉트론의 예측값과 실제값이 다른 오류 횟수를 저장하기 위한 변수 \n",
        "    self.errors_ = []\n",
        "\n",
        "    # self.n_iter 에 정의된 숫자만큼 반복 \n",
        "    # for 뒤에 _ 는 아무 의미없는 숫자이며 특정 횟수만 반복만 하면 되기 때문에 이렇게 선언 \n",
        "    for _ in range(self.n_iter):\n",
        "\n",
        "      # 초기 오류 횟수를 0으로 선언 \n",
        "      errors = 0\n",
        "\n",
        "      # 트레이닝 데이터 셋트 X와 결과값 y를 하나씩 추출해서 xi와 target에 넣음\n",
        "      # xi는 하나의 트레이닝 데이터의 모든 입력값 x1 ~ xn까지를 의미하여 x0는 1으로 고정되어 있음 \n",
        "      for xi, target in zip(X, y):\n",
        "\n",
        "        # update는 실제 결과값과 예측값에 대한 활성 함수 리턴값 \n",
        "        # 실제 결과값과 예측값이 동일하면 update는 0이 됨 \n",
        "        # 따라서, 트레이닝 데이터의 xi의 값에 곱해지는 가중치에 update를 단순히 더함으로써 가중치를 업데이트할 수 있는데\n",
        "        # 결과값과 예측값에 대한 활성 함수 리턴값이 같아질 경우 0을 더하는 꼴이라 가중치의 변화가 없을 것이고 \n",
        "        # 다를 경우 0이 아닌 유효한 값이 더해져서 가중치가 업데이트가 될 것이기 때문이다. \n",
        "        # self_w_[0]에는 x0가 1이므로 update만 더하면 됨 \n",
        "        update = self.eta * (target - self.predict(xi))\n",
        "        self.w_[1:] += update * xi\n",
        "        self.w_[0] += update \n",
        "\n",
        "        # update의 값이 0이 아닌 경우 erros의 값을 1 증가시키고 다은 트레이닝 데이터로 넘어감 \n",
        "        errors += int(update!=0.0)\n",
        "\n",
        "      # 모든 트레이닝 데이터에 대해 1회 학습 (epoch = 1)이 끝나면 self.erros_에 오류 횟수를 추가한 후 \n",
        "      # 가중치를 화면에 출력하고 다음 학습을 다시 반복함 \n",
        "      self.errors_.append(errors)\n",
        "      print(self.w_)\n",
        "\n",
        "    return self\n",
        "\n",
        "  # y = W*X + b\n",
        "  # np.dot은 벡터 x,y 의 내적 혹은 행렬 x, y의 곱을 리턴 \n",
        "  \n",
        "  def net_input(self, X):\n",
        "    return np.dot(X, self.w_[1:]) + self.w_[0]\n",
        "\n",
        "  # 입력값이 역치보다 크면 1을 아니면 -1을 리턴\n",
        "  def predict(self, X):\n",
        "    return np.where(self.net_input(X) > self.thresholds, 1, -1)"
      ],
      "execution_count": 0,
      "outputs": []
    },
    {
      "cell_type": "code",
      "metadata": {
        "id": "w5bJwfBL9uq6",
        "colab_type": "code",
        "colab": {
          "base_uri": "https://localhost:8080/",
          "height": 204
        },
        "outputId": "45a82d9f-7d6f-4836-8c94-8a8726ba8028"
      },
      "source": [
        "# 실행부 \n",
        "X = np.array([[0,0], [0,1], [1,0], [1,1]])\n",
        "y = np.array([-1, -1, -1, 1])\n",
        "\n",
        "ppn = Perceptron(eta=0.1)\n",
        "ppn.fit(X, y)\n",
        "print(ppn.errors_)"
      ],
      "execution_count": 5,
      "outputs": [
        {
          "output_type": "stream",
          "text": [
            "[0.2 0.2 0.2]\n",
            "[0.  0.4 0.2]\n",
            "[-0.2  0.4  0.2]\n",
            "[-0.2  0.4  0.4]\n",
            "[-0.4  0.4  0.2]\n",
            "[-0.4  0.4  0.2]\n",
            "[-0.4  0.4  0.2]\n",
            "[-0.4  0.4  0.2]\n",
            "[-0.4  0.4  0.2]\n",
            "[-0.4  0.4  0.2]\n",
            "[1, 3, 3, 2, 1, 0, 0, 0, 0, 0]\n"
          ],
          "name": "stdout"
        }
      ]
    },
    {
      "cell_type": "code",
      "metadata": {
        "id": "QGVH6OGg-Asz",
        "colab_type": "code",
        "colab": {}
      },
      "source": [
        "import matplotlib.pyplot as plt"
      ],
      "execution_count": 0,
      "outputs": []
    },
    {
      "cell_type": "code",
      "metadata": {
        "id": "GYExXCae_CuZ",
        "colab_type": "code",
        "colab": {
          "base_uri": "https://localhost:8080/",
          "height": 296
        },
        "outputId": "2cf8f06f-6e1f-4fdc-9393-e06a22b5d4b6"
      },
      "source": [
        "# 에러 횟수의 변화를 시각화 \n",
        "plt.plot(ppn.errors_)\n",
        "plt.ylabel(\"Errors\")\n",
        "plt.xlabel(\"Epochs\")"
      ],
      "execution_count": 7,
      "outputs": [
        {
          "output_type": "execute_result",
          "data": {
            "text/plain": [
              "Text(0.5, 0, 'Epochs')"
            ]
          },
          "metadata": {
            "tags": []
          },
          "execution_count": 7
        },
        {
          "output_type": "display_data",
          "data": {
            "image/png": "[encoded data removed]",
            "text/plain": [
              "<Figure size 432x288 with 1 Axes>"
            ]
          },
          "metadata": {
            "tags": []
          }
        }
      ]
    },
    {
      "cell_type": "code",
      "metadata": {
        "id": "VQ6MPo8v_LbN",
        "colab_type": "code",
        "colab": {}
      },
      "source": [
        ""
      ],
      "execution_count": 0,
      "outputs": []
    }
  ]
}