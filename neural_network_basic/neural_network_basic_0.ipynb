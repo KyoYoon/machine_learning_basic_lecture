{
  "nbformat": 4,
  "nbformat_minor": 0,
  "metadata": {
    "colab": {
      "name": "neural_network_basic_0.ipynb",
      "provenance": [],
      "collapsed_sections": []
    },
    "kernelspec": {
      "name": "python3",
      "display_name": "Python 3"
    },
    "accelerator": "GPU"
  },
  "cells": [
    {
      "cell_type": "code",
      "metadata": {
        "colab_type": "code",
        "outputId": "b2cc3a25-65f4-44b3-ca4c-c0b5008e41b1",
        "id": "vV1EcKTHrPoU",
        "cellView": "code",
        "colab": {
          "base_uri": "https://localhost:8080/",
          "height": 442
        }
      },
      "source": [
        "import numpy as np\n",
        " \n",
        "def nonlin(x,deriv=False):\n",
        "    if(deriv==True):    #deriv        \n",
        "        return x*(1-x)\n",
        " \n",
        "    return 1/(1+np.exp(-x))    #sigmoid\n",
        "    \n",
        "X = np.array([    [0,0],\n",
        "                [0,1],\n",
        "                [1,0],\n",
        "                [1,1]])\n",
        " \n",
        "#xor output    \n",
        "y = np.array([    [0],\n",
        "        [1],\n",
        "        [1],\n",
        "        [0]])\n",
        "np.random.seed(1)\n",
        " \n",
        "hidden = 8\n",
        "syn0 = 2*np.random.random((2,hidden)) - 1\n",
        "#syn0 = np.zeros((2,hidden))+0.8    #good init\n",
        " \n",
        "syn1 = 2*np.random.random((hidden,1)) - 1\n",
        "#alpha = 1\n",
        " \n",
        "l0 = np.zeros((1,2))\n",
        "l1 = np.zeros((1,hidden))\n",
        "l2 = np.zeros((1,1))\n",
        " \n",
        "for j in range(50000):\n",
        "    for i in range(len(X)):\n",
        "        # Feed forward through layers 0, 1, and 2\n",
        "        l0 = X[i]\n",
        "        l1 = nonlin(np.dot(l0,syn0))\n",
        "        l2 = nonlin(np.dot(l1,syn1))\n",
        " \n",
        "        l2_error = y[i] - l2\n",
        "        l2_delta = l2_error*nonlin(l2,deriv=True)\n",
        "            \n",
        "        if (j% 10000) == 0:\n",
        "            print ((j),\": Error:\" + str(np.mean(np.abs(l2_error) ) ) )\n",
        "            #alpha -= (np.random.random()/8)\n",
        "        \n",
        "        l1_error = l2_delta.dot(syn1.T)\n",
        "        l1_delta = l1_error * nonlin(l1,deriv=True)\n",
        " \n",
        "        syn1 += np.reshape(l1,(-1,1))*l2_delta\n",
        "        syn0 += np.reshape(l0,(-1,1))*l1_delta    \n",
        " \n",
        "print(\"---- result ----\")\n",
        "#evaluate\n",
        "for i in range(len(X)):\n",
        "    l0 = X[i]\n",
        "    l1 = nonlin(np.dot(l0,syn0))\n",
        "    l2 = nonlin(np.dot(l1,syn1))\n",
        "    \n",
        "    print(X[i],\":\", l2)\n"
      ],
      "execution_count": 2,
      "outputs": [
        {
          "output_type": "stream",
          "text": [
            "0 : Error:0.5222942069607804\n",
            "0 : Error:0.49609982346368364\n",
            "0 : Error:0.48354245766231796\n",
            "0 : Error:0.6087199298986444\n",
            "10000 : Error:0.014358755210682533\n",
            "10000 : Error:0.014944299515374126\n",
            "10000 : Error:0.013426875192496301\n",
            "10000 : Error:0.014025770324775038\n",
            "20000 : Error:0.010010436459575394\n",
            "20000 : Error:0.010340612341603439\n",
            "20000 : Error:0.009259039100837474\n",
            "20000 : Error:0.009584515728690327\n",
            "30000 : Error:0.00813191832193535\n",
            "30000 : Error:0.008368617444722615\n",
            "30000 : Error:0.007478660963706196\n",
            "30000 : Error:0.007708128490533465\n",
            "40000 : Error:0.007023717312708019\n",
            "40000 : Error:0.007210619320209166\n",
            "40000 : Error:0.006434937664853813\n",
            "40000 : Error:0.006614552940026992\n",
            "---- result ----\n",
            "[0 0] : [0.00627189]\n",
            "[0 1] : [0.9935729]\n",
            "[1 0] : [0.99427029]\n",
            "[1 1] : [0.00587844]\n"
          ],
          "name": "stdout"
        }
      ]
    },
    {
      "cell_type": "code",
      "metadata": {
        "colab_type": "code",
        "id": "Q1GQwF5grPGD",
        "colab": {}
      },
      "source": [
        ""
      ],
      "execution_count": 0,
      "outputs": []
    }
  ]
}